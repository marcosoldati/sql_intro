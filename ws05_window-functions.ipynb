{
 "cells": [
  {
   "cell_type": "markdown",
   "source": "# Workshop 5: Window functions\n\nMit Window-Functions können in Queries Werte von mehreren Zeilen miteinander verglichen werden. Sie sind mächtig werden aber relativ selten benutzt.  \n\n* Schwierigkeit: fortgeschritten\n* Prüfungsrelevant: nein\n* Zeitaufwand: 15min\n\n",
   "metadata": {
    "tags": [],
    "cell_id": "f4bb8657-e1aa-4694-9c9e-f343d29b199b",
    "deepnote_cell_type": "markdown"
   }
  },
  {
   "cell_type": "code",
   "metadata": {
    "tags": [],
    "deepnote_to_be_reexecuted": false,
    "source_hash": "c74526d2",
    "execution_start": 1631441521612,
    "execution_millis": 26,
    "cell_id": "00001-49d27475-89a2-48e1-a3b1-f69c5b8440b1",
    "deepnote_cell_type": "code"
   },
   "source": "# Hilfsfunktionen laden und ...\nfrom util.sqlite_util import *\n\n# ... Test-Datenbank öffnen\npath = get_connection_path(\"chinook.sqlite\")\nconnection = create_connection(path)",
   "outputs": [
    {
     "name": "stdout",
     "text": "Connection to SQLite DB 2.6.0 (./data/chinook.sqlite) successful\n",
     "output_type": "stream"
    }
   ],
   "execution_count": null
  },
  {
   "cell_type": "code",
   "metadata": {
    "tags": [],
    "deepnote_to_be_reexecuted": false,
    "source_hash": "60ee85dd",
    "execution_start": 1631441521732,
    "execution_millis": 18,
    "cell_id": "00007-ad2edc32-8d3c-42a6-854d-95d5cede4c56",
    "deepnote_cell_type": "code"
   },
   "source": "# Spalte 3 gibt mit LEAD() das Total vom jeweils nächsten Jahr zurück.\nstmt=\"\"\"\nSELECT\n\tCustomerId,\n\tYear,\n\tTotal,\n\tLEAD ( Total,1,0) OVER ( ORDER BY Year ) NextYearTotal\nFROM\n\tCustomerInvoices \nWHERE\n\tCustomerId = 1;\n\"\"\"\ncur = execute_query(connection, stmt)\nprint_results(cur)",
   "outputs": [
    {
     "name": "stdout",
     "text": "['CustomerId', 'Year', 'Total', 'NextYearTotal']\n(1, '2010', 13.879999999999999, 0.99)\n(1, '2011', 0.99, 15.84)\n(1, '2012', 15.84, 8.91)\n(1, '2013', 8.91, 0)\n",
     "output_type": "stream"
    }
   ],
   "execution_count": null
  },
  {
   "cell_type": "code",
   "metadata": {
    "tags": [],
    "deepnote_to_be_reexecuted": false,
    "source_hash": "e6439f11",
    "execution_start": 1631441521751,
    "execution_millis": 20,
    "cell_id": "00008-49acc200-14c0-4b24-9f8b-a6937c3b1d0a",
    "deepnote_cell_type": "code"
   },
   "source": "# Benutze FIRST_VALUE um den ersten Wert in einem Datenset auszulesen. \n# '1.0 *' stellt sicher, dass mit Float anstatt Integer gerechnet wird.\nstmt=\"\"\"\nSELECT AlbumId, name, bytes, 1.0 * bytes /\n    FIRST_VALUE(bytes) OVER (\n        PARTITION BY AlbumId\n        ORDER BY bytes DESC\n    ) AS FractionOfLongestTrack\nFROM\n    tracks\nORDER By albumid, bytes DESC\nLIMIT 50;\n\"\"\"\ncur = execute_query(connection, stmt)\nprint_results(cur)\n",
   "outputs": [
    {
     "name": "stdout",
     "text": "['AlbumId', 'Name', 'Bytes', 'FractionOfLongestTrack']\n(1, 'For Those About To Rock (We Salute You)', 11170334, 1.0)\n(1, 'Spellbound', 8817038, 0.7893262636551422)\n(1, 'Evil Walks', 8611245, 0.7709030902746506)\n(1, 'Breaking The Rules', 8596840, 0.7696135137946636)\n(1, \"Let's Get It Up\", 7636561, 0.6836466125363844)\n(1, 'Inject The Venom', 6852860, 0.6134874749492719)\n(1, 'Put The Finger On You', 6713451, 0.6010071856401071)\n(1, 'Night Of The Long Knives', 6706347, 0.600371215399647)\n(1, 'Snowballed', 6599424, 0.5907991650025863)\n(1, 'C.O.D.', 6566314, 0.5878350638396309)\n",
     "output_type": "stream"
    }
   ],
   "execution_count": null
  },
  {
   "cell_type": "markdown",
   "source": "<a style='text-decoration:none;line-height:16px;display:flex;color:#5B5B62;padding:10px;justify-content:end;' href='https://deepnote.com?utm_source=created-in-deepnote-cell&projectId=0715ae06-549d-47db-ade6-5afadbf2cba1' target=\"_blank\">\n<img alt='Created in deepnote.com' style='display:inline;max-height:16px;margin:0px;margin-right:7.5px;' src='data:image/svg+xml;base64,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' > </img>\nCreated in <span style='font-weight:600;margin-left:4px;'>Deepnote</span></a>",
   "metadata": {
    "tags": [],
    "created_in_deepnote_cell": true,
    "deepnote_cell_type": "markdown"
   }
  }
 ],
 "nbformat": 4,
 "nbformat_minor": 2,
 "metadata": {
  "orig_nbformat": 2,
  "deepnote": {
   "is_reactive": false
  },
  "deepnote_notebook_id": "88080886-de77-497f-94ca-83b762a1e4cc",
  "deepnote_execution_queue": []
 }
}