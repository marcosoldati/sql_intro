{
 "cells": [
  {
   "cell_type": "markdown",
   "metadata": {
    "cell_id": "f4bb8657-e1aa-4694-9c9e-f343d29b199b",
    "deepnote_cell_type": "markdown",
    "tags": []
   },
   "source": [
    "# Workshop 5: Window functions\n",
    "\n",
    "Mit Window-Functions können in Queries Werte von mehreren Zeilen miteinander verglichen werden. Sie sind mächtig werden aber relativ selten benutzt.\n",
    "\n",
    "* Schwierigkeit: fortgeschritten\n",
    "* Prüfungsrelevant: nein\n",
    "* Zeitaufwand: 15min\n",
    "\n",
    "## Vorbereitung\n",
    "Das [sqltutorial](https://www.sqlitetutorial.net/sqlite-window-functions/) bietet eine recht einfache Einführung ins Thema Window-Functions. Bitte diese Seite durchlesen.\n"
   ]
  },
  {
   "cell_type": "code",
   "execution_count": 2,
   "metadata": {
    "cell_id": "00001-49d27475-89a2-48e1-a3b1-f69c5b8440b1",
    "deepnote_cell_type": "code",
    "deepnote_to_be_reexecuted": false,
    "execution_millis": 26,
    "execution_start": 1631441521612,
    "source_hash": "c74526d2",
    "tags": []
   },
   "outputs": [
    {
     "name": "stdout",
     "output_type": "stream",
     "text": [
      "Connection to SQLite DB 2.6.0 (./data/chinook.sqlite) successful\n"
     ]
    }
   ],
   "source": [
    "# Hilfsfunktionen laden und ...\n",
    "from util.sqlite_util import *\n",
    "\n",
    "# ... Test-Datenbank öffnen\n",
    "path = get_connection_path(\"chinook.sqlite\")\n",
    "connection = create_connection(path)"
   ]
  },
  {
   "cell_type": "code",
   "execution_count": 3,
   "metadata": {
    "cell_id": "00007-ad2edc32-8d3c-42a6-854d-95d5cede4c56",
    "deepnote_cell_type": "code",
    "deepnote_to_be_reexecuted": false,
    "execution_millis": 18,
    "execution_start": 1631441521732,
    "source_hash": "60ee85dd",
    "tags": []
   },
   "outputs": [
    {
     "name": "stdout",
     "output_type": "stream",
     "text": [
      "['CustomerId', 'Year', 'Total', 'NextYearTotal']\n",
      "(1, '2010', 13.879999999999999, 0.99)\n",
      "(1, '2011', 0.99, 15.84)\n",
      "(1, '2012', 15.84, 8.91)\n",
      "(1, '2013', 8.91, 0)\n"
     ]
    }
   ],
   "source": [
    "# Es folgen nun zwei Beispiel für die Chiook-Datenbank.\n",
    "# Spalte 3 gibt mit LEAD() das Total vom jeweils nächsten Jahr zurück.\n",
    "stmt=\"\"\"\n",
    "SELECT\n",
    "\tCustomerId,\n",
    "\tYear,\n",
    "\tTotal,\n",
    "\tLEAD ( Total,1,0) OVER ( ORDER BY Year ) NextYearTotal\n",
    "FROM\n",
    "\tCustomerInvoices \n",
    "WHERE\n",
    "\tCustomerId = 1;\n",
    "\"\"\"\n",
    "cur = execute_query(connection, stmt)\n",
    "print_results(cur)"
   ]
  },
  {
   "cell_type": "code",
   "execution_count": 4,
   "metadata": {
    "cell_id": "00008-49acc200-14c0-4b24-9f8b-a6937c3b1d0a",
    "deepnote_cell_type": "code",
    "deepnote_to_be_reexecuted": false,
    "execution_millis": 20,
    "execution_start": 1631441521751,
    "source_hash": "e6439f11",
    "tags": []
   },
   "outputs": [
    {
     "name": "stdout",
     "output_type": "stream",
     "text": [
      "['AlbumId', 'Name', 'Bytes', 'FractionOfLongestTrack']\n",
      "(1, 'For Those About To Rock (We Salute You)', 11170334, 1.0)\n",
      "(1, 'Spellbound', 8817038, 0.7893262636551422)\n",
      "(1, 'Evil Walks', 8611245, 0.7709030902746506)\n",
      "(1, 'Breaking The Rules', 8596840, 0.7696135137946636)\n",
      "(1, \"Let's Get It Up\", 7636561, 0.6836466125363844)\n",
      "(1, 'Inject The Venom', 6852860, 0.6134874749492719)\n",
      "(1, 'Put The Finger On You', 6713451, 0.6010071856401071)\n",
      "(1, 'Night Of The Long Knives', 6706347, 0.600371215399647)\n",
      "(1, 'Snowballed', 6599424, 0.5907991650025863)\n",
      "(1, 'C.O.D.', 6566314, 0.5878350638396309)\n"
     ]
    }
   ],
   "source": [
    "# Benutze FIRST_VALUE um den ersten Wert in einem Datenset auszulesen. \n",
    "# '1.0 *' stellt sicher, dass mit Float anstatt Integer gerechnet wird.\n",
    "stmt=\"\"\"\n",
    "SELECT AlbumId, name, bytes, 1.0 * bytes /\n",
    "    FIRST_VALUE(bytes) OVER (\n",
    "        PARTITION BY AlbumId\n",
    "        ORDER BY bytes DESC\n",
    "    ) AS FractionOfLongestTrack\n",
    "FROM\n",
    "    tracks\n",
    "ORDER By albumid, bytes DESC\n",
    "LIMIT 50;\n",
    "\"\"\"\n",
    "cur = execute_query(connection, stmt)\n",
    "print_results(cur)\n"
   ]
  },
  {
   "cell_type": "markdown",
   "metadata": {},
   "source": [
    "Aufgabe 5.1: Wählen eine Window-Funktion aus der Tabelle in [https://www.sqlitetutorial.net/sqlite-window-functions/](https://www.sqlitetutorial.net/sqlite-window-functions/) aus und implemententiere die entsprechenden Beispiele hier. \n",
    "In WS03 findest du Beispiel-Code, um die Datenbank zu erstellen."
   ]
  },
  {
   "cell_type": "code",
   "execution_count": 7,
   "metadata": {},
   "outputs": [
    {
     "name": "stdout",
     "output_type": "stream",
     "text": [
      "Connection to SQLite DB 2.6.0 (./data/ws05.sqlite) successful\n"
     ]
    }
   ],
   "source": [
    "# benutze eine neue Datenbank\n",
    "connection.close()\n",
    "\n",
    "# ... Test-Datenbank öffnen\n",
    "path = get_connection_path(\"ws05.sqlite\")\n",
    "connection = create_connection(path)"
   ]
  },
  {
   "cell_type": "code",
   "execution_count": null,
   "metadata": {},
   "outputs": [],
   "source": []
  }
 ],
 "metadata": {
  "deepnote": {
   "is_reactive": false
  },
  "deepnote_execution_queue": [],
  "deepnote_notebook_id": "88080886-de77-497f-94ca-83b762a1e4cc",
  "kernelspec": {
   "display_name": "Python 3 (ipykernel)",
   "language": "python",
   "name": "python3"
  },
  "language_info": {
   "codemirror_mode": {
    "name": "ipython",
    "version": 3
   },
   "file_extension": ".py",
   "mimetype": "text/x-python",
   "name": "python",
   "nbconvert_exporter": "python",
   "pygments_lexer": "ipython3",
   "version": "3.8.12"
  }
 },
 "nbformat": 4,
 "nbformat_minor": 4
}
