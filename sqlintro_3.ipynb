{
 "cells": [
  {
   "cell_type": "markdown",
   "source": "# Übungen für den Unterricht\n\n\nHier nochmals das Datenbankdiagram als Referenz.\n![Schema](./img/sqlite-sample-database-diagram-color.png)",
   "metadata": {
    "tags": [],
    "cell_id": "00003-095b68d4-70e9-4105-8f50-5c6568ab4bbc",
    "deepnote_cell_type": "markdown"
   }
  },
  {
   "cell_type": "code",
   "metadata": {
    "tags": [],
    "cell_id": "00001-3423a2ed-91a9-42a2-a1f9-528018b04271",
    "deepnote_to_be_reexecuted": false,
    "source_hash": "c74526d2",
    "execution_start": 1631516706627,
    "execution_millis": 49,
    "deepnote_cell_type": "code"
   },
   "source": "# Hilfsfunktionen laden und ...\nfrom util.sqlite_util import *\n\n# ... Test-Datenbank öffnen\npath = get_connection_path(\"chinook.sqlite\")\nconnection = create_connection(path)",
   "execution_count": null,
   "outputs": [
    {
     "name": "stdout",
     "text": "Connection to SQLite DB 2.6.0 (./data/chinook.sqlite) successful\n",
     "output_type": "stream"
    }
   ]
  },
  {
   "cell_type": "markdown",
   "source": "##  JOINS über mehrere Tabellen\nJoins können auch mehrere Tabellen umfassen, indem einfach mehrere JOINS hintereinander aufgelistet werden. \n",
   "metadata": {
    "tags": [],
    "cell_id": "00002-379ee211-e00a-4bba-b57d-6deb0366f530",
    "deepnote_cell_type": "markdown"
   }
  },
  {
   "cell_type": "code",
   "metadata": {
    "tags": [],
    "cell_id": "00003-90051c81-aece-457e-9532-8812ec9d04c8",
    "deepnote_to_be_reexecuted": false,
    "source_hash": "ff28525a",
    "execution_start": 1631516706672,
    "execution_millis": 40,
    "deepnote_cell_type": "code"
   },
   "source": "# Beispiel mit vier Tabellen: \n# Zeige alle Tracks welche 'Isabelle Mercier' gekauft hat.\nstmt = \"\"\"SELECT tr.name\nFROM customers cu\n    INNER JOIN invoices iv USING(CustomerId)\n    INNER JOIN invoice_items ii USING(InvoiceId)\n    INNER JOIN tracks tr USING(TrackId)\n    WHERE cu.firstname = \"Isabelle\" AND cu.lastname = \"Mercier\"\n        ;\"\"\"\ncur = execute_query(connection, stmt)\nprint_results(cur)\n",
   "execution_count": null,
   "outputs": [
    {
     "name": "stdout",
     "text": "['Name']\n('Prá Dizer Adeus',)\n('Família',)\n('Act IV, Symphony',)\n('Music for the Funeral of Queen Mary: VI. \"Thou Knowest, Lord, the Secrets of Our Hearts\"',)\n('Partita in E Major, BWV 1006A: I. Prelude',)\n('Sing Joyfully',)\n('Long As I Can See The Light',)\n('Sweet Hitch-Hiker',)\n('Born On The Bayou',)\n('Night Time Is The Right Time',)\n",
     "output_type": "stream"
    }
   ]
  },
  {
   "cell_type": "markdown",
   "source": "### Aufgabe 9 : Joins über mehrere Tabellen",
   "metadata": {
    "tags": [],
    "is_collapsed": false,
    "cell_id": "00004-07c63300-c3bc-4d55-ac22-3a17309db5ae",
    "deepnote_cell_type": "text-cell-h3"
   }
  },
  {
   "cell_type": "code",
   "metadata": {
    "tags": [],
    "cell_id": "00006-8789b808-9b67-47c1-8922-95b864169cce",
    "deepnote_to_be_reexecuted": false,
    "source_hash": "29a4e3c7",
    "allow_embed": false,
    "execution_start": 1631516706702,
    "execution_millis": 0,
    "deepnote_cell_type": "code"
   },
   "source": "# Aufgabe #9: Für 10 Tracks LIMIT 10), zeige deren Namen, den Albumtitel und den Namen des Artisten.\n",
   "execution_count": null,
   "outputs": []
  },
  {
   "cell_type": "markdown",
   "source": "### Aufgabe 9+ (Zusatzaufgabe)",
   "metadata": {
    "tags": [],
    "is_collapsed": false,
    "cell_id": "00004-7080b04e-9fc9-4190-9d98-df4df9fa3286",
    "deepnote_cell_type": "text-cell-h3"
   }
  },
  {
   "cell_type": "code",
   "metadata": {
    "tags": [],
    "cell_id": "00008-711c51cf-a5be-4664-b115-f3a0745868db",
    "deepnote_to_be_reexecuted": false,
    "source_hash": "d6bc3d0f",
    "allow_embed": false,
    "execution_start": 1631516706703,
    "execution_millis": 0,
    "deepnote_cell_type": "code"
   },
   "source": "#Aufgabe 9+: Finde die Anzahl Tracks mit Mediatype \"MPEG audio file\", die pro Person/Customer gekauft wurden.\n",
   "execution_count": null,
   "outputs": []
  },
  {
   "cell_type": "markdown",
   "source": "## Self-JOINS",
   "metadata": {
    "tags": [],
    "is_collapsed": false,
    "cell_id": "00006-2146c2f6-5252-41ed-a9ae-46cc43c2c432",
    "deepnote_cell_type": "text-cell-h2"
   }
  },
  {
   "cell_type": "markdown",
   "source": "Bei self-joins wird eine Tabelle `table` mit sich selber verknüpft. \n![Self-Join](./img/self-join.png)\n\nDamit werden Hierarchien abgebildet oder Einträge miteinander verglichen.\n\n```sql\nSELECT * FROM table t1 \n   INNER JOIN table t2\u000b  \n   ON t1.id = t2.other_id;\n```\n",
   "metadata": {
    "tags": [],
    "cell_id": "00009-42637d2e-d8dd-4fc0-861d-9b91ee96e331",
    "deepnote_cell_type": "markdown"
   }
  },
  {
   "cell_type": "code",
   "metadata": {
    "tags": [],
    "cell_id": "00007-25666c1e-f2b9-42ec-9a77-17b4397e5f93",
    "deepnote_to_be_reexecuted": false,
    "source_hash": "265966fb",
    "execution_start": 1631516706704,
    "execution_millis": 8,
    "deepnote_cell_type": "code"
   },
   "source": "#Im folgenden Beispiel wird eine hierarchische Beziehung zwischen Employee und Manager abgefragt.\nstmt = \"\"\"\nSELECT m.firstname || ' ' || m.lastname AS 'Manager',\n       e.firstname || ' ' || e.lastname AS 'Direct report' \n    FROM employees e\n    INNER JOIN employees m ON m.employeeid = e.reportsto\n    ORDER BY manager;\"\"\"\ncur = execute_query(connection, stmt)\nprint_results(cur)",
   "execution_count": null,
   "outputs": [
    {
     "name": "stdout",
     "text": "['Manager', 'Direct report']\n('Andrew Adams', 'Nancy Edwards')\n('Andrew Adams', 'Michael Mitchell')\n('Michael Mitchell', 'Robert King')\n('Michael Mitchell', 'Laura Callahan')\n('Nancy Edwards', 'Jane Peacock')\n('Nancy Edwards', 'Margaret Park')\n('Nancy Edwards', 'Steve Johnson')\n",
     "output_type": "stream"
    }
   ]
  },
  {
   "cell_type": "markdown",
   "source": "### Aufgabe 10: Self-join",
   "metadata": {
    "tags": [],
    "is_collapsed": false,
    "cell_id": "00008-f3c35fc2-a582-4817-8d62-e123c5d8016e",
    "deepnote_cell_type": "text-cell-h3"
   }
  },
  {
   "cell_type": "code",
   "metadata": {
    "tags": [],
    "cell_id": "00008-ab9289e6-6ebb-467f-8b98-6dae657b94f7",
    "deepnote_to_be_reexecuted": false,
    "source_hash": "6d9ecb09",
    "execution_start": 1631516706708,
    "execution_millis": 21,
    "deepnote_cell_type": "code"
   },
   "source": "# Aufgabe 10: Folgende query gibt uns alle Personen nach Stadt geordnet.\n# Der ||-Operator verbindet zwei Strings. \nstmt = \"\"\"SELECT DISTINCT\n\te1.city,\n\te1.firstName || ' ' || e1.lastname AS fullname\nFROM\n\temployees e1\nORDER BY\n\te1.city;\n\"\"\"\ncur = execute_query(connection, stmt)\nprint_results(cur)\n\n# Wie drucken wir nun nur diejenigen Städte, in welchen mindestens zwei Personen wohnen?\n# Tipp: self-join verwenden und sicherstellen, dass die Stadt gleich ist, die Person aber nicht.\n",
   "execution_count": null,
   "outputs": [
    {
     "name": "stdout",
     "text": "['City', 'fullname']\n('Calgary', 'Nancy Edwards')\n('Calgary', 'Jane Peacock')\n('Calgary', 'Margaret Park')\n('Calgary', 'Steve Johnson')\n('Calgary', 'Michael Mitchell')\n('Edmonton', 'Andrew Adams')\n('Lethbridge', 'Robert King')\n('Lethbridge', 'Laura Callahan')\n",
     "output_type": "stream"
    }
   ]
  },
  {
   "cell_type": "markdown",
   "source": "## Subqueries\n\n```sql\nSELECT column_1 \n  FROM table_1 \n  WHERE column_1 = \n  (\n    SELECT column_2 \n    FROM table_2 \n  );\n```\n\n* Subqueries sind erlaubt nach `SELECT`, `FROM` , `HERE` und `JOIN`.\n* Subqueries geben oftmals einen einzigen Wert zurück (Ausnahme: IN-Operator)\n\n\n",
   "metadata": {
    "tags": [],
    "cell_id": "00012-06831ba6-bde3-4d2d-8baa-bce917138de6",
    "deepnote_cell_type": "markdown"
   }
  },
  {
   "cell_type": "code",
   "metadata": {
    "tags": [],
    "cell_id": "00014-0b736622-9d6e-492c-b9ae-9909b87f996f",
    "deepnote_to_be_reexecuted": false,
    "source_hash": "d7ec3a1c",
    "execution_start": 1631516706719,
    "execution_millis": 38,
    "deepnote_cell_type": "code"
   },
   "source": "# Beispiel 1: finde das Album mit title='Let There Be Rock' und zeige alle tracks in diesem Album. \n# PS: Diese Query könnte auch mit einem Join implementiert werden. Ausprobieren ist freiwillig.\nstmt = \"\"\"\nSELECT trackid, name, albumid \n  FROM tracks \n  WHERE albumid = \n  ( \n    SELECT albumid \n      FROM albums \n      WHERE title = \"Let There Be Rock\" \n  );\"\"\"\ncur = execute_query(connection, stmt)\nprint_results(cur)",
   "execution_count": null,
   "outputs": [
    {
     "name": "stdout",
     "text": "['TrackId', 'Name', 'AlbumId']\n(15, 'Go Down', 4)\n(16, 'Dog Eat Dog', 4)\n(17, 'Let There Be Rock', 4)\n(18, 'Bad Boy Boogie', 4)\n(19, 'Problem Child', 4)\n(20, 'Overdose', 4)\n(21, \"Hell Ain't A Bad Place To Be\", 4)\n(22, 'Whole Lotta Rosie', 4)\n",
     "output_type": "stream"
    }
   ]
  },
  {
   "cell_type": "code",
   "metadata": {
    "tags": [],
    "cell_id": "00015-8b185681-4a2e-46e9-917f-e11d72b645ff",
    "deepnote_to_be_reexecuted": false,
    "source_hash": "f799361",
    "execution_start": 1631516706732,
    "execution_millis": 25,
    "deepnote_cell_type": "code"
   },
   "source": "# Beispiel 2: finde alle Kunden mit einem oder einer Supportverantwortlichen in 'Canada'. \nstmt=\"\"\"\nSELECT customerid, firstname, lastname \n  FROM customers\n  WHERE supportrepid IN \n  ( \n    SELECT employeeid FROM employees \n    WHERE country = \"Canada\" \n  ); \n\"\"\"\ncur = execute_query(connection, stmt)\nprint_results(cur)",
   "execution_count": null,
   "outputs": [
    {
     "name": "stdout",
     "text": "['CustomerId', 'FirstName', 'LastName']\n(1, 'Luís', 'Gonçalves')\n(2, 'Leonie', 'Köhler')\n(3, 'François', 'Tremblay')\n(4, 'Bjørn', 'Hansen')\n(5, 'František', 'Wichterlová')\n(6, 'Helena', 'Holý')\n(7, 'Astrid', 'Gruber')\n(8, 'Daan', 'Peeters')\n(9, 'Kara', 'Nielsen')\n(10, 'Eduardo', 'Martins')\n",
     "output_type": "stream"
    }
   ]
  },
  {
   "cell_type": "code",
   "metadata": {
    "tags": [],
    "cell_id": "00016-04208a09-da7c-41bc-b8ff-bc9d46ef3e94",
    "deepnote_to_be_reexecuted": false,
    "source_hash": "c0262190",
    "execution_start": 1631516706745,
    "execution_millis": 12,
    "deepnote_cell_type": "code"
   },
   "source": "# Beispiel 3: Finde alle Kunden mit einer Rechnung. \nstmt=\"\"\"\nSELECT\n    FirstName || \" \" || LastName name, Company\nFROM\n    Customers c\nWHERE\n    EXISTS (\n        SELECT \n            1 \n        FROM \n            Invoices\n        WHERE \n            CustomerId = c.CustomerId\n    )\nORDER BY\n    name; \n\"\"\"\ncur = execute_query(connection, stmt)\nprint_results(cur)",
   "execution_count": null,
   "outputs": [
    {
     "name": "stdout",
     "text": "['name', 'Company']\n('Aaron Mitchell', None)\n('Alexandre Rocha', 'Banco do Brasil S.A.')\n('Astrid Gruber', None)\n('Bjørn Hansen', None)\n('Camille Bernard', None)\n('Daan Peeters', None)\n('Dan Miller', None)\n('Diego Gutiérrez', None)\n('Dominique Lefebvre', None)\n('Eduardo Martins', 'Woodstock Discos')\n",
     "output_type": "stream"
    }
   ]
  },
  {
   "cell_type": "code",
   "metadata": {
    "tags": [],
    "cell_id": "00017-eb504a48-8a5e-4bec-9cda-e4bda01747a5",
    "deepnote_to_be_reexecuted": false,
    "source_hash": "2bd2074",
    "allow_embed": false,
    "execution_start": 1631516706753,
    "execution_millis": 28,
    "deepnote_cell_type": "code"
   },
   "source": "# Beispiel 4: Finde die durchschnittliche Album-Grösse in MB. Dazu müssen zuerst alle Tracks zusammengezählt werden.\nstmt=\"\"\"\nSELECT \n  ROUND(AVG(album.size) / 1024 / 1024)\nFROM \n  ( \n    SELECT SUM(bytes) size \n      FROM tracks \n      GROUP BY albumid\n  ) AS album;\n\"\"\"\ncur = execute_query(connection, stmt)\nprint_results(cur)",
   "execution_count": null,
   "outputs": [
    {
     "name": "stdout",
     "text": "['ROUND(AVG(album.size) / 1024 / 1024)']\n(323.0,)\n",
     "output_type": "stream"
    }
   ]
  },
  {
   "cell_type": "markdown",
   "source": "### Aufgabe 11: Subqueries mit IN",
   "metadata": {
    "tags": [],
    "is_collapsed": false,
    "cell_id": "00015-0b13d5d3-84ea-4058-bbee-db63f6a69397",
    "deepnote_cell_type": "text-cell-h3"
   }
  },
  {
   "cell_type": "code",
   "metadata": {
    "tags": [],
    "cell_id": "00017-7599aa29-2bcf-4976-9bce-19b79d62166f",
    "deepnote_to_be_reexecuted": false,
    "source_hash": "a2e02177",
    "execution_start": 1631516706767,
    "execution_millis": 4,
    "deepnote_cell_type": "code"
   },
   "source": "#Aufgabe 11: Folgende Query listet alle Genres vom Typ \"Alternative\" \nstmt = \"\"\"\nSELECT genreid, name \n  FROM genres WHERE name LIKE \"alt%\";\n\"\"\"\n# Augabe: Zähle die Anzahl Tracks die zum Genre \"Alternative\" gehören. \n",
   "execution_count": null,
   "outputs": []
  },
  {
   "cell_type": "markdown",
   "source": "### Aufgabe 12: Subqueries mit [NOT] EXISTS",
   "metadata": {
    "tags": [],
    "is_collapsed": false,
    "cell_id": "00017-e6c7fbc8-a790-42ea-bc61-e06897ac5798",
    "deepnote_cell_type": "text-cell-h3"
   }
  },
  {
   "cell_type": "code",
   "metadata": {
    "tags": [],
    "cell_id": "00018-123d9022-23b9-4fcb-bf47-eb016b1675c7",
    "deepnote_to_be_reexecuted": false,
    "source_hash": "76c4dae",
    "execution_start": 1631516706776,
    "execution_millis": 0,
    "deepnote_cell_type": "code"
   },
   "source": "# Aufgabe 12a: Suche die Anzahl Artists die in mindestens ein Album zugewiesen haben.\n# Aufgabe 12b: Suche die Anzahl Artists die keine Album zugewiesen haben.\n",
   "execution_count": null,
   "outputs": []
  },
  {
   "cell_type": "markdown",
   "source": "## Lösungen",
   "metadata": {
    "tags": [],
    "is_collapsed": false,
    "cell_id": "00022-da1ac782-66be-43c0-85cd-2fccc4348913",
    "deepnote_cell_type": "text-cell-h2"
   }
  },
  {
   "cell_type": "code",
   "metadata": {
    "tags": [],
    "cell_id": "00003-2189f617-e2dd-4d0d-b907-bb789c49efef",
    "deepnote_to_be_reexecuted": false,
    "source_hash": "75e5d153",
    "execution_start": 1631516706810,
    "execution_millis": 8,
    "deepnote_cell_type": "code"
   },
   "source": "# Aufgabe #9: Für 10 Tracks LIMIT 10), zeige deren Namen, den Albumtitel und den Namen des Artisten.\nstmt = \"\"\"SELECT tr.name, al.Title, ar.Name\nFROM tracks tr\n    INNER JOIN albums al USING(AlbumId)\n    INNER JOIN artists ar USING(ArtistId)\n        LIMIT 10;\"\"\"\ncur = execute_query(connection, stmt)\nprint_results(cur)",
   "execution_count": null,
   "outputs": [
    {
     "name": "stdout",
     "text": "['Name', 'Title', 'Name']\n('For Those About To Rock (We Salute You)', 'For Those About To Rock We Salute You', 'AC/DC')\n('Put The Finger On You', 'For Those About To Rock We Salute You', 'AC/DC')\n(\"Let's Get It Up\", 'For Those About To Rock We Salute You', 'AC/DC')\n('Inject The Venom', 'For Those About To Rock We Salute You', 'AC/DC')\n('Snowballed', 'For Those About To Rock We Salute You', 'AC/DC')\n('Evil Walks', 'For Those About To Rock We Salute You', 'AC/DC')\n('C.O.D.', 'For Those About To Rock We Salute You', 'AC/DC')\n('Breaking The Rules', 'For Those About To Rock We Salute You', 'AC/DC')\n('Night Of The Long Knives', 'For Those About To Rock We Salute You', 'AC/DC')\n('Spellbound', 'For Those About To Rock We Salute You', 'AC/DC')\n",
     "output_type": "stream"
    }
   ]
  },
  {
   "cell_type": "code",
   "metadata": {
    "tags": [],
    "cell_id": "00005-7b67c59a-52c2-4260-908a-55cc9131d43a",
    "deepnote_to_be_reexecuted": false,
    "source_hash": "606d38c1",
    "execution_start": 1631516706811,
    "execution_millis": 7,
    "deepnote_cell_type": "code"
   },
   "source": "#Aufgabe 9+: Finde die Anzahl Tracks mit Mediatype \"MPEG audio file\", die pro Person/Customer gekauft wurden.\nstmt = \"\"\"SELECT cu.firstname, cu.lastname, count(tr.name)\nFROM customers cu\n    INNER JOIN invoices iv USING(CustomerId)\n    INNER JOIN invoice_items ii USING(InvoiceId)\n    INNER JOIN tracks tr USING(TrackId)\n    INNER JOIN media_types mt USING(MediaTypeId)\n    WHERE mt.name = \"MPEG audio file\"\n    GROUP BY  cu.customerid\n        ;\"\"\"\ncur = execute_query(connection, stmt)\nrows = cur.fetchall()\nprint(len(rows))\nprint_results(cur)",
   "execution_count": null,
   "outputs": [
    {
     "name": "stdout",
     "text": "59\n['FirstName', 'LastName', 'count(tr.name)']\n",
     "output_type": "stream"
    }
   ]
  },
  {
   "cell_type": "code",
   "metadata": {
    "tags": [],
    "cell_id": "00013-c505e311-f3af-424e-977e-5697919ade35",
    "deepnote_to_be_reexecuted": false,
    "source_hash": "49103749",
    "allow_embed": false,
    "execution_start": 1631516706812,
    "execution_millis": 20,
    "deepnote_cell_type": "code"
   },
   "source": "# Aufgabe 10: Folgende query gibt uns alle Personen nach Stadt geordnet.\n# Der ||-Operator verbindet zwei Strings. \nstmt = \"\"\"SELECT DISTINCT\n\te1.city,\n\te1.firstName || ' ' || e1.lastname AS fullname\nFROM\n\temployees e1\nORDER BY\n\te1.city;\n\"\"\"\ncur = execute_query(connection, stmt)\nprint_results(cur)\n\n# Wie drucken wir nun nur diejenigen Städte, in welchen mindestens zwei Personen wohnen?\n# Tipp: self-join verwenden und sicherstellen, dass die Stadt gleich ist, die Person aber nicht.\nstmt=\"\"\"SELECT DISTINCT\n\te1.city,\n\te1.firstName || ' ' || e1.lastname AS fullname\nFROM\n\temployees e1\nINNER JOIN employees e2 ON e2.city = e1.city \n   AND (e1.firstname <> e2.firstname AND e1.lastname <> e2.lastname)\nORDER BY\n\te1.city;\n\"\"\"\ncur = execute_query(connection, stmt)\nprint(\"----\")\nprint_results(cur)",
   "execution_count": null,
   "outputs": [
    {
     "name": "stdout",
     "text": "['City', 'fullname']\n('Calgary', 'Nancy Edwards')\n('Calgary', 'Jane Peacock')\n('Calgary', 'Margaret Park')\n('Calgary', 'Steve Johnson')\n('Calgary', 'Michael Mitchell')\n('Edmonton', 'Andrew Adams')\n('Lethbridge', 'Robert King')\n('Lethbridge', 'Laura Callahan')\n----\n['City', 'fullname']\n('Calgary', 'Nancy Edwards')\n('Calgary', 'Jane Peacock')\n('Calgary', 'Margaret Park')\n('Calgary', 'Steve Johnson')\n('Calgary', 'Michael Mitchell')\n('Lethbridge', 'Robert King')\n('Lethbridge', 'Laura Callahan')\n",
     "output_type": "stream"
    }
   ]
  },
  {
   "cell_type": "code",
   "metadata": {
    "tags": [],
    "cell_id": "00020-a27dd4dc-2195-4bfb-aefb-b06555bcc814",
    "deepnote_to_be_reexecuted": false,
    "source_hash": "1d561505",
    "allow_embed": false,
    "execution_start": 1631516706832,
    "execution_millis": 22,
    "deepnote_cell_type": "code"
   },
   "source": "#Aufgabe 11: Folgende Query listet alle Genres vom Typ \"Alternative\" \nstmt = \"\"\"\nSELECT genreid, name \n  FROM genres WHERE name LIKE \"alt%\";\n\"\"\"\n# Augabe: Zähle die Anzahl Tracks die zum Genre \"Alternative\" gehören. \nstmt = \"\"\"\nSELECT COUNT(*)\n    FROM tracks t\nWHERE t.genreid IN\n (SELECT genreid \n  FROM genres WHERE name LIKE \"alt%\");\"\"\"\ncur = execute_query(connection, stmt)\nprint_results(cur)",
   "execution_count": null,
   "outputs": [
    {
     "name": "stdout",
     "text": "['COUNT(*)']\n(372,)\n",
     "output_type": "stream"
    }
   ]
  },
  {
   "cell_type": "code",
   "metadata": {
    "tags": [],
    "cell_id": "00022-07f70a5a-61d4-4eeb-bdd7-35420c587d78",
    "deepnote_to_be_reexecuted": false,
    "source_hash": "7134ac82",
    "allow_embed": false,
    "execution_start": 1631516706849,
    "execution_millis": 16,
    "deepnote_cell_type": "code"
   },
   "source": "# Aufgabe 12a: Suche die Anzahl Artists die in mindestens ein Album zugewiesen haben.\n# Aufgabe 12b: Suche die Anzahl Artists die keine Album zugewiesen haben.\nstmt=\"\"\"\nSELECT count(*) FROM \n    artists a\nWHERE EXISTS (\n    SELECT 1 FROM albums\n    WHERE a.artistid = artistid\n);\n\"\"\"\ncur = execute_query(connection, stmt)\nprint_results(cur)\n\nstmt=\"\"\"\nSELECT count(*) FROM \n    artists a\nWHERE NOT EXISTS (\n    SELECT 1 FROM albums\n    WHERE a.artistid = artistid\n);\n\"\"\"\ncur = execute_query(connection, stmt)\nprint_results(cur)",
   "execution_count": null,
   "outputs": [
    {
     "name": "stdout",
     "text": "['count(*)']\n(204,)\n['count(*)']\n(70,)\n",
     "output_type": "stream"
    }
   ]
  },
  {
   "cell_type": "markdown",
   "source": "<a style='text-decoration:none;line-height:16px;display:flex;color:#5B5B62;padding:10px;justify-content:end;' href='https://deepnote.com?utm_source=created-in-deepnote-cell&projectId=7b26de29-b5f7-4099-8d22-b8e52b4135d4' target=\"_blank\">\n<img alt='Created in deepnote.com' style='display:inline;max-height:16px;margin:0px;margin-right:7.5px;' src='data:image/svg+xml;base64,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' > </img>\nCreated in <span style='font-weight:600;margin-left:4px;'>Deepnote</span></a>",
   "metadata": {
    "tags": [],
    "created_in_deepnote_cell": true,
    "deepnote_cell_type": "markdown"
   }
  }
 ],
 "nbformat": 4,
 "nbformat_minor": 2,
 "metadata": {
  "orig_nbformat": 2,
  "deepnote": {
   "is_reactive": false
  },
  "deepnote_notebook_id": "e5ac9821-69c9-46c7-9b89-605c6f5ae691",
  "deepnote_execution_queue": []
 }
}