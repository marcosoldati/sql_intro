{
 "cells": [
  {
   "cell_type": "markdown",
   "source": "# Workshop 2: Views und CASE_WHEN\nFreiwilliger Bonus: User Defined Functions (UDF)\n\nIn diesem Workshop geht es um Techniken, um häufig benutzte Queries zu automatisieren und die zu optimieren. \n\n* Schwierigkeit: einfach\n* Prüfungsrelevant: ja (ausser UDF)\n* Zeitaufwand: 30min\n\n",
   "metadata": {
    "tags": [],
    "cell_id": "00000-19d4ddfa-9c1d-4a46-84db-cd543206483f",
    "deepnote_cell_type": "markdown"
   }
  },
  {
   "cell_type": "code",
   "metadata": {
    "tags": [],
    "deepnote_to_be_reexecuted": false,
    "source_hash": "c74526d2",
    "execution_start": 1631441521612,
    "execution_millis": 26,
    "cell_id": "00001-f1d9a1dd-1ed1-4738-86ff-baed987a62cc",
    "deepnote_cell_type": "code"
   },
   "source": "# Hilfsfunktionen laden und ...\nfrom util.sqlite_util import *\n\n# ... Test-Datenbank öffnen\npath = get_connection_path(\"chinook.sqlite\")\nconnection = create_connection(path)",
   "outputs": [
    {
     "name": "stdout",
     "text": "Connection to SQLite DB 2.6.0 (./data/chinook.sqlite) successful\n",
     "output_type": "stream"
    }
   ],
   "execution_count": null
  },
  {
   "cell_type": "markdown",
   "source": "## CASE WHEN",
   "metadata": {
    "tags": [],
    "is_collapsed": false,
    "cell_id": "00002-8471aefe-5f74-4f58-83e4-de9ea1898bf3",
    "deepnote_cell_type": "text-cell-h2"
   }
  },
  {
   "cell_type": "code",
   "metadata": {
    "tags": [],
    "cell_id": "00003-21fbb041-55aa-4ad8-907c-3fcc3a77dc79",
    "deepnote_to_be_reexecuted": false,
    "source_hash": "59489435",
    "execution_start": 1631441521644,
    "execution_millis": 47,
    "deepnote_cell_type": "code"
   },
   "source": "stmt = \"\"\"SELECT\n\ttrackid, name,\n\tCASE\n\t\tWHEN \tmilliseconds <= 60000 THEN 'short'\n\t\tWHEN \tmilliseconds > 60000 AND \n\t\t\tmilliseconds < 300000 THEN 'medium'\n\t\tELSE\n\t\t\t'long'\n\t\tEND category\nFROM\n\ttracks\nLIMIT 10;\n\"\"\"\ncur = execute_query(connection, stmt)\nrows = cur.fetchall()\nfor row in rows:\n    print(row)",
   "outputs": [
    {
     "name": "stdout",
     "text": "(1, 'For Those About To Rock (We Salute You)', 'long')\n(2, 'Balls to the Wall', 'long')\n(3, 'Fast As a Shark', 'medium')\n(4, 'Restless and Wild', 'medium')\n(5, 'Princess of the Dawn', 'long')\n(6, 'Put The Finger On You', 'medium')\n(7, \"Let's Get It Up\", 'medium')\n(8, 'Inject The Venom', 'medium')\n(9, 'Snowballed', 'medium')\n(10, 'Evil Walks', 'medium')\n",
     "output_type": "stream"
    }
   ],
   "execution_count": null
  },
  {
   "cell_type": "markdown",
   "source": "## VIEW",
   "metadata": {
    "tags": [],
    "is_collapsed": false,
    "cell_id": "00002-6d9c5982-65c2-4f23-8b42-6240c1026962",
    "deepnote_cell_type": "text-cell-h2"
   }
  },
  {
   "cell_type": "code",
   "metadata": {
    "tags": [],
    "cell_id": "00002-5b451693-c7fa-43e9-a967-f1884a57397e",
    "deepnote_to_be_reexecuted": false,
    "source_hash": "3f4d946d",
    "execution_start": 1631441521688,
    "execution_millis": 50,
    "deepnote_cell_type": "code"
   },
   "source": "# Als erstes erstellen wir eine sogenannte View. Diese kann dann wie eine Tabelle verwendet werden.\n# Views werden bei jedem Aufruf neu berechnet.\nstmt=\"\"\"\nCREATE VIEW IF NOT EXISTS CustomerInvoices\nAS\nSELECT\n\tCustomerId,\n\tstrftime('%Y',InvoiceDate) Year,\n\tSUM( total ) Total\nFROM\n\tinvoices\n\tGROUP BY CustomerId, strftime('%Y',InvoiceDate);\n\"\"\"\ncur = execute_query(connection, stmt)\nprint(desc_table(connection, \"CustomerInvoices\"))",
   "outputs": [
    {
     "name": "stdout",
     "text": "CREATE VIEW CustomerInvoices\nAS\nSELECT\n\tCustomerId,\n\tstrftime('%Y',InvoiceDate) Year,\n\tSUM( total ) Total\nFROM\n\tinvoices\n\tGROUP BY CustomerId, strftime('%Y',InvoiceDate)\n",
     "output_type": "stream"
    }
   ],
   "execution_count": null
  },
  {
   "cell_type": "markdown",
   "source": "## User Defined Functions (UDF)",
   "metadata": {
    "tags": [],
    "is_collapsed": false,
    "cell_id": "00005-21648041-7513-450b-b963-d76319f6d0db",
    "deepnote_cell_type": "text-cell-h2"
   }
  },
  {
   "cell_type": "code",
   "metadata": {
    "tags": [],
    "cell_id": "00006-8df3ea89-1fd2-425e-a831-dc954d0ee0a8",
    "deepnote_to_be_reexecuted": false,
    "source_hash": "8ff1aaf4",
    "execution_start": 1631441521775,
    "execution_millis": 18,
    "deepnote_cell_type": "code"
   },
   "source": "import sqlite3\n\ndef _toTitleCase(string):\n    return str(string).title()\ndef _toUpperCase(string):\n    return str(string).upper()\n\nconnection.create_function(\"title\", 1, _toTitleCase)\nconnection.create_function(\"upper\", 1, _toUpperCase)\n\nstmt=\"\"\"SELECT name, title(name), upper(name) FROM genres;\"\"\"\n\ncur = execute_query(connection, stmt)\nprint_results(cur)",
   "outputs": [
    {
     "name": "stdout",
     "text": "['Name', 'title(name)', 'upper(name)']\n('Rock', 'Rock', 'ROCK')\n('Jazz', 'Jazz', 'JAZZ')\n('Metal', 'Metal', 'METAL')\n('Alternative & Punk', 'Alternative & Punk', 'ALTERNATIVE & PUNK')\n('Rock And Roll', 'Rock And Roll', 'ROCK AND ROLL')\n('Blues', 'Blues', 'BLUES')\n('Latin', 'Latin', 'LATIN')\n('Reggae', 'Reggae', 'REGGAE')\n('Pop', 'Pop', 'POP')\n('Soundtrack', 'Soundtrack', 'SOUNDTRACK')\n",
     "output_type": "stream"
    }
   ],
   "execution_count": null
  },
  {
   "cell_type": "code",
   "metadata": {
    "tags": [],
    "cell_id": "00008-7b95afc8-3e2b-453a-b3b1-e3d634ee9d7a",
    "deepnote_to_be_reexecuted": false,
    "source_hash": "8b0d351c",
    "allow_embed": false,
    "execution_start": 1631441521802,
    "execution_millis": 17,
    "deepnote_cell_type": "code"
   },
   "source": "def _formatBytes(bytes):\n    fmt = \"b\"\n    if bytes > 1024:\n        bytes = bytes / 1024\n        fmt = \"kb\"\n    if bytes > 1024:\n        bytes = bytes / 1024\n        fmt = \"mb\"\n    if bytes > 1024:\n        bytes = bytes / 1024\n        fmt = \"gb\"\n    if bytes > 1024:\n        bytes = bytes / 1024\n        fmt = \"tb\"\n    return \"%s%s\" % (round(bytes,2), fmt)\n\nconnection.create_function(\"formatbytes\", 1, _formatBytes)\n\nstmt=\"\"\"SELECT name, formatbytes(bytes) FROM tracks LIMIT 10;\"\"\"\ncur = execute_query(connection, stmt)\nprint_results(cur)",
   "outputs": [
    {
     "name": "stdout",
     "text": "['Name', 'formatbytes(bytes)']\n('For Those About To Rock (We Salute You)', '10.65mb')\n('Balls to the Wall', '5.26mb')\n('Fast As a Shark', '3.81mb')\n('Restless and Wild', '4.13mb')\n('Princess of the Dawn', '6.0mb')\n('Put The Finger On You', '6.4mb')\n(\"Let's Get It Up\", '7.28mb')\n('Inject The Venom', '6.54mb')\n('Snowballed', '6.29mb')\n('Evil Walks', '8.21mb')\n",
     "output_type": "stream"
    }
   ],
   "execution_count": null
  },
  {
   "cell_type": "code",
   "metadata": {
    "tags": [],
    "cell_id": "00012-7fcae57d-e0b0-4538-8558-fba7e3c060d7",
    "deepnote_to_be_reexecuted": false,
    "source_hash": "efbfe77c",
    "execution_start": 1631441521827,
    "execution_millis": 5,
    "deepnote_cell_type": "code"
   },
   "source": "import math;\nconnection.create_function(\"log\", 1, math.log10)\nstmt=\"\"\"SELECT log(milliseconds) FROM tracks LIMIT 10;\"\"\"\ncur = execute_query(connection, stmt)\nprint_results(cur)",
   "outputs": [
    {
     "name": "stdout",
     "text": "['log(milliseconds)']\n(5.536203539606202,)\n(5.534739185524943,)\n(5.3628950846379295,)\n(5.401488424819678,)\n(5.574515091709049,)\n(5.313154054869936,)\n(5.36907849469925,)\n(5.323940648389206,)\n(5.307714200040391,)\n(5.420775674991212,)\n",
     "output_type": "stream"
    }
   ],
   "execution_count": null
  },
  {
   "cell_type": "markdown",
   "source": "<a style='text-decoration:none;line-height:16px;display:flex;color:#5B5B62;padding:10px;justify-content:end;' href='https://deepnote.com?utm_source=created-in-deepnote-cell&projectId=0715ae06-549d-47db-ade6-5afadbf2cba1' target=\"_blank\">\n<img alt='Created in deepnote.com' style='display:inline;max-height:16px;margin:0px;margin-right:7.5px;' src='data:image/svg+xml;base64,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' > </img>\nCreated in <span style='font-weight:600;margin-left:4px;'>Deepnote</span></a>",
   "metadata": {
    "tags": [],
    "created_in_deepnote_cell": true,
    "deepnote_cell_type": "markdown"
   }
  }
 ],
 "nbformat": 4,
 "nbformat_minor": 2,
 "metadata": {
  "orig_nbformat": 2,
  "deepnote": {
   "is_reactive": false
  },
  "deepnote_notebook_id": "a0eb4905-3c56-4235-998d-e70218e3518c",
  "deepnote_execution_queue": []
 }
}