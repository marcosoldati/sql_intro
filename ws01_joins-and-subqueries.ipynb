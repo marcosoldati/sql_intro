{
 "cells": [
  {
   "cell_type": "markdown",
   "metadata": {
    "cell_id": "00003-095b68d4-70e9-4105-8f50-5c6568ab4bbc",
    "deepnote_cell_type": "markdown",
    "tags": []
   },
   "source": [
    "# Workshop 1: JOINS und Subqueries\n",
    "\n",
    "* Schwierigkeit: einfach\n",
    "* Prüfungsrelevant: ja\n",
    "* Zeitaufwand: 45min\n",
    "\n",
    "Die Lösungen finden sich am Ende dieses Notebooks. Bitte nicht spicken!\n",
    "\n",
    "## Datenbank-Schema\n",
    "\n",
    "Hier nochmals das Datenbankdiagram als Referenz.\n",
    "\n",
    "![Schema](./img/sqlite-sample-database-diagram-color.png)"
   ]
  },
  {
   "cell_type": "code",
   "execution_count": null,
   "metadata": {
    "cell_id": "00001-3423a2ed-91a9-42a2-a1f9-528018b04271",
    "deepnote_cell_type": "code",
    "deepnote_to_be_reexecuted": false,
    "execution_millis": 49,
    "execution_start": 1631516706627,
    "source_hash": "c74526d2",
    "tags": []
   },
   "outputs": [],
   "source": [
    "# Hilfsfunktionen laden und ...\n",
    "from util.sqlite_util import *\n",
    "\n",
    "# ... Test-Datenbank öffnen\n",
    "path = get_connection_path(\"chinook.sqlite\")\n",
    "connection = create_connection(path)"
   ]
  },
  {
   "cell_type": "markdown",
   "metadata": {
    "cell_id": "00002-379ee211-e00a-4bba-b57d-6deb0366f530",
    "deepnote_cell_type": "markdown",
    "tags": []
   },
   "source": [
    "##  JOINS über mehrere Tabellen\n",
    "Joins können auch mehrere Tabellen umfassen, indem einfach mehrere JOINS hintereinander aufgelistet werden. \n"
   ]
  },
  {
   "cell_type": "code",
   "execution_count": null,
   "metadata": {
    "cell_id": "00003-90051c81-aece-457e-9532-8812ec9d04c8",
    "deepnote_cell_type": "code",
    "deepnote_to_be_reexecuted": false,
    "execution_millis": 40,
    "execution_start": 1631516706672,
    "source_hash": "ff28525a",
    "tags": []
   },
   "outputs": [
    {
     "name": "stdout",
     "output_type": "stream",
     "text": [
      "['Name']\n",
      "('Prá Dizer Adeus',)\n",
      "('Família',)\n",
      "('Act IV, Symphony',)\n",
      "('Music for the Funeral of Queen Mary: VI. \"Thou Knowest, Lord, the Secrets of Our Hearts\"',)\n",
      "('Partita in E Major, BWV 1006A: I. Prelude',)\n",
      "('Sing Joyfully',)\n",
      "('Long As I Can See The Light',)\n",
      "('Sweet Hitch-Hiker',)\n",
      "('Born On The Bayou',)\n",
      "('Night Time Is The Right Time',)\n"
     ]
    }
   ],
   "source": [
    "# Beispiel mit vier Tabellen: \n",
    "# Zeige alle Tracks welche 'Isabelle Mercier' gekauft hat.\n",
    "stmt = \"\"\"SELECT tr.name\n",
    "FROM customers cu\n",
    "    INNER JOIN invoices iv USING(CustomerId)\n",
    "    INNER JOIN invoice_items ii USING(InvoiceId)\n",
    "    INNER JOIN tracks tr USING(TrackId)\n",
    "    WHERE cu.firstname = \"Isabelle\" AND cu.lastname = \"Mercier\"\n",
    "        ;\"\"\"\n",
    "cur = execute_query(connection, stmt)\n",
    "print_results(cur)\n"
   ]
  },
  {
   "cell_type": "markdown",
   "metadata": {
    "cell_id": "00004-07c63300-c3bc-4d55-ac22-3a17309db5ae",
    "deepnote_cell_type": "text-cell-h3",
    "is_collapsed": false,
    "tags": []
   },
   "source": [
    "### Aufgabe 9 : Joins über mehrere Tabellen"
   ]
  },
  {
   "cell_type": "code",
   "execution_count": null,
   "metadata": {
    "allow_embed": false,
    "cell_id": "00006-8789b808-9b67-47c1-8922-95b864169cce",
    "deepnote_cell_type": "code",
    "deepnote_to_be_reexecuted": false,
    "execution_millis": 0,
    "execution_start": 1631516706702,
    "source_hash": "29a4e3c7",
    "tags": []
   },
   "outputs": [],
   "source": [
    "# Aufgabe #9: Für 10 Tracks LIMIT 10), zeige deren Namen, den Albumtitel und den Namen des Artisten.\n"
   ]
  },
  {
   "cell_type": "markdown",
   "metadata": {
    "cell_id": "00004-7080b04e-9fc9-4190-9d98-df4df9fa3286",
    "deepnote_cell_type": "text-cell-h3",
    "is_collapsed": false,
    "tags": []
   },
   "source": [
    "### Aufgabe 9+ (Zusatzaufgabe)"
   ]
  },
  {
   "cell_type": "code",
   "execution_count": null,
   "metadata": {
    "allow_embed": false,
    "cell_id": "00008-711c51cf-a5be-4664-b115-f3a0745868db",
    "deepnote_cell_type": "code",
    "deepnote_to_be_reexecuted": false,
    "execution_millis": 0,
    "execution_start": 1631516706703,
    "source_hash": "d6bc3d0f",
    "tags": []
   },
   "outputs": [],
   "source": [
    "#Aufgabe 9+: Finde die Anzahl Tracks mit Mediatype \"MPEG audio file\", die pro Person/Customer gekauft wurden.\n"
   ]
  },
  {
   "cell_type": "markdown",
   "metadata": {
    "cell_id": "00006-2146c2f6-5252-41ed-a9ae-46cc43c2c432",
    "deepnote_cell_type": "text-cell-h2",
    "is_collapsed": false,
    "tags": []
   },
   "source": [
    "## Self-JOINS"
   ]
  },
  {
   "cell_type": "markdown",
   "metadata": {
    "cell_id": "00009-42637d2e-d8dd-4fc0-861d-9b91ee96e331",
    "deepnote_cell_type": "markdown",
    "tags": []
   },
   "source": [
    "Bei self-joins wird eine Tabelle `table` mit sich selber verknüpft. \n",
    "![Self-Join](./img/self-join.png)\n",
    "\n",
    "Damit werden Hierarchien abgebildet oder Einträge miteinander verglichen.\n",
    "\n",
    "```sql\n",
    "SELECT * FROM table t1 \n",
    "   INNER JOIN table t2\u000b",
    "  \n",
    "   ON t1.id = t2.other_id;\n",
    "```\n"
   ]
  },
  {
   "cell_type": "code",
   "execution_count": null,
   "metadata": {
    "cell_id": "00007-25666c1e-f2b9-42ec-9a77-17b4397e5f93",
    "deepnote_cell_type": "code",
    "deepnote_to_be_reexecuted": false,
    "execution_millis": 8,
    "execution_start": 1631516706704,
    "source_hash": "265966fb",
    "tags": []
   },
   "outputs": [
    {
     "name": "stdout",
     "output_type": "stream",
     "text": [
      "['Manager', 'Direct report']\n",
      "('Andrew Adams', 'Nancy Edwards')\n",
      "('Andrew Adams', 'Michael Mitchell')\n",
      "('Michael Mitchell', 'Robert King')\n",
      "('Michael Mitchell', 'Laura Callahan')\n",
      "('Nancy Edwards', 'Jane Peacock')\n",
      "('Nancy Edwards', 'Margaret Park')\n",
      "('Nancy Edwards', 'Steve Johnson')\n"
     ]
    }
   ],
   "source": [
    "#Im folgenden Beispiel wird eine hierarchische Beziehung zwischen Employee und Manager abgefragt.\n",
    "stmt = \"\"\"\n",
    "SELECT m.firstname || ' ' || m.lastname AS 'Manager',\n",
    "       e.firstname || ' ' || e.lastname AS 'Direct report' \n",
    "    FROM employees e\n",
    "    INNER JOIN employees m ON m.employeeid = e.reportsto\n",
    "    ORDER BY manager;\"\"\"\n",
    "cur = execute_query(connection, stmt)\n",
    "print_results(cur)"
   ]
  },
  {
   "cell_type": "markdown",
   "metadata": {
    "cell_id": "00008-f3c35fc2-a582-4817-8d62-e123c5d8016e",
    "deepnote_cell_type": "text-cell-h3",
    "is_collapsed": false,
    "tags": []
   },
   "source": [
    "### Aufgabe 10: Self-join"
   ]
  },
  {
   "cell_type": "code",
   "execution_count": null,
   "metadata": {
    "cell_id": "00008-ab9289e6-6ebb-467f-8b98-6dae657b94f7",
    "deepnote_cell_type": "code",
    "deepnote_to_be_reexecuted": false,
    "execution_millis": 21,
    "execution_start": 1631516706708,
    "source_hash": "6d9ecb09",
    "tags": []
   },
   "outputs": [
    {
     "name": "stdout",
     "output_type": "stream",
     "text": [
      "['City', 'fullname']\n",
      "('Calgary', 'Nancy Edwards')\n",
      "('Calgary', 'Jane Peacock')\n",
      "('Calgary', 'Margaret Park')\n",
      "('Calgary', 'Steve Johnson')\n",
      "('Calgary', 'Michael Mitchell')\n",
      "('Edmonton', 'Andrew Adams')\n",
      "('Lethbridge', 'Robert King')\n",
      "('Lethbridge', 'Laura Callahan')\n"
     ]
    }
   ],
   "source": [
    "# Aufgabe 10: Folgende query gibt uns alle Personen nach Stadt geordnet.\n",
    "# Der ||-Operator verbindet zwei Strings. \n",
    "stmt = \"\"\"SELECT DISTINCT\n",
    "\te1.city,\n",
    "\te1.firstName || ' ' || e1.lastname AS fullname\n",
    "FROM\n",
    "\temployees e1\n",
    "ORDER BY\n",
    "\te1.city;\n",
    "\"\"\"\n",
    "cur = execute_query(connection, stmt)\n",
    "print_results(cur)\n",
    "\n",
    "# Wie drucken wir nun nur diejenigen Städte, in welchen mindestens zwei Personen wohnen?\n",
    "# Tipp: self-join verwenden und sicherstellen, dass die Stadt gleich ist, die Person aber nicht.\n"
   ]
  },
  {
   "cell_type": "markdown",
   "metadata": {
    "cell_id": "00012-06831ba6-bde3-4d2d-8baa-bce917138de6",
    "deepnote_cell_type": "markdown",
    "tags": []
   },
   "source": [
    "## Subqueries\n",
    "\n",
    "```sql\n",
    "SELECT column_1 \n",
    "  FROM table_1 \n",
    "  WHERE column_1 = \n",
    "  (\n",
    "    SELECT column_2 \n",
    "    FROM table_2 \n",
    "  );\n",
    "```\n",
    "\n",
    "* Subqueries sind erlaubt nach `SELECT`, `FROM` , `HERE` und `JOIN`.\n",
    "* Subqueries geben oftmals einen einzigen Wert zurück (Ausnahme: IN-Operator)\n",
    "\n",
    "\n"
   ]
  },
  {
   "cell_type": "code",
   "execution_count": null,
   "metadata": {
    "cell_id": "00014-0b736622-9d6e-492c-b9ae-9909b87f996f",
    "deepnote_cell_type": "code",
    "deepnote_to_be_reexecuted": false,
    "execution_millis": 38,
    "execution_start": 1631516706719,
    "source_hash": "d7ec3a1c",
    "tags": []
   },
   "outputs": [
    {
     "name": "stdout",
     "output_type": "stream",
     "text": [
      "['TrackId', 'Name', 'AlbumId']\n",
      "(15, 'Go Down', 4)\n",
      "(16, 'Dog Eat Dog', 4)\n",
      "(17, 'Let There Be Rock', 4)\n",
      "(18, 'Bad Boy Boogie', 4)\n",
      "(19, 'Problem Child', 4)\n",
      "(20, 'Overdose', 4)\n",
      "(21, \"Hell Ain't A Bad Place To Be\", 4)\n",
      "(22, 'Whole Lotta Rosie', 4)\n"
     ]
    }
   ],
   "source": [
    "# Beispiel 1: finde das Album mit title='Let There Be Rock' und zeige alle tracks in diesem Album. \n",
    "# PS: Diese Query könnte auch mit einem Join implementiert werden. Ausprobieren ist freiwillig.\n",
    "stmt = \"\"\"\n",
    "SELECT trackid, name, albumid \n",
    "  FROM tracks \n",
    "  WHERE albumid = \n",
    "  ( \n",
    "    SELECT albumid \n",
    "      FROM albums \n",
    "      WHERE title = \"Let There Be Rock\" \n",
    "  );\"\"\"\n",
    "cur = execute_query(connection, stmt)\n",
    "print_results(cur)"
   ]
  },
  {
   "cell_type": "code",
   "execution_count": null,
   "metadata": {
    "cell_id": "00015-8b185681-4a2e-46e9-917f-e11d72b645ff",
    "deepnote_cell_type": "code",
    "deepnote_to_be_reexecuted": false,
    "execution_millis": 25,
    "execution_start": 1631516706732,
    "source_hash": "f799361",
    "tags": []
   },
   "outputs": [
    {
     "name": "stdout",
     "output_type": "stream",
     "text": [
      "['CustomerId', 'FirstName', 'LastName']\n",
      "(1, 'Luís', 'Gonçalves')\n",
      "(2, 'Leonie', 'Köhler')\n",
      "(3, 'François', 'Tremblay')\n",
      "(4, 'Bjørn', 'Hansen')\n",
      "(5, 'František', 'Wichterlová')\n",
      "(6, 'Helena', 'Holý')\n",
      "(7, 'Astrid', 'Gruber')\n",
      "(8, 'Daan', 'Peeters')\n",
      "(9, 'Kara', 'Nielsen')\n",
      "(10, 'Eduardo', 'Martins')\n"
     ]
    }
   ],
   "source": [
    "# Beispiel 2: finde alle Kunden mit einem oder einer Supportverantwortlichen in 'Canada'. \n",
    "stmt=\"\"\"\n",
    "SELECT customerid, firstname, lastname \n",
    "  FROM customers\n",
    "  WHERE supportrepid IN \n",
    "  ( \n",
    "    SELECT employeeid FROM employees \n",
    "    WHERE country = \"Canada\" \n",
    "  ); \n",
    "\"\"\"\n",
    "cur = execute_query(connection, stmt)\n",
    "print_results(cur)"
   ]
  },
  {
   "cell_type": "code",
   "execution_count": null,
   "metadata": {
    "cell_id": "00016-04208a09-da7c-41bc-b8ff-bc9d46ef3e94",
    "deepnote_cell_type": "code",
    "deepnote_to_be_reexecuted": false,
    "execution_millis": 12,
    "execution_start": 1631516706745,
    "source_hash": "c0262190",
    "tags": []
   },
   "outputs": [
    {
     "name": "stdout",
     "output_type": "stream",
     "text": [
      "['name', 'Company']\n",
      "('Aaron Mitchell', None)\n",
      "('Alexandre Rocha', 'Banco do Brasil S.A.')\n",
      "('Astrid Gruber', None)\n",
      "('Bjørn Hansen', None)\n",
      "('Camille Bernard', None)\n",
      "('Daan Peeters', None)\n",
      "('Dan Miller', None)\n",
      "('Diego Gutiérrez', None)\n",
      "('Dominique Lefebvre', None)\n",
      "('Eduardo Martins', 'Woodstock Discos')\n"
     ]
    }
   ],
   "source": [
    "# Beispiel 3: Finde alle Kunden mit einer Rechnung. \n",
    "stmt=\"\"\"\n",
    "SELECT\n",
    "    FirstName || \" \" || LastName name, Company\n",
    "FROM\n",
    "    Customers c\n",
    "WHERE\n",
    "    EXISTS (\n",
    "        SELECT \n",
    "            1 \n",
    "        FROM \n",
    "            Invoices\n",
    "        WHERE \n",
    "            CustomerId = c.CustomerId\n",
    "    )\n",
    "ORDER BY\n",
    "    name; \n",
    "\"\"\"\n",
    "cur = execute_query(connection, stmt)\n",
    "print_results(cur)"
   ]
  },
  {
   "cell_type": "code",
   "execution_count": null,
   "metadata": {
    "allow_embed": false,
    "cell_id": "00017-eb504a48-8a5e-4bec-9cda-e4bda01747a5",
    "deepnote_cell_type": "code",
    "deepnote_to_be_reexecuted": false,
    "execution_millis": 28,
    "execution_start": 1631516706753,
    "source_hash": "2bd2074",
    "tags": []
   },
   "outputs": [
    {
     "name": "stdout",
     "output_type": "stream",
     "text": [
      "['ROUND(AVG(album.size) / 1024 / 1024)']\n",
      "(323.0,)\n"
     ]
    }
   ],
   "source": [
    "# Beispiel 4: Finde die durchschnittliche Album-Grösse in MB. Dazu müssen zuerst alle Tracks zusammengezählt werden.\n",
    "stmt=\"\"\"\n",
    "SELECT \n",
    "  ROUND(AVG(album.size) / 1024 / 1024)\n",
    "FROM \n",
    "  ( \n",
    "    SELECT SUM(bytes) size \n",
    "      FROM tracks \n",
    "      GROUP BY albumid\n",
    "  ) AS album;\n",
    "\"\"\"\n",
    "cur = execute_query(connection, stmt)\n",
    "print_results(cur)"
   ]
  },
  {
   "cell_type": "markdown",
   "metadata": {
    "cell_id": "00015-0b13d5d3-84ea-4058-bbee-db63f6a69397",
    "deepnote_cell_type": "text-cell-h3",
    "is_collapsed": false,
    "tags": []
   },
   "source": [
    "### Aufgabe 11: Subqueries mit IN"
   ]
  },
  {
   "cell_type": "code",
   "execution_count": null,
   "metadata": {
    "cell_id": "00017-7599aa29-2bcf-4976-9bce-19b79d62166f",
    "deepnote_cell_type": "code",
    "deepnote_to_be_reexecuted": false,
    "execution_millis": 4,
    "execution_start": 1631516706767,
    "source_hash": "a2e02177",
    "tags": []
   },
   "outputs": [],
   "source": [
    "#Aufgabe 11: Folgende Query listet alle Genres vom Typ \"Alternative\" \n",
    "stmt = \"\"\"\n",
    "SELECT genreid, name \n",
    "  FROM genres WHERE name LIKE \"alt%\";\n",
    "\"\"\"\n",
    "# Augabe: Zähle die Anzahl Tracks die zum Genre \"Alternative\" gehören. \n"
   ]
  },
  {
   "cell_type": "markdown",
   "metadata": {
    "cell_id": "00017-e6c7fbc8-a790-42ea-bc61-e06897ac5798",
    "deepnote_cell_type": "text-cell-h3",
    "is_collapsed": false,
    "tags": []
   },
   "source": [
    "### Aufgabe 12: Subqueries mit [NOT] EXISTS"
   ]
  },
  {
   "cell_type": "code",
   "execution_count": null,
   "metadata": {
    "cell_id": "00018-123d9022-23b9-4fcb-bf47-eb016b1675c7",
    "deepnote_cell_type": "code",
    "deepnote_to_be_reexecuted": false,
    "execution_millis": 0,
    "execution_start": 1631516706776,
    "source_hash": "76c4dae",
    "tags": []
   },
   "outputs": [],
   "source": [
    "# Aufgabe 12a: Suche die Anzahl Artists die in mindestens ein Album zugewiesen haben.\n",
    "# Aufgabe 12b: Suche die Anzahl Artists die keine Album zugewiesen haben.\n"
   ]
  },
  {
   "cell_type": "markdown",
   "metadata": {
    "cell_id": "00022-da1ac782-66be-43c0-85cd-2fccc4348913",
    "deepnote_cell_type": "text-cell-h2",
    "is_collapsed": false,
    "tags": []
   },
   "source": [
    "## Lösungen"
   ]
  },
  {
   "cell_type": "code",
   "execution_count": null,
   "metadata": {
    "cell_id": "00003-2189f617-e2dd-4d0d-b907-bb789c49efef",
    "deepnote_cell_type": "code",
    "deepnote_to_be_reexecuted": false,
    "execution_millis": 8,
    "execution_start": 1631516706810,
    "source_hash": "75e5d153",
    "tags": []
   },
   "outputs": [
    {
     "name": "stdout",
     "output_type": "stream",
     "text": [
      "['Name', 'Title', 'Name']\n",
      "('For Those About To Rock (We Salute You)', 'For Those About To Rock We Salute You', 'AC/DC')\n",
      "('Put The Finger On You', 'For Those About To Rock We Salute You', 'AC/DC')\n",
      "(\"Let's Get It Up\", 'For Those About To Rock We Salute You', 'AC/DC')\n",
      "('Inject The Venom', 'For Those About To Rock We Salute You', 'AC/DC')\n",
      "('Snowballed', 'For Those About To Rock We Salute You', 'AC/DC')\n",
      "('Evil Walks', 'For Those About To Rock We Salute You', 'AC/DC')\n",
      "('C.O.D.', 'For Those About To Rock We Salute You', 'AC/DC')\n",
      "('Breaking The Rules', 'For Those About To Rock We Salute You', 'AC/DC')\n",
      "('Night Of The Long Knives', 'For Those About To Rock We Salute You', 'AC/DC')\n",
      "('Spellbound', 'For Those About To Rock We Salute You', 'AC/DC')\n"
     ]
    }
   ],
   "source": [
    "# Aufgabe #9: Für 10 Tracks LIMIT 10), zeige deren Namen, den Albumtitel und den Namen des Artisten.\n",
    "stmt = \"\"\"SELECT tr.name, al.Title, ar.Name\n",
    "FROM tracks tr\n",
    "    INNER JOIN albums al USING(AlbumId)\n",
    "    INNER JOIN artists ar USING(ArtistId)\n",
    "        LIMIT 10;\"\"\"\n",
    "cur = execute_query(connection, stmt)\n",
    "print_results(cur)"
   ]
  },
  {
   "cell_type": "code",
   "execution_count": null,
   "metadata": {
    "cell_id": "00005-7b67c59a-52c2-4260-908a-55cc9131d43a",
    "deepnote_cell_type": "code",
    "deepnote_to_be_reexecuted": false,
    "execution_millis": 7,
    "execution_start": 1631516706811,
    "source_hash": "606d38c1",
    "tags": []
   },
   "outputs": [
    {
     "name": "stdout",
     "output_type": "stream",
     "text": [
      "59\n",
      "['FirstName', 'LastName', 'count(tr.name)']\n"
     ]
    }
   ],
   "source": [
    "#Aufgabe 9+: Finde die Anzahl Tracks mit Mediatype \"MPEG audio file\", die pro Person/Customer gekauft wurden.\n",
    "stmt = \"\"\"SELECT cu.firstname, cu.lastname, count(tr.name)\n",
    "FROM customers cu\n",
    "    INNER JOIN invoices iv USING(CustomerId)\n",
    "    INNER JOIN invoice_items ii USING(InvoiceId)\n",
    "    INNER JOIN tracks tr USING(TrackId)\n",
    "    INNER JOIN media_types mt USING(MediaTypeId)\n",
    "    WHERE mt.name = \"MPEG audio file\"\n",
    "    GROUP BY  cu.customerid\n",
    "        ;\"\"\"\n",
    "cur = execute_query(connection, stmt)\n",
    "rows = cur.fetchall()\n",
    "print(len(rows))\n",
    "print_results(cur)"
   ]
  },
  {
   "cell_type": "code",
   "execution_count": null,
   "metadata": {
    "allow_embed": false,
    "cell_id": "00013-c505e311-f3af-424e-977e-5697919ade35",
    "deepnote_cell_type": "code",
    "deepnote_to_be_reexecuted": false,
    "execution_millis": 20,
    "execution_start": 1631516706812,
    "source_hash": "49103749",
    "tags": []
   },
   "outputs": [
    {
     "name": "stdout",
     "output_type": "stream",
     "text": [
      "['City', 'fullname']\n",
      "('Calgary', 'Nancy Edwards')\n",
      "('Calgary', 'Jane Peacock')\n",
      "('Calgary', 'Margaret Park')\n",
      "('Calgary', 'Steve Johnson')\n",
      "('Calgary', 'Michael Mitchell')\n",
      "('Edmonton', 'Andrew Adams')\n",
      "('Lethbridge', 'Robert King')\n",
      "('Lethbridge', 'Laura Callahan')\n",
      "----\n",
      "['City', 'fullname']\n",
      "('Calgary', 'Nancy Edwards')\n",
      "('Calgary', 'Jane Peacock')\n",
      "('Calgary', 'Margaret Park')\n",
      "('Calgary', 'Steve Johnson')\n",
      "('Calgary', 'Michael Mitchell')\n",
      "('Lethbridge', 'Robert King')\n",
      "('Lethbridge', 'Laura Callahan')\n"
     ]
    }
   ],
   "source": [
    "# Aufgabe 10: Folgende query gibt uns alle Personen nach Stadt geordnet.\n",
    "# Der ||-Operator verbindet zwei Strings. \n",
    "stmt = \"\"\"SELECT DISTINCT\n",
    "\te1.city,\n",
    "\te1.firstName || ' ' || e1.lastname AS fullname\n",
    "FROM\n",
    "\temployees e1\n",
    "ORDER BY\n",
    "\te1.city;\n",
    "\"\"\"\n",
    "cur = execute_query(connection, stmt)\n",
    "print_results(cur)\n",
    "\n",
    "# Wie drucken wir nun nur diejenigen Städte, in welchen mindestens zwei Personen wohnen?\n",
    "# Tipp: self-join verwenden und sicherstellen, dass die Stadt gleich ist, die Person aber nicht.\n",
    "stmt=\"\"\"SELECT DISTINCT\n",
    "\te1.city,\n",
    "\te1.firstName || ' ' || e1.lastname AS fullname\n",
    "FROM\n",
    "\temployees e1\n",
    "INNER JOIN employees e2 ON e2.city = e1.city \n",
    "   AND (e1.firstname <> e2.firstname AND e1.lastname <> e2.lastname)\n",
    "ORDER BY\n",
    "\te1.city;\n",
    "\"\"\"\n",
    "cur = execute_query(connection, stmt)\n",
    "print(\"----\")\n",
    "print_results(cur)"
   ]
  },
  {
   "cell_type": "code",
   "execution_count": null,
   "metadata": {
    "allow_embed": false,
    "cell_id": "00020-a27dd4dc-2195-4bfb-aefb-b06555bcc814",
    "deepnote_cell_type": "code",
    "deepnote_to_be_reexecuted": false,
    "execution_millis": 22,
    "execution_start": 1631516706832,
    "source_hash": "1d561505",
    "tags": []
   },
   "outputs": [
    {
     "name": "stdout",
     "output_type": "stream",
     "text": [
      "['COUNT(*)']\n",
      "(372,)\n"
     ]
    }
   ],
   "source": [
    "#Aufgabe 11: Folgende Query listet alle Genres vom Typ \"Alternative\" \n",
    "stmt = \"\"\"\n",
    "SELECT genreid, name \n",
    "  FROM genres WHERE name LIKE \"alt%\";\n",
    "\"\"\"\n",
    "# Augabe: Zähle die Anzahl Tracks die zum Genre \"Alternative\" gehören. \n",
    "stmt = \"\"\"\n",
    "SELECT COUNT(*)\n",
    "    FROM tracks t\n",
    "WHERE t.genreid IN\n",
    " (SELECT genreid \n",
    "  FROM genres WHERE name LIKE \"alt%\");\"\"\"\n",
    "cur = execute_query(connection, stmt)\n",
    "print_results(cur)"
   ]
  },
  {
   "cell_type": "code",
   "execution_count": null,
   "metadata": {
    "allow_embed": false,
    "cell_id": "00022-07f70a5a-61d4-4eeb-bdd7-35420c587d78",
    "deepnote_cell_type": "code",
    "deepnote_to_be_reexecuted": false,
    "execution_millis": 16,
    "execution_start": 1631516706849,
    "source_hash": "7134ac82",
    "tags": []
   },
   "outputs": [
    {
     "name": "stdout",
     "output_type": "stream",
     "text": [
      "['count(*)']\n",
      "(204,)\n",
      "['count(*)']\n",
      "(70,)\n"
     ]
    }
   ],
   "source": [
    "# Aufgabe 12a: Suche die Anzahl Artists die in mindestens ein Album zugewiesen haben.\n",
    "# Aufgabe 12b: Suche die Anzahl Artists die keine Album zugewiesen haben.\n",
    "stmt=\"\"\"\n",
    "SELECT count(*) FROM \n",
    "    artists a\n",
    "WHERE EXISTS (\n",
    "    SELECT 1 FROM albums\n",
    "    WHERE a.artistid = artistid\n",
    ");\n",
    "\"\"\"\n",
    "cur = execute_query(connection, stmt)\n",
    "print_results(cur)\n",
    "\n",
    "stmt=\"\"\"\n",
    "SELECT count(*) FROM \n",
    "    artists a\n",
    "WHERE NOT EXISTS (\n",
    "    SELECT 1 FROM albums\n",
    "    WHERE a.artistid = artistid\n",
    ");\n",
    "\"\"\"\n",
    "cur = execute_query(connection, stmt)\n",
    "print_results(cur)"
   ]
  }
 ],
 "metadata": {
  "deepnote": {
   "is_reactive": false
  },
  "deepnote_execution_queue": [],
  "deepnote_notebook_id": "e5ac9821-69c9-46c7-9b89-605c6f5ae691",
  "kernelspec": {
   "display_name": "Python 3 (ipykernel)",
   "language": "python",
   "name": "python3"
  },
  "language_info": {
   "codemirror_mode": {
    "name": "ipython",
    "version": 3
   },
   "file_extension": ".py",
   "mimetype": "text/x-python",
   "name": "python",
   "nbconvert_exporter": "python",
   "pygments_lexer": "ipython3",
   "version": "3.8.12"
  }
 },
 "nbformat": 4,
 "nbformat_minor": 4
}
