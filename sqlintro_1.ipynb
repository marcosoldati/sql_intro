{
 "cells": [
  {
   "cell_type": "markdown",
   "source": "# Einführung in SQL - Vorbereitungsauftrag\n\n## Einleitung\nIn diesem Kurs werden die Grundlagen zur `Structured Query Language (SQL)` vermittelt. Um in vier Lektionen ein gewisses Niveau zu erreichen, möchte ich euch bitten, einige Vorbereitungsarbeiten auszuführen und euch mit SQL und der Arbeitsumgebung vertraut zu machen. Dieses Notebook leitet euch Schritt für Schritt durch den Prozess. \n\nTechnische Voraussetzung für das Notebook sind grundlegende Kenntnisse in Python, Jupyter Notebooks und Deepnote oder Anaconda sowie Erfahrungen mit Datenstrukturen wie Arrays/Listen, Tabellen, etc.\nWenn du schon vertiefte SQL-Kenntnisse hast, bitte ich dich, die Test-Umgebung aufzusetzen und dich mit der Test-Datenbank vertraut zu machen. Die Übungen kannst du weglassen und vielleicht am Schluss noch den Fragebogen ausfüllen.\n\nIn diesem Tutorial schlage ich ein eher schnelles Tempo an. Wenn das zu schnell ist oder du detailliertere Infos haben möchtest, kannst du dir auch folgendes Video anzuschauen (ca 1 Stunde):\n* https://www.linkedin.com/learning/sql-lernen - Einsteiger-Video auf *Linkedin learning*. *Linkedin Learning* steht allen Studierenden der FHNW kostenlos zur Verfügung, solange sie im FH-Netz sind bzw. sich über https://vpn.fhnw.ch einloggen.\n\nBei Fragen oder Problemen stehe ich über Microsoft Teams oder per Mail (marco.soldati@fhnw.ch) gerne zur Verfügung.\n",
   "metadata": {
    "tags": [],
    "cell_id": "00002-4c730b25-f604-4cb7-aee1-0dc090f477fb",
    "deepnote_cell_type": "markdown"
   }
  },
  {
   "cell_type": "markdown",
   "source": "## Ziele der Vorbereitung\nFolgende Fragen und Aussagen solltest du mit Ja beantworten können, um für den Unterricht bereit zu sein. \n\n**1. SQlite-Datenbank einrichten**\n* [ ] Ich habe die lokale Test-Datenbank (sqlite) eingerichtet.\n* [ ] Ich kann mit Python auf die Test-Datenbank zugreifen.\n* [ ] Ich kenne die grobe Struktur der im Unterricht verwendeten Datenbank.\n\n**2. Grundlagen Relationale Datenbanken**\n* [ ] Ich kenne die Grundbegriffe von relationalen Datenkbanken (Tabelle, Reihe, Spalte).\n* [ ] Ich verstehe was die Aufgabe von SQL ist (Sprache für Datenzugriff und -manipulation).\n\n**3. Select statements**\n* [ ] Ich kenne die Grundlegende Syntax von SELECT-Befehlen.\n* [ ] Ich kann eigene, einfache SELECT-Queries auf einer einzelnen Tabelle kreieren.\n* [ ] Ich kann Daten sortieren (ORDER BY).\n* [ ] Ich kann Duplikate ignorieren (DISTINCT).\n* [ ] Ich kann einfache Filter-Regeln (WHERE-Clause) implementieren.\n* [ ] Ich kann einfache Aggregationsfunktionen verwenden (SUM, AVG, MIN, MAX, ...)\n* [ ] Ich kann einen INNER JOIN auf zwei Tabellen mit einem gemeinsamen Referenz-Feld erstellen.\n* [ ] Ich kenne grundsätzlich den Unterschied zwischen INNER JOIN und LEFT (OUTER) JOIN.\n* [ ] Ich kann Daten gruppieren (GROUP BY) und mit Aggregationsfunktionen zusammenfassen.\n",
   "metadata": {
    "tags": [],
    "cell_id": "00001-02804a54-c419-424a-bc4a-06fa33035158",
    "deepnote_cell_type": "markdown"
   }
  },
  {
   "cell_type": "markdown",
   "source": "## SQlite-Datenbank einrichten",
   "metadata": {
    "tags": [],
    "is_collapsed": false,
    "cell_id": "00003-0809e6f4-0e49-4206-8f2b-49123d9b1acc",
    "deepnote_cell_type": "text-cell-h2"
   }
  },
  {
   "cell_type": "markdown",
   "source": "Für die Test-Datenbank verwenden wir `sqlite`. Diese wird mit Python mitgeliefert und braucht keine weitere Installation.\n\nFür Data Science bietet `sqlite` einige Vorteile gegenüber CSV- oder JSON-Files. Insbesondere dann, wenn Daten aggregiert (also zusammengeführt), gefiltert oder sortiert werden müssen, ist SQL sehr leistungsfähig. Der Nachteil ist die zusätzlich benötigte Technologie, um Daten abzufragen und zu verarbeiten sowie die Notwendigkeit ein Datenbankschema zu erstellen.\n\nUm Datenbanken produktiv nutzen zu können, braucht es etwas Übung und Erfahrung. In vier Lektionen können wir aber nur die Grundlagen anschauen. Deshalb rate ich euch für Projekte im CAS und privat, wenn immer möglich mit einer relationalen Datenbank zu arbeiten. SQL eignet sich relativ gut zum learning-on-the-job. Es ist auf jeden Fall einfacher zu lernen als Python ;-).",
   "metadata": {
    "tags": [],
    "cell_id": "00004-e27664e3-400f-4508-ae86-86f778566b2f",
    "deepnote_cell_type": "markdown"
   }
  },
  {
   "cell_type": "code",
   "metadata": {
    "tags": [],
    "cell_id": "00006-0d455b3a-befc-4420-9ffd-febeaa331a1b",
    "deepnote_to_be_reexecuted": false,
    "source_hash": "9f457869",
    "execution_start": 1632335482757,
    "execution_millis": 9,
    "deepnote_cell_type": "code"
   },
   "source": "# Als erstes werden einige Hilfsfunktionen definiert, die für diesen Kurs nützlich sind. \n# Öffne die Datei ./util/sqlite_util.py und stelle sicher, dass du grundsätzlich verstehst, was die Funktionen machen.\n\nfrom util.sqlite_util import *",
   "outputs": [],
   "execution_count": null
  },
  {
   "cell_type": "code",
   "metadata": {
    "tags": [],
    "cell_id": "00007-3523a653-e001-44d2-9335-292599c2138f",
    "deepnote_to_be_reexecuted": false,
    "source_hash": "9ee17004",
    "execution_start": 1632335482773,
    "execution_millis": 19,
    "deepnote_cell_type": "code"
   },
   "source": "# Jetzt können wir eine neue Datenbank erstellen, Benutzen werden wir sie aber erst später...\npath = get_connection_path(\"sql_kurs.sqlite\")\nconnection = create_connection(path)\n\n# ... deshalb schliessen wir sie gleich wieder\nif connection:\n    connection.close() # connections immer schliessen, wenn sie nicht mehr gebraucht werden.\n\n# Die Datei ./data/sql_kurs.sqlite bleibt dabei bestehen. ",
   "outputs": [
    {
     "name": "stdout",
     "text": "Connection to SQLite DB 2.6.0 (./data/sql_kurs.sqlite) successful\n",
     "output_type": "stream"
    }
   ],
   "execution_count": null
  },
  {
   "cell_type": "markdown",
   "source": "## Relationale Datenbanken - Begriffe",
   "metadata": {
    "tags": [],
    "is_collapsed": false,
    "cell_id": "00007-6821f05c-53d5-4c2e-b8ca-a8e8ead19ff9",
    "deepnote_cell_type": "text-cell-h2"
   }
  },
  {
   "cell_type": "markdown",
   "source": "*Hier einige Begriff für Neulinge. Wer mit SQL bereits vertraut ist, kann diesen Abschnitt überspringen.*\n\n### Relationale Datenbanken \n> Eine relationale Datenbank ist ein Typ von Datenbanken, der die Speicherung und den Zugriff auf miteinander verbundener Datenpunkte ermöglicht. Relationale Datenbanken basieren auf dem relationalen Modell, einer intuitiven und einfachen Art, Daten in Tabellen darzustellen. (Quelle: Oracle Schweiz)\n\n\n### Structure Query Language (SQL)\nZum Abfragen und Manipulieren der Daten wird überwiegend die Datenbanksprache SQL (Structured Query Language) eingesetzt, deren theoretische Grundlage die relationale Algebra ist.  SQL ist ein offizieller [ISO-Standard](https://www.iso.org/standard/63555.html) und wird von allen bekannten Datenbank Management Systemen umgesetzt. Allfällige produktspezifische Erweiterungen und Abweichungen davon sind meistens gut dokumentiert, so auch für [sqlite](https://www.sqlite.org/lang.html). \n\n### Database Management System DBMS\nEin DBMS ist ein Softwaresystem zum Erstellen und Verwalten von Datenbanken. Im produktiven Betrieb werden verschiedene relationale DBMS eingesetzt, z.B. IBM DB2, Microsoft SQL Server, MySQL, MariaDB, Oracle, PostgreSQL. Für jede Datenbank muss jeweils eine geeignete Client-Bibliothek, ein sogenannter `connector` in Python eingebunden werden. Dies wird in diesem Kurs nicht behandelt, da die Python-Syntax für die jeweiligen Bibliotheken angepasst werden muss.\n\nDBMS oder kurz einfach Datenbanken laufen im Normalfall auf einem eigenen Server. Python greift dann über die Client-Bibliothek, also dem `connector`, auf die Datenbank zu. Bei `sqlite` läuft die Datenbank direkt auf dem Client bzw. im aktuellen Python-Programm. Die Daten werden in einer lokalen Datei gespeichert. Damit eignet sich `sqlite` sehr gut, um kleinere Datenmengen (im MB bis GB-Bereich) lokal und strukturiert abzulegen.\n\n### Datenbankschema\nEine relationale Datenbank kann man sich als eine Sammlung von *Tabellen* (den *Relationen*) vorstellen, in welchen Datensätze abgespeichert sind. Jede *Zeile* (*Tupel* oder *row*) in einer Tabelle ist ein *Datensatz* (*record*). Jedes *Tupel* besteht aus einer Reihe von *Attributwerten* (Attribute = Eigenschaften). Diese sind in den *Spalten* (*column*) der Tabelle definiert. \n\nDas Datenbank- oder Relationenschema legt dabei die Anzahl und den Typ der Attribute für eine Relation fest. ",
   "metadata": {
    "tags": [],
    "cell_id": "00006-813049ff-0069-433e-9139-6cd1b5455651",
    "deepnote_cell_type": "markdown"
   }
  },
  {
   "cell_type": "markdown",
   "source": "## Beispiel-Datenbank\n\nDiese Einführung basiert auf https://www.sqlitetutorial.net und wurde für Python/Jupyter adaptiert und zusammengefasst. Mehr Details finden sich auf der Original-Webseite.\n\nUntenstehendes Datenbank-Schema beschreibt unsere Beispiels-Datenbank und dürfte mehr oder weniger selbsterklärend sein. Details gibt es unter https://www.sqlitetutorial.net/sqlite-sample-database/.\n![Schema](./img/sqlite-sample-database-diagram-color.png)",
   "metadata": {
    "tags": [],
    "cell_id": "00008-84200ae1-6cd5-4653-a22d-d742212f5913",
    "deepnote_cell_type": "markdown"
   }
  },
  {
   "cell_type": "code",
   "metadata": {
    "tags": [],
    "cell_id": "00007-bd48335d-6158-4eb6-88cd-bc46f30d7863",
    "deepnote_to_be_reexecuted": false,
    "source_hash": "5a9fc0a6",
    "execution_start": 1632335482779,
    "execution_millis": 13,
    "deepnote_cell_type": "code"
   },
   "source": "# Test-Datenbank öffnen\npath = get_connection_path(\"chinook.sqlite\")\nconnection = create_connection(path)",
   "outputs": [
    {
     "name": "stdout",
     "text": "Connection to SQLite DB 2.6.0 (./data/chinook.sqlite) successful\n",
     "output_type": "stream"
    }
   ],
   "execution_count": null
  },
  {
   "cell_type": "code",
   "metadata": {
    "tags": [],
    "cell_id": "00011-7983c7aa-f4c6-43c3-85e8-02af683afa76",
    "deepnote_to_be_reexecuted": false,
    "source_hash": "b9967b70",
    "execution_start": 1632335482787,
    "execution_millis": 19,
    "deepnote_cell_type": "code"
   },
   "source": "# Um die Datenbank-Struktur anzuschauen gibt es zwei Hilfsmethoden.\nprint(\"Zeige alle Tabellen der Datenbank:\")\nprint(show_tables(connection))\nprint(\"\\nDetails zur Tabelle 'invoices':\")\nprint(desc_table(connection, \"invoices\"))",
   "outputs": [
    {
     "name": "stdout",
     "text": "Zeige alle Tabellen der Datenbank:\n['albums', 'artists', 'customers', 'employees', 'genres', 'invoices', 'invoice_items', 'media_types', 'playlists', 'playlist_track', 'tracks']\n\nDetails zur Tabelle 'invoices':\nCREATE TABLE \"invoices\"\r\n(\r\n    [InvoiceId] INTEGER PRIMARY KEY AUTOINCREMENT NOT NULL,\r\n    [CustomerId] INTEGER  NOT NULL,\r\n    [InvoiceDate] DATETIME  NOT NULL,\r\n    [BillingAddress] NVARCHAR(70),\r\n    [BillingCity] NVARCHAR(40),\r\n    [BillingState] NVARCHAR(40),\r\n    [BillingCountry] NVARCHAR(40),\r\n    [BillingPostalCode] NVARCHAR(10),\r\n    [Total] NUMERIC(10,2)  NOT NULL,\r\n    FOREIGN KEY ([CustomerId]) REFERENCES \"customers\" ([CustomerId]) \r\n\t\tON DELETE NO ACTION ON UPDATE NO ACTION\r\n)\n",
     "output_type": "stream"
    }
   ],
   "execution_count": null
  },
  {
   "cell_type": "markdown",
   "source": "Damit sind wir bereit für die eigentliche Einführung in SQL. Wir betrachten die wichtigsten Befehle zur Datenabfrage.",
   "metadata": {
    "tags": [],
    "cell_id": "00010-732bf1b3-1c01-47ab-9217-b120820c591e",
    "deepnote_cell_type": "markdown"
   }
  },
  {
   "cell_type": "markdown",
   "source": "## SELECT statements\n\nSelect wird verwendet, um Daten aus einer Tabelle zu laden.",
   "metadata": {
    "tags": [],
    "cell_id": "00011-57e0491a-153a-4c47-a572-878c7294a5c3",
    "deepnote_cell_type": "markdown"
   }
  },
  {
   "cell_type": "code",
   "metadata": {
    "tags": [],
    "cell_id": "00008-9f578268-d205-42a0-885e-c67971ef645c",
    "deepnote_to_be_reexecuted": false,
    "source_hash": "49293579",
    "execution_start": 1632335482823,
    "execution_millis": 19,
    "deepnote_cell_type": "code"
   },
   "source": "# Mit dieser Query laden wir alle Elemente der Tabelle 'tracks'.\nstmt = \"\"\"SELECT * FROM tracks LIMIT 10;\"\"\"\n\n# Nun wird die Query auf der Datenbank ausgeführt, und in einem sogenannten Cursor zurückgegen. \n# Der Cursor zeigt auf die Daten ohne sie bereits zu laden.\ncur = execute_query(connection, stmt)\n\n# Zum Laden holen mit .fetchall() auf dem Cursor-Objekt alle Datensätze ab. \nrows = cur.fetchall()\n\n# Das Resultat ist ein Array mit allen Datensätzen. Jeder Datensatz ist wiederum ein Array. \n# Wir haben es also mit einem zweidimensionalen Python-Array zu tun.\nprint(rows)\nprint(rows[0])\nprint(rows[0][0])\n\n# Bitte mache dich mit dieser Datenstruktur vertraut.\n# https://www.snakify.org/de/lessons/two_dimensional_lists_arrays/ gibt weitere Hilfe..\n",
   "outputs": [
    {
     "name": "stdout",
     "text": "[(1, 'For Those About To Rock (We Salute You)', 1, 1, 1, 'Angus Young, Malcolm Young, Brian Johnson', 343719, 11170334, 0.99), (2, 'Balls to the Wall', 2, 2, 1, None, 342562, 5510424, 0.99), (3, 'Fast As a Shark', 3, 2, 1, 'F. Baltes, S. Kaufman, U. Dirkscneider & W. Hoffman', 230619, 3990994, 0.99), (4, 'Restless and Wild', 3, 2, 1, 'F. Baltes, R.A. Smith-Diesel, S. Kaufman, U. Dirkscneider & W. Hoffman', 252051, 4331779, 0.99), (5, 'Princess of the Dawn', 3, 2, 1, 'Deaffy & R.A. Smith-Diesel', 375418, 6290521, 0.99), (6, 'Put The Finger On You', 1, 1, 1, 'Angus Young, Malcolm Young, Brian Johnson', 205662, 6713451, 0.99), (7, \"Let's Get It Up\", 1, 1, 1, 'Angus Young, Malcolm Young, Brian Johnson', 233926, 7636561, 0.99), (8, 'Inject The Venom', 1, 1, 1, 'Angus Young, Malcolm Young, Brian Johnson', 210834, 6852860, 0.99), (9, 'Snowballed', 1, 1, 1, 'Angus Young, Malcolm Young, Brian Johnson', 203102, 6599424, 0.99), (10, 'Evil Walks', 1, 1, 1, 'Angus Young, Malcolm Young, Brian Johnson', 263497, 8611245, 0.99)]\n(1, 'For Those About To Rock (We Salute You)', 1, 1, 1, 'Angus Young, Malcolm Young, Brian Johnson', 343719, 11170334, 0.99)\n1\n",
     "output_type": "stream"
    }
   ],
   "execution_count": null
  },
  {
   "cell_type": "markdown",
   "source": "### Aufgabe #1",
   "metadata": {
    "tags": [],
    "is_collapsed": false,
    "cell_id": "00012-f99dbbd2-4e11-4c66-b526-0d30f02285de",
    "deepnote_cell_type": "text-cell-h3"
   }
  },
  {
   "cell_type": "code",
   "metadata": {
    "tags": [],
    "cell_id": "00012-90825941-325f-4f7f-8f15-bb3d1be6da09",
    "deepnote_to_be_reexecuted": false,
    "source_hash": "7656a803",
    "execution_start": 1632335482824,
    "execution_millis": 1,
    "deepnote_cell_type": "code"
   },
   "source": "# Aufgabe #1: In Python iteriere (for-loop) über die 'rows' und drucke (print) von den ersten 10 tracks ('range()') die Attribute 'Name' und 'Composer'.\n# Die Lösungen finden sich am Ende dieser Datei, Bitte zuerst selber probieren.\n",
   "outputs": [],
   "execution_count": null
  },
  {
   "cell_type": "code",
   "metadata": {
    "tags": [],
    "cell_id": "00014-13ce435a-f906-453d-a456-8f6b05f6258d",
    "deepnote_to_be_reexecuted": false,
    "source_hash": "a857f36a",
    "execution_start": 1632335482825,
    "execution_millis": 17,
    "deepnote_cell_type": "code"
   },
   "source": "# Die Aufgabe 1 lässt sich auch direkt mit SQL lösen, wobei hier viel weniger Daten geladen werden müssen.\nstmt = \"\"\"SELECT Composer, Name FROM tracks LIMIT 10;\"\"\"\ncur = execute_query(connection, stmt)\nrows = cur.fetchall()\nfor row in rows:\n    print(\"%s: '%s'\" % (row[0], row[1]))\n",
   "outputs": [
    {
     "name": "stdout",
     "text": "Angus Young, Malcolm Young, Brian Johnson: 'For Those About To Rock (We Salute You)'\nNone: 'Balls to the Wall'\nF. Baltes, S. Kaufman, U. Dirkscneider & W. Hoffman: 'Fast As a Shark'\nF. Baltes, R.A. Smith-Diesel, S. Kaufman, U. Dirkscneider & W. Hoffman: 'Restless and Wild'\nDeaffy & R.A. Smith-Diesel: 'Princess of the Dawn'\nAngus Young, Malcolm Young, Brian Johnson: 'Put The Finger On You'\nAngus Young, Malcolm Young, Brian Johnson: 'Let's Get It Up'\nAngus Young, Malcolm Young, Brian Johnson: 'Inject The Venom'\nAngus Young, Malcolm Young, Brian Johnson: 'Snowballed'\nAngus Young, Malcolm Young, Brian Johnson: 'Evil Walks'\n",
     "output_type": "stream"
    }
   ],
   "execution_count": null
  },
  {
   "cell_type": "markdown",
   "source": "`SELECT` ist der wichtigste und zugleich komplexeste Befehl von SQL. Eine sehr gute Erklährung findet sich unter https://www.sqlitetutorial.net/sqlite-select/. Bitte durchlesen (ca. 10 min). \n",
   "metadata": {
    "tags": [],
    "cell_id": "00015-2bb9ec7f-8f6c-46d6-a3b8-ce0c914c5a34",
    "deepnote_cell_type": "markdown"
   }
  },
  {
   "cell_type": "markdown",
   "source": "### Aufgabe #2",
   "metadata": {
    "tags": [],
    "is_collapsed": false,
    "cell_id": "00016-fb005c8e-0c93-4824-86b3-9c0de0819c8f",
    "deepnote_cell_type": "text-cell-h3"
   }
  },
  {
   "cell_type": "code",
   "metadata": {
    "tags": [],
    "cell_id": "00018-1f99bbdf-3d47-4624-bb53-00998e88d842",
    "deepnote_to_be_reexecuted": false,
    "source_hash": "73d636d1",
    "execution_start": 1632335482835,
    "execution_millis": 3,
    "deepnote_cell_type": "code"
   },
   "source": "# Aufgabe #2: Erstelle eine Query für die Tabelle 'customers'. Lade maximal 10 records mit mindestens 3 attributen nach Wahl.\n",
   "outputs": [],
   "execution_count": null
  },
  {
   "cell_type": "markdown",
   "source": "## Daten sortieren: SELECT ORDER BY ",
   "metadata": {
    "tags": [],
    "is_collapsed": false,
    "cell_id": "00016-23d0e03c-f95c-4b7d-8a4d-07be7dff3142",
    "deepnote_cell_type": "text-cell-h2"
   }
  },
  {
   "cell_type": "code",
   "metadata": {
    "tags": [],
    "cell_id": "00019-759f9086-e817-4cd6-9cf0-9d6edcb799ea",
    "deepnote_to_be_reexecuted": false,
    "source_hash": "c042c738",
    "execution_start": 1632335482839,
    "execution_millis": 16,
    "deepnote_cell_type": "code"
   },
   "source": "# Mit SELECT column_list FROM table ORDER BY z; können die Daten aufsteigend oder absteigend sortiert werden.\n# Hier werden die 10 teuersten Tracks nach Preis und Name sortiert geladen.\nstmt = \"\"\"\nSELECT Name, UnitPrice FROM tracks \nORDER BY UnitPrice DESC, Name ASC \nLIMIT 10;\n\"\"\"\ncur = execute_query(connection, stmt)\n\n# Anmeerkung: Um das Ausdrucken einfacher zu machen, steht eine weitere Hilfsmethode \n# in 'sqlite_util.sql' zur Verfügung: print_results(cur, max_num_of_rows=5)\n\nprint_results(cur)\n# Vertiefte Informationen (freiwillig) gibt es hier: https://www.sqlitetutorial.net/sqlite-order-by/",
   "outputs": [
    {
     "name": "stdout",
     "text": "['Name', 'UnitPrice']\n('\"?\"', 1.99)\n('...And Found', 1.99)\n('...In Translation', 1.99)\n('.07%', 1.99)\n('A Benihana Christmas, Pts. 1 & 2', 1.99)\n('A Day In the Life', 1.99)\n('A Measure of Salvation', 1.99)\n('A Tale of Two Cities', 1.99)\n('Abandoned', 1.99)\n('Adrift', 1.99)\n",
     "output_type": "stream"
    }
   ],
   "execution_count": null
  },
  {
   "cell_type": "markdown",
   "source": "### Aufgabe 3",
   "metadata": {
    "tags": [],
    "is_collapsed": false,
    "cell_id": "00020-57e5dc5d-26ea-4331-9c2e-001bd543f863",
    "deepnote_cell_type": "text-cell-h3"
   }
  },
  {
   "cell_type": "code",
   "metadata": {
    "tags": [],
    "cell_id": "00021-f0d24cf1-1b99-415f-8f3a-2d77a706e508",
    "deepnote_to_be_reexecuted": false,
    "source_hash": "322bac0",
    "execution_start": 1632335482870,
    "execution_millis": 0,
    "deepnote_cell_type": "code"
   },
   "source": "# Aufgabe #3: Experimentiere mit verschiedenen ORDER BY Clauses (z.B nach Composer, Milliseconds oder Bytes oder mit der customers-Tabelle)",
   "outputs": [],
   "execution_count": null
  },
  {
   "cell_type": "markdown",
   "source": "## Daten filtern: SELECT DISTINCT",
   "metadata": {
    "tags": [],
    "is_collapsed": false,
    "cell_id": "00020-227093c1-576d-4773-8183-5bbf91111e9e",
    "deepnote_cell_type": "text-cell-h2"
   }
  },
  {
   "cell_type": "code",
   "metadata": {
    "tags": [],
    "cell_id": "00021-554fab66-e2ad-4786-b620-670037a569a5",
    "deepnote_to_be_reexecuted": false,
    "source_hash": "57eded8d",
    "execution_start": 1632335482871,
    "execution_millis": 9,
    "deepnote_cell_type": "code"
   },
   "source": "# Mit SELECT DISTINCT column_list FROM table; können Duplikate gelöscht werden.\n# Als erstes laden wir die Städte, in welchen unsere 59 customers wohnen. Einige Städte sind Duplikate.\nstmt = \"\"\"\nSELECT city FROM customers ORDER BY city;\n\"\"\"\ncur = execute_query(connection, stmt)\nrows = cur.fetchall()\nprint(len(rows), rows);\n",
   "outputs": [
    {
     "name": "stdout",
     "text": "59 [('Amsterdam',), ('Bangalore',), ('Berlin',), ('Berlin',), ('Bordeaux',), ('Boston',), ('Brasília',), ('Brussels',), ('Budapest',), ('Buenos Aires',), ('Chicago',), ('Copenhagen',), ('Cupertino',), ('Delhi',), ('Dijon',), ('Dublin',), ('Edinburgh ',), ('Edmonton',), ('Fort Worth',), ('Frankfurt',), ('Halifax',), ('Helsinki',), ('Lisbon',), ('London',), ('London',), ('Lyon',), ('Madison',), ('Madrid',), ('Montréal',), ('Mountain View',), ('Mountain View',), ('New York',), ('Orlando',), ('Oslo',), ('Ottawa',), ('Paris',), ('Paris',), ('Porto',), ('Prague',), ('Prague',), ('Redmond',), ('Reno',), ('Rio de Janeiro',), ('Rome',), ('Salt Lake City',), ('Santiago',), ('Sidney',), ('Stockholm',), ('Stuttgart',), ('São José dos Campos',), ('São Paulo',), ('São Paulo',), ('Toronto',), ('Tucson',), ('Vancouver',), ('Vienne',), ('Warsaw',), ('Winnipeg',), ('Yellowknife',)]\n",
     "output_type": "stream"
    }
   ],
   "execution_count": null
  },
  {
   "cell_type": "code",
   "metadata": {
    "tags": [],
    "cell_id": "00022-5d0ac608-2d1c-41a7-a774-f6d63cad83d4",
    "deepnote_to_be_reexecuted": false,
    "source_hash": "f50ed5bd",
    "execution_start": 1632335482872,
    "execution_millis": 16,
    "deepnote_cell_type": "code"
   },
   "source": "# Mit DISTINCT werden die Duplikate entfernt.\nstmt = \"\"\"\nSELECT DISTINCT city FROM customers ORDER BY city;\n\"\"\"\ncur = execute_query(connection, stmt)\nrows = cur.fetchall()\nprint(len(rows), rows)",
   "outputs": [
    {
     "name": "stdout",
     "text": "53 [('Amsterdam',), ('Bangalore',), ('Berlin',), ('Bordeaux',), ('Boston',), ('Brasília',), ('Brussels',), ('Budapest',), ('Buenos Aires',), ('Chicago',), ('Copenhagen',), ('Cupertino',), ('Delhi',), ('Dijon',), ('Dublin',), ('Edinburgh ',), ('Edmonton',), ('Fort Worth',), ('Frankfurt',), ('Halifax',), ('Helsinki',), ('Lisbon',), ('London',), ('Lyon',), ('Madison',), ('Madrid',), ('Montréal',), ('Mountain View',), ('New York',), ('Orlando',), ('Oslo',), ('Ottawa',), ('Paris',), ('Porto',), ('Prague',), ('Redmond',), ('Reno',), ('Rio de Janeiro',), ('Rome',), ('Salt Lake City',), ('Santiago',), ('Sidney',), ('Stockholm',), ('Stuttgart',), ('São José dos Campos',), ('São Paulo',), ('Toronto',), ('Tucson',), ('Vancouver',), ('Vienne',), ('Warsaw',), ('Winnipeg',), ('Yellowknife',)]\n",
     "output_type": "stream"
    }
   ],
   "execution_count": null
  },
  {
   "cell_type": "code",
   "metadata": {
    "tags": [],
    "cell_id": "00023-3e9d4a38-89ec-4f18-b275-ede98ccd81a9",
    "deepnote_to_be_reexecuted": false,
    "source_hash": "371796fd",
    "execution_start": 1632335482875,
    "execution_millis": 13,
    "deepnote_cell_type": "code"
   },
   "source": "# Wenn mehrere Spalten angegeben sind, werden die Datensätze nur gelöscht, wenn alle Spalten-Werte gleich sind. \nstmt = \"\"\"\nSELECT DISTINCT city,country FROM customers ORDER BY city;\n\"\"\"\ncur = execute_query(connection, stmt)\nrows = cur.fetchall()\nprint(len(rows), rows)\n\n# Vertiefte Informationen (freiwillig) gibt es hier: https://www.sqlitetutorial.net/sqlite-select-distinct",
   "outputs": [
    {
     "name": "stdout",
     "text": "53 [('Amsterdam', 'Netherlands'), ('Bangalore', 'India'), ('Berlin', 'Germany'), ('Bordeaux', 'France'), ('Boston', 'USA'), ('Brasília', 'Brazil'), ('Brussels', 'Belgium'), ('Budapest', 'Hungary'), ('Buenos Aires', 'Argentina'), ('Chicago', 'USA'), ('Copenhagen', 'Denmark'), ('Cupertino', 'USA'), ('Delhi', 'India'), ('Dijon', 'France'), ('Dublin', 'Ireland'), ('Edinburgh ', 'United Kingdom'), ('Edmonton', 'Canada'), ('Fort Worth', 'USA'), ('Frankfurt', 'Germany'), ('Halifax', 'Canada'), ('Helsinki', 'Finland'), ('Lisbon', 'Portugal'), ('London', 'United Kingdom'), ('Lyon', 'France'), ('Madison', 'USA'), ('Madrid', 'Spain'), ('Montréal', 'Canada'), ('Mountain View', 'USA'), ('New York', 'USA'), ('Orlando', 'USA'), ('Oslo', 'Norway'), ('Ottawa', 'Canada'), ('Paris', 'France'), ('Porto', 'Portugal'), ('Prague', 'Czech Republic'), ('Redmond', 'USA'), ('Reno', 'USA'), ('Rio de Janeiro', 'Brazil'), ('Rome', 'Italy'), ('Salt Lake City', 'USA'), ('Santiago', 'Chile'), ('Sidney', 'Australia'), ('Stockholm', 'Sweden'), ('Stuttgart', 'Germany'), ('São José dos Campos', 'Brazil'), ('São Paulo', 'Brazil'), ('Toronto', 'Canada'), ('Tucson', 'USA'), ('Vancouver', 'Canada'), ('Vienne', 'Austria'), ('Warsaw', 'Poland'), ('Winnipeg', 'Canada'), ('Yellowknife', 'Canada')]\n",
     "output_type": "stream"
    }
   ],
   "execution_count": null
  },
  {
   "cell_type": "markdown",
   "source": "## Daten filtern: SELECT WHERE",
   "metadata": {
    "tags": [],
    "is_collapsed": false,
    "cell_id": "00024-6d285996-68e1-4137-aadf-f5b020506823",
    "deepnote_cell_type": "text-cell-h2"
   }
  },
  {
   "cell_type": "markdown",
   "source": "`SELECT column_list FROM table WHERE search_condition;` dient dazu Daten zu filtern. \nWHERE ist ziemlich mächtig. Hier schauen wir nur die wichtigsten Funktionen an.\n\nDie `search_condition` ist immer folgendermassen aufgebaut: \n\n```left_expression COMPARISON_OPERATOR right_expression```\n\nBeim 'COMPARISON_OPERATOR' wird zwischen Vergleichsoperatoren und logischen Operatoren verglichen. Sie definieren auch die Syntax der erlaubten `left und right experession`.\n\n\n#### Logische Operatoren\n| Operator &nbsp;&nbsp;&nbsp;&nbsp;&nbsp;&nbsp; |          Meaning         |\n|----------|--------------------------|\n| =        | Equal to                 |\n| <> or != | Not equal to             |\n| <        | Less than                |\n| >        | Greater than             |\n| <=       | Less than or equal to    |\n| >=       | Greater than or equal to |\n\n---\n\n#### Vergleichsoperatoren\n| Operator &nbsp;&nbsp;&nbsp;&nbsp;&nbsp;&nbsp; |                                       Meaning                                       |\n|----------|-------------------------------------------------------------------------------------|\n| ALL      | returns 1 if all expressions are 1.                                                 |\n| AND      | returns 1 if both expressions are 1, and 0 if one of the expressions is 0.          |\n| ANY      | returns 1 if any one of a set of comparisons is 1.                                  |\n| BETWEEN  | returns 1 if a value is within a range.                                             |\n| EXISTS   | returns 1 if a subquery contains any rows.                                          |\n| IN       | returns 1 if a value is in a list of values.                                        |\n| LIKE     | returns 1 if a value matches a pattern                                              |\n| NOT      | reverses the value of other operators such as NOT EXISTS, NOT IN, NOT BETWEEN, etc. |\n| OR       | returns true if either expression is 1                                              |\n\n---\n\nWir werden hier nicht alle Operatoren behandeln. Eine detaillierte Einführung bietet https://www.sqlitetutorial.net/sqlite-where/.",
   "metadata": {
    "tags": [],
    "cell_id": "00025-6c135fca-7aa0-4759-a988-ee3169a0a7ec",
    "deepnote_cell_type": "markdown"
   }
  },
  {
   "cell_type": "code",
   "metadata": {
    "tags": [],
    "cell_id": "00025-5924d87e-b488-4fb4-974d-98420c4abb1d",
    "deepnote_to_be_reexecuted": false,
    "source_hash": "ca4ebe3b",
    "execution_start": 1632335482886,
    "execution_millis": 63,
    "deepnote_cell_type": "code"
   },
   "source": "# Als nächstes laden wir alle Tracks die zum Album mit der albumid=1 gehören. \nstmt = \"\"\"SELECT\n   name\n   albumid\nFROM\n   tracks\nWHERE\n   albumid = 1;\"\"\"\ncur = execute_query(connection, stmt)\nrows = cur.fetchall()\nprint(rows)",
   "outputs": [
    {
     "name": "stdout",
     "text": "[('For Those About To Rock (We Salute You)',), ('Put The Finger On You',), (\"Let's Get It Up\",), ('Inject The Venom',), ('Snowballed',), ('Evil Walks',), ('C.O.D.',), ('Breaking The Rules',), ('Night Of The Long Knives',), ('Spellbound',)]\n",
     "output_type": "stream"
    }
   ],
   "execution_count": null
  },
  {
   "cell_type": "code",
   "metadata": {
    "tags": [],
    "cell_id": "00027-813348e3-1874-4116-b532-1bcb666a9efd",
    "deepnote_to_be_reexecuted": false,
    "source_hash": "23ba35af",
    "execution_start": 1632335482896,
    "execution_millis": 53,
    "deepnote_cell_type": "code"
   },
   "source": "# Mit AND und OR können mehrere WHERE-Statements verbunden werden.\nstmt = \"\"\"SELECT\n\tname,\n\tmilliseconds,\n\talbumid\nFROM\n\ttracks\nWHERE\n\talbumid = 1\nAND milliseconds > 250000;\"\"\"\ncur = execute_query(connection, stmt)\nrows = cur.fetchall()\nprint(rows)",
   "outputs": [
    {
     "name": "stdout",
     "text": "[('For Those About To Rock (We Salute You)', 343719, 1), ('Evil Walks', 263497, 1), ('Breaking The Rules', 263288, 1), ('Spellbound', 270863, 1)]\n",
     "output_type": "stream"
    }
   ],
   "execution_count": null
  },
  {
   "cell_type": "code",
   "metadata": {
    "tags": [],
    "cell_id": "00028-44e663e3-7c5d-49a7-a8c6-0b997ed45729",
    "deepnote_to_be_reexecuted": false,
    "source_hash": "7f772dcc",
    "execution_start": 1632335482905,
    "execution_millis": 44,
    "deepnote_cell_type": "code"
   },
   "source": "# Mit dem LIKE-Operator können Strings verglichen werden. % ist dabei ein Platzhalter für eine beliebige Zeichenfolge.\nstmt = \"\"\"SELECT\n\tcomposer\nFROM\n\ttracks\nWHERE\n\tcomposer LIKE '%Smith%'\nORDER BY\n\talbumid;\"\"\"\ncur = execute_query(connection, stmt)\nrows = cur.fetchall()\nprint(rows)",
   "outputs": [
    {
     "name": "stdout",
     "text": "[('F. Baltes, R.A. Smith-Diesel, S. Kaufman, U. Dirkscneider & W. Hoffman',), ('Deaffy & R.A. Smith-Diesel',), ('Adrian Smith',), ('Adrian Smith',), ('Adrian Smith/Bruce Dickinson',), ('Adrian Smith/Bruce Dickinson/Steve Harris',), ('Adrian Smith/Bruce Dickinson/Steve Harris',), ('Adrian Smith/Bruce Dickinson/Steve Harris',), ('Adrian Smith/Steve Harris',), ('Adrian Smith/Steve Harris',), ('Adrian Smith/Bruce Dickinson/Nicko McBrain',), ('Adrian Smith/Steve Harris',), ('Adrian Smith/Bruce Dickinson/Steve Harris',), ('Smith/Dickinson',), ('Smith/Dickinson',), ('Adrian Smith/Bruce Dickinson/Steve Harris',), ('Adrian Smith/Bruce Dickinson',), ('Adrian Smith/Bruce Dickinson',), ('Adrian Smith/Bruce Dickinson',), ('Adrian Smith/Bruce Dickinson/Steve Harris',), ('Adrian Smith/Bruce Dickinson',), ('Smith/Dickinson',), ('Dickinson/Smith',), ('Adrian Smith/Bruce Dickinson/Steve Harris',), ('Adrian Smith/Bruce Dickinson',), ('Adrian Smith/Bruce Dickinson/Steve Harris',), ('Adrian Smith; Bruce Dickinson',), ('Adrian Smith; Bruce Dickinson; Steve Harris',), ('Adrian Smith; Bruce Dickinson; Steve Harris',), ('Adrian Smith; Bruce Dickinson; Steve Harris',), ('Adrian Smith',), ('Adrian Smith',), ('Adrian Smith',), ('Adrian Smith/Steve Harris',), ('Adrian Smith/Clive Burr/Steve Harris',), ('Adrian Smith/Steve Harris',), ('Smith, Toby',), ('Smith, Toby',), ('Smith, Toby',), ('Smith, Toby',), ('Smith, Toby',), ('Smith, Toby',), ('Jay Kay/Toby Smith',), ('Jay Kay/Toby Smith',), ('Jay Kay/Toby Smith',), ('Derrick McKenzie/Jay Kay/Toby Smith',), ('Jay Kay/Toby Smith',), ('Jay Kay/Toby Smith',), ('Toby Smith',), ('Toby Smith',), ('Toby Smith',), ('Toby Smith',), ('Toby Smith',), ('Toby Smith',), ('Toby Smith',), ('Stuard Zender/Toby Smith',), ('Toby Smith/Wallis Buchanan',), ('Jones/Sirotto/Smith',), ('Anthony Kiedis/Chad Smith/Flea/John Frusciante',), ('Anthony Kiedis/Chad Smith/Flea/John Frusciante',), ('Anthony Kiedis/Chad Smith/Flea/John Frusciante',), ('Anthony Kiedis/Chad Smith/Flea/John Frusciante',), ('Anthony Kiedis/Chad Smith/Flea/John Frusciante',), ('Anthony Kiedis/Chad Smith/Flea/John Frusciante',), ('Anthony Kiedis/Chad Smith/Flea/John Frusciante',), ('Anthony Kiedis/Chad Smith/Flea/John Frusciante',), ('Anthony Kiedis/Chad Smith/Flea/John Frusciante',), ('Anthony Kiedis/Chad Smith/Flea/John Frusciante',), ('Anthony Kiedis/Chad Smith/Flea/John Frusciante',), ('Anthony Kiedis/Chad Smith/Flea/John Frusciante',), ('Anthony Kiedis/Chad Smith/Flea/John Frusciante',), ('Anthony Kiedis/Chad Smith/Flea/John Frusciante',), ('Anthony Kiedis/Chad Smith/Flea/John Frusciante',), ('Anthony Kiedis/Chad Smith/Flea/John Frusciante',), ('Anthony Kiedis, Flea, John Frusciante, and Chad Smith',), ('Anthony Kiedis, Flea, John Frusciante, and Chad Smith',), ('Anthony Kiedis, Flea, John Frusciante, and Chad Smith',), ('Anthony Kiedis, Flea, John Frusciante, and Chad Smith',), ('Anthony Kiedis, Flea, John Frusciante, and Chad Smith',), ('Anthony Kiedis, Flea, John Frusciante, and Chad Smith',), ('Anthony Kiedis, Flea, John Frusciante, and Chad Smith',), ('Anthony Kiedis, Flea, John Frusciante, and Chad Smith',), ('Anthony Kiedis, Flea, John Frusciante, and Chad Smith',), ('Anthony Kiedis, Flea, John Frusciante, and Chad Smith',), ('Anthony Kiedis, Flea, John Frusciante, and Chad Smith',), ('Anthony Kiedis, Flea, John Frusciante, and Chad Smith',), ('Anthony Kiedis, Flea, John Frusciante, and Chad Smith',), ('Anthony Kiedis, Flea, John Frusciante, and Chad Smith',), ('Anthony Kiedis, Flea, John Frusciante, and Chad Smith',), ('Anthony Kiedis, Flea, John Frusciante, and Chad Smith',), ('Anthony Kiedis/Chad Smith/Flea/John Frusciante',), ('Anthony Kiedis/Chad Smith/Flea/John Frusciante',), ('Anthony Kiedis/Chad Smith/Flea/John Frusciante',), ('Ivan Kral/Patti Smith',), ('Luke Smith',), ('Delroy \"Chris\" Cooper, Donovan Jackson, Earl Chinna Smith, Felix Howard, Gordon Williams, Luke Smith, Paul Watson & Wilburn Squiddley Cole',), ('Astor Campbell, Delroy \"Chris\" Cooper, Donovan Jackson, Dorothy Fields, Earl Chinna Smith, Felix Howard, Gordon Williams, James Moody, Jimmy McHugh, Matt Rowe, Salaam Remi & Stefan Skarbek',)]\n",
     "output_type": "stream"
    }
   ],
   "execution_count": null
  },
  {
   "cell_type": "code",
   "metadata": {
    "tags": [],
    "cell_id": "00029-51352fa7-91a4-4894-948a-a168995c0ff9",
    "deepnote_to_be_reexecuted": false,
    "source_hash": "88ae2bd2",
    "execution_start": 1632335482930,
    "execution_millis": 19,
    "deepnote_cell_type": "code"
   },
   "source": "# Mit dem IN-Operator kann in einer Liste gesucht werden.\nstmt = \"\"\"SELECT\n\tname,\n\talbumid,\n\tmediatypeid\nFROM\n\ttracks\nWHERE\n\tmediatypeid IN (2, 3);\"\"\"\ncur = execute_query(connection, stmt)\nrows = cur.fetchall()\nprint(rows)",
   "outputs": [
    {
     "name": "stdout",
     "text": "[('Balls to the Wall', 2, 2), ('Fast As a Shark', 3, 2), ('Restless and Wild', 3, 2), ('Princess of the Dawn', 3, 2), ('Welcome to the Jungle', 90, 2), (\"It's So Easy\", 90, 2), ('Nightrain', 90, 2), ('Out Ta Get Me', 90, 2), ('Mr. Brownstone', 90, 2), ('Paradise City', 90, 2), ('My Michelle', 90, 2), ('Think About You', 90, 2), (\"Sweet Child O' Mine\", 90, 2), (\"You're Crazy\", 90, 2), ('Anything Goes', 90, 2), ('Rocket Queen', 90, 2), ('Right Next Door to Hell', 91, 2), (\"Dust N' Bones\", 91, 2), ('Live and Let Die', 91, 2), (\"Don't Cry (Original)\", 91, 2), ('Perfect Crime', 91, 2), (\"You Ain't the First\", 91, 2), ('Bad Obsession', 91, 2), ('Back off Bitch', 91, 2), (\"Double Talkin' Jive\", 91, 2), ('November Rain', 91, 2), ('The Garden', 91, 2), ('Garden of Eden', 91, 2), (\"Don't Damn Me\", 91, 2), ('Bad Apples', 91, 2), ('Dead Horse', 91, 2), ('Coma', 91, 2), ('Different World', 94, 2), (\"These Colours Don't Run\", 94, 2), ('Brighter Than a Thousand Suns', 94, 2), ('The Pilgrim', 94, 2), ('The Longest Day', 94, 2), ('Out of the Shadows', 94, 2), ('The Reincarnation of Benjamin Breeg', 94, 2), ('For the Greater Good of God', 94, 2), ('Lord of Light', 94, 2), ('The Legacy', 94, 2), ('Hallowed Be Thy Name (Live) [Non Album Bonus Track]', 94, 2), ('Surfing with the Alien', 121, 2), ('Ice 9', 121, 2), ('Crushing Day', 121, 2), ('Always With Me, Always With You', 121, 2), ('Satch Boogie', 121, 2), ('Hill of the Skull', 121, 2), ('Circles', 121, 2), ('Lords of Karma', 121, 2), ('Midnight', 121, 2), ('Echo', 121, 2), ('Bark at the Moon', 170, 2), (\"I Don't Know\", 171, 2), ('Crazy Train', 171, 2), ('Flying High Again', 172, 2), (\"Mama, I'm Coming Home\", 173, 2), ('No More Tears', 173, 2), ('Your Time Is Gonna Come', 252, 2), ('Instant Karma', 255, 2), ('#9 Dream', 255, 2), ('Mother', 255, 2), ('Give Peace a Chance', 255, 2), ('Cold Turkey', 255, 2), ('Whatever Gets You Thru the Night', 255, 2), (\"I'm Losing You\", 255, 2), ('Gimme Some Truth', 255, 2), ('Oh, My Love', 255, 2), ('Imagine', 255, 2), ('Nobody Told Me', 255, 2), ('Jealous Guy', 255, 2), ('Working Class Hero', 255, 2), ('Power to the People', 255, 2), ('Imagine', 255, 2), ('Beautiful Boy', 255, 2), ('Isolation', 255, 2), ('Watching the Wheels', 255, 2), ('Grow Old With Me', 255, 2), ('Gimme Some Truth', 255, 2), ('[Just Like] Starting Over', 255, 2), ('God', 255, 2), ('Real Love', 255, 2), ('Sympton of the Universe', 256, 2), ('Snowblind', 256, 2), ('Black Sabbath', 256, 2), ('Fairies Wear Boots', 256, 2), ('War Pigs', 256, 2), ('The Wizard', 256, 2), ('N.I.B.', 256, 2), ('Sweet Leaf', 256, 2), ('Never Say Die', 256, 2), ('Sabbath, Bloody Sabbath', 256, 2), ('Iron Man/Children of the Grave', 256, 2), ('Paranoid', 256, 2), ('Rock You Like a Hurricane', 257, 2), ('No One Like You', 257, 2), ('The Zoo', 257, 2), ('Loving You Sunday Morning', 257, 2), ('Still Loving You', 257, 2), ('Big City Nights', 257, 2), ('Believe in Love', 257, 2), ('Rhythm of Love', 257, 2), (\"I Can't Explain\", 257, 2), ('Tease Me Please Me', 257, 2), ('Wind of Change', 257, 2), ('Send Me an Angel', 257, 2), ('Say Hello 2 Heaven', 269, 2), ('Reach Down', 269, 2), ('Hunger Strike', 269, 2), ('Pushin Forward Back', 269, 2), ('Call Me a Dog', 269, 2), ('Times of Trouble', 269, 2), ('Wooden Jesus', 269, 2), ('Your Savior', 269, 2), ('Four Walled World', 269, 2), ('All Night Thing', 269, 2), ('No Such Thing', 270, 2), ('Poison Eye', 270, 2), ('Arms Around Your Love', 270, 2), ('Safe and Sound', 270, 2), (\"She'll Never Be Your Man\", 270, 2), ('Ghosts', 270, 2), ('Killing Birds', 270, 2), ('Billie Jean', 270, 2), ('Scar On the Sky', 270, 2), ('Your Soul Today', 270, 2), ('Finally Forever', 270, 2), ('Silence the Voices', 270, 2), ('Disappearing Act', 270, 2), ('You Know My Name', 270, 2), ('Revelations', 271, 2), ('One and the Same', 271, 2), ('Sound of a Gun', 271, 2), ('Until We Fall', 271, 2), ('Original Fire', 271, 2), ('Broken City', 271, 2), ('Somedays', 271, 2), ('Shape of Things to Come', 271, 2), ('Jewel of the Summertime', 271, 2), ('Wide Awake', 271, 2), ('Nothing Left to Say But Goodbye', 271, 2), ('Moth', 271, 2), ('Show Me How to Live (Live at the Quart Festival)', 271, 2), ('Intoitus: Adorate Deum', 272, 2), ('Miserere mei, Deus', 273, 2), ('Canon and Gigue in D Major: I. Canon', 274, 2), ('Concerto No. 1 in E Major, RV 269 \"Spring\": I. Allegro', 275, 2), ('Concerto for 2 Violins in D Minor, BWV 1043: I. Vivace', 276, 2), ('Aria Mit 30 Veränderungen, BWV 988 \"Goldberg Variations\": Aria', 277, 2), ('Suite for Solo Cello No. 1 in G Major, BWV 1007: I. Prélude', 278, 2), ('The Messiah: Behold, I Tell You a Mystery... The Trumpet Shall Sound', 279, 2), ('Solomon HWV 67: The Arrival of the Queen of Sheba', 280, 2), ('\"Eine Kleine Nachtmusik\" Serenade In G, K. 525: I. Allegro', 281, 2), ('Concerto for Clarinet in A Major, K. 622: II. Adagio', 282, 2), ('Symphony No.5 in C Minor: I. Allegro con brio', 284, 2), ('Ave Maria', 285, 2), ('Nabucco: Chorus, \"Va, Pensiero, Sull\\'ali Dorate\"', 286, 2), ('Die Walküre: The Ride of the Valkyries', 287, 2), ('Requiem, Op.48: 4. Pie Jesu', 288, 2), ('The Nutcracker, Op. 71a, Act II: Scene 14: Pas de deux: Dance of the Prince & the Sugar-Plum Fairy', 289, 2), ('Nimrod (Adagio) from Variations On an Original Theme, Op. 36 \"Enigma\"', 290, 2), ('Madama Butterfly: Un Bel Dì Vedremo', 291, 2), ('Jupiter, the Bringer of Jollity', 292, 2), ('Turandot, Act III, Nessun dorma!', 293, 2), ('Adagio for Strings from the String Quartet, Op. 11', 294, 2), ('Carmina Burana: O Fortuna', 295, 2), ('Fanfare for the Common Man', 296, 2), ('Toccata and Fugue in D Minor, BWV 565: I. Toccata', 297, 2), ('Symphony No.1 in D Major, Op.25 \"Classical\", Allegro Con Brio', 298, 2), (\"Scheherazade, Op. 35: I. The Sea and Sindbad's Ship\", 299, 2), ('Concerto No.2 in F Major, BWV1047, I. Allegro', 300, 2), ('Concerto for Piano No. 2 in F Minor, Op. 21: II. Larghetto', 301, 2), ('Cavalleria Rusticana \\\\ Act \\\\ Intermezzo Sinfonico', 302, 2), ('Karelia Suite, Op.11: 2. Ballade (Tempo Di Menuetto)', 303, 2), ('Piano Sonata No. 14 in C Sharp Minor, Op. 27, No. 2, \"Moonlight\": I. Adagio sostenuto', 304, 2), ('Fantasia On Greensleeves', 280, 2), ('Das Lied Von Der Erde, Von Der Jugend', 305, 2), ('Concerto for Cello and Orchestra in E minor, Op. 85: I. Adagio - Moderato', 306, 2), ('Two Fanfares for Orchestra: II. Short Ride in a Fast Machine', 307, 2), (\"Wellington's Victory or the Battle Symphony, Op.91: 2. Symphony of Triumph\", 308, 2), ('Missa Papae Marcelli: Kyrie', 309, 2), ('Romeo et Juliette: No. 11 - Danse des Chevaliers', 310, 2), ('On the Beautiful Blue Danube', 311, 2), (\"Symphonie Fantastique, Op. 14: V. Songe d'une nuit du sabbat\", 312, 2), ('Carmen: Overture', 313, 2), ('Lamentations of Jeremiah, First Set \\\\ Incipit Lamentatio', 314, 2), ('Music for the Royal Fireworks, HWV351 (1749): La Réjouissance', 315, 2), ('Peer Gynt Suite No.1, Op.46: 1. Morning Mood', 316, 2), ('Die Zauberflöte, K.620: \"Der Hölle Rache Kocht in Meinem Herze\"', 317, 2), ('Pavan, Lachrimae Antiquae', 319, 2), ('Symphony No. 41 in C Major, K. 551, \"Jupiter\": IV. Molto allegro', 320, 2), ('Rehab', 321, 2), (\"You Know I'm No Good\", 321, 2), ('Me & Mr. Jones', 321, 2), ('Just Friends', 321, 2), ('Back to Black', 321, 2), ('Love Is a Losing Game', 321, 2), ('Tears Dry On Their Own', 321, 2), ('Wake Up Alone', 321, 2), ('Some Unholy War', 321, 2), ('He Can Only Hold Her', 321, 2), (\"You Know I'm No Good (feat. Ghostface Killah)\", 321, 2), ('Rehab (Hot Chip Remix)', 321, 2), ('Intro / Stronger Than Me', 322, 2), ('You Sent Me Flying / Cherry', 322, 2), ('F**k Me Pumps', 322, 2), ('I Heard Love Is Blind', 322, 2), ('(There Is) No Greater Love (Teo Licks)', 322, 2), ('In My Bed', 322, 2), ('Take the Box', 322, 2), ('October Song', 322, 2), ('What Is It About Men', 322, 2), ('Help Yourself', 322, 2), ('Amy Amy Amy (Outro)', 322, 2), ('Slowness', 323, 2), (\"A Midsummer Night's Dream, Op.61 Incidental Music: No.7 Notturno\", 326, 2), ('Suite No. 3 in D, BWV 1068: III. Gavotte I & II', 327, 2), ('Concert pour 4 Parties de V**les, H. 545: I. Prelude', 328, 2), ('Adios nonino', 329, 2), ('Symphony No. 3 Op. 36 for Orchestra and Soprano \"Symfonia Piesni Zalosnych\" \\\\ Lento E Largo - Tranquillissimo', 330, 2), ('Act IV, Symphony', 331, 2), ('3 Gymnopédies: No.1 - Lent Et Grave, No.3 - Lent Et Douloureux', 332, 2), ('Music for the Funeral of Queen Mary: VI. \"Thou Knowest, Lord, the Secrets of Our Hearts\"', 333, 2), ('Symphony No. 2: III. Allegro vivace', 334, 2), ('Partita in E Major, BWV 1006A: I. Prelude', 335, 2), ('Le Sacre Du Printemps: I.iv. Spring Rounds', 336, 2), ('Sing Joyfully', 314, 2), ('Metopes, Op. 29: Calypso', 337, 2), ('Symphony No. 2, Op. 16 -  \"The Four Temperaments\": II. Allegro Comodo e Flemmatico', 338, 2), ('24 Caprices, Op. 1, No. 24, for Solo Violin, in A Minor', 339, 2), ('Erlkonig, D.328', 341, 2), ('Pini Di Roma (Pinien Von Rom) \\\\ I Pini Della Via Appia', 343, 2), ('String Quartet No. 12 in C Minor, D. 703 \"Quartettsatz\": II. Andante - Allegro assai', 344, 2), (\"L'orfeo, Act 3, Sinfonia (Orchestra)\", 345, 2), ('Quintet for Horn, Violin, 2 Violas, and Cello in E Flat Major, K. 407/386c: III. Allegro', 346, 2), ('Koyaanisqatsi', 347, 2), ('Battlestar Galactica: The Story So Far', 226, 3), ('Occupation / Precipice', 227, 3), ('Exodus, Pt. 1', 227, 3), ('Exodus, Pt. 2', 227, 3), ('Collaborators', 227, 3), ('Torn', 227, 3), ('A Measure of Salvation', 227, 3), ('Hero', 227, 3), ('Unfinished Business', 227, 3), ('The Passage', 227, 3), ('The Eye of Jupiter', 227, 3), ('Rapture', 227, 3), ('Taking a Break from All Your Worries', 227, 3), ('The Woman King', 227, 3), ('A Day In the Life', 227, 3), ('Dirty Hands', 227, 3), ('Maelstrom', 227, 3), ('The Son Also Rises', 227, 3), ('Crossroads, Pt. 1', 227, 3), ('Crossroads, Pt. 2', 227, 3), ('Genesis', 228, 3), (\"Don't Look Back\", 228, 3), ('One Giant Leap', 228, 3), ('Collision', 228, 3), ('Hiros', 228, 3), ('Better Halves', 228, 3), ('Nothing to Hide', 228, 3), ('Seven Minutes to Midnight', 228, 3), ('Homecoming', 228, 3), ('Six Months Ago', 228, 3), ('Fallout', 228, 3), ('The Fix', 228, 3), ('Distractions', 228, 3), ('Run!', 228, 3), ('Unexpected', 228, 3), ('Company Man', 228, 3), ('Company Man', 228, 3), ('Parasite', 228, 3), ('A Tale of Two Cities', 229, 3), ('Lost (Pilot, Part 1) [Premiere]', 230, 3), ('Man of Science, Man of Faith (Premiere)', 231, 3), ('Adrift', 231, 3), ('Lost (Pilot, Part 2)', 230, 3), ('The Glass Ballerina', 229, 3), ('Further Instructions', 229, 3), ('Orientation', 231, 3), ('Tabula Rasa', 230, 3), ('Every Man for Himself', 229, 3), ('Everybody Hates Hugo', 231, 3), ('Walkabout', 230, 3), ('...And Found', 231, 3), ('The Cost of Living', 229, 3), ('White Rabbit', 230, 3), ('Abandoned', 231, 3), ('House of the Rising Sun', 230, 3), ('I Do', 229, 3), ('Not In Portland', 229, 3), ('Not In Portland', 229, 3), ('The Moth', 230, 3), ('The Other 48 Days', 231, 3), ('Collision', 231, 3), ('Confidence Man', 230, 3), ('Flashes Before Your Eyes', 229, 3), ('Lost Survival Guide', 229, 3), ('Solitary', 230, 3), ('What Kate Did', 231, 3), ('Raised By Another', 230, 3), ('Stranger In a Strange Land', 229, 3), ('The 23rd Psalm', 231, 3), ('All the Best Cowboys Have Daddy Issues', 230, 3), ('The Hunting Party', 231, 3), ('Tricia Tanaka Is Dead', 229, 3), ('Enter 77', 229, 3), ('Fire + Water', 231, 3), ('Whatever the Case May Be', 230, 3), ('Hearts and Minds', 230, 3), ('Par Avion', 229, 3), ('The Long Con', 231, 3), ('One of Them', 231, 3), ('Special', 230, 3), ('The Man from Tallahassee', 229, 3), ('Exposé', 229, 3), ('Homecoming', 230, 3), ('Maternity Leave', 231, 3), ('Left Behind', 229, 3), ('Outlaws', 230, 3), ('The Whole Truth', 231, 3), ('...In Translation', 230, 3), ('Lockdown', 231, 3), ('One of Us', 229, 3), ('Catch-22', 229, 3), ('Dave', 231, 3), ('Numbers', 230, 3), ('D.O.C.', 229, 3), ('Deus Ex Machina', 230, 3), ('S.O.S.', 231, 3), ('Do No Harm', 230, 3), ('Two for the Road', 231, 3), ('The Greater Good', 230, 3), ('\"?\"', 231, 3), ('Born to Run', 230, 3), ('Three Minutes', 231, 3), ('Exodus (Part 1)', 230, 3), ('Live Together, Die Alone, Pt. 1', 231, 3), ('Exodus (Part 2) [Season Finale]', 230, 3), ('Live Together, Die Alone, Pt. 2', 231, 3), ('Exodus (Part 3) [Season Finale]', 230, 3), ('The Brig', 229, 3), ('.07%', 228, 3), ('Five Years Gone', 228, 3), ('The Hard Part', 228, 3), ('The Man Behind the Curtain', 229, 3), ('Greatest Hits', 229, 3), ('Landslide', 228, 3), ('The Office: An American Workplace (Pilot)', 249, 3), ('Diversity Day', 249, 3), ('Health Care', 249, 3), ('The Alliance', 249, 3), ('Basketball', 249, 3), ('Hot Girl', 249, 3), ('The Dundies', 250, 3), ('Sexual Harassment', 250, 3), ('Office Olympics', 250, 3), ('The Fire', 250, 3), ('Halloween', 250, 3), ('The Fight', 250, 3), ('The Client', 250, 3), ('Performance Review', 250, 3), ('Email Surveillance', 250, 3), ('Christmas Party', 250, 3), ('Booze Cruise', 250, 3), ('The Injury', 250, 3), ('The Secret', 250, 3), ('The Carpet', 250, 3), ('Boys and Girls', 250, 3), (\"Valentine's Day\", 250, 3), (\"Dwight's Speech\", 250, 3), ('Take Your Daughter to Work Day', 250, 3), (\"Michael's Birthday\", 250, 3), ('Drug Testing', 250, 3), ('Conflict Resolution', 250, 3), ('Casino Night - Season Finale', 250, 3), ('Gay Witch Hunt', 251, 3), ('The Convention', 251, 3), ('The Coup', 251, 3), ('Grief Counseling', 251, 3), ('The Initiation', 251, 3), ('Diwali', 251, 3), ('Branch Closing', 251, 3), ('The Merger', 251, 3), ('The Convict', 251, 3), ('A Benihana Christmas, Pts. 1 & 2', 251, 3), ('Back from Vacation', 251, 3), ('Traveling Salesmen', 251, 3), (\"Producer's Cut: The Return\", 251, 3), ('Ben Franklin', 251, 3), (\"Phyllis's Wedding\", 251, 3), ('Business School', 251, 3), ('Cocktails', 251, 3), ('The Negotiation', 251, 3), ('Safety Training', 251, 3), ('Product Recall', 251, 3), (\"Women's Appreciation\", 251, 3), ('Beach Games', 251, 3), ('The Job', 251, 3), ('How to Stop an Exploding Man', 228, 3), ('Through a Looking Glass', 229, 3), ('Battlestar Galactica, Pt. 1', 253, 3), ('Battlestar Galactica, Pt. 2', 253, 3), ('Battlestar Galactica, Pt. 3', 253, 3), ('Lost Planet of the Gods, Pt. 1', 253, 3), ('Lost Planet of the Gods, Pt. 2', 253, 3), ('The Lost Warrior', 253, 3), ('The Long Patrol', 253, 3), ('The Gun On Ice Planet Zero, Pt. 1', 253, 3), ('The Gun On Ice Planet Zero, Pt. 2', 253, 3), ('The Magnificent Warriors', 253, 3), ('The Young Lords', 253, 3), ('The Living Legend, Pt. 1', 253, 3), ('The Living Legend, Pt. 2', 253, 3), ('Fire In Space', 253, 3), ('War of the Gods, Pt. 1', 253, 3), ('War of the Gods, Pt. 2', 253, 3), ('The Man With Nine Lives', 253, 3), ('Murder On the Rising Star', 253, 3), ('Greetings from Earth, Pt. 1', 253, 3), ('Greetings from Earth, Pt. 2', 253, 3), (\"Baltar's Escape\", 253, 3), ('Experiment In Terra', 253, 3), ('Take the Celestra', 253, 3), ('The Hand of God', 253, 3), ('Pilot', 254, 3), ('Through the Looking Glass, Pt. 2', 229, 3), ('Through the Looking Glass, Pt. 1', 229, 3), ('Past, Present, and Future', 261, 3), ('The Beginning of the End', 261, 3), ('LOST Season 4 Trailer', 261, 3), ('LOST In 8:15', 261, 3), ('Confirmed Dead', 261, 3), ('The Economist', 261, 3), ('Eggtown', 261, 3), ('The Constant', 261, 3), ('The Other Woman', 261, 3), ('Ji Yeon', 261, 3), ('Meet Kevin Johnson', 261, 3), ('The Shape of Things to Come', 261, 3), ('Something Nice Back Home', 261, 3), ('Cabin Fever', 261, 3), (\"There's No Place Like Home, Pt. 1\", 261, 3), (\"There's No Place Like Home, Pt. 2\", 261, 3), (\"There's No Place Like Home, Pt. 3\", 261, 3), ('Band Members Discuss Tracks from \"Revelations\"', 271, 3), ('Branch Closing', 251, 3), ('The Return', 251, 3)]\n",
     "output_type": "stream"
    }
   ],
   "execution_count": null
  },
  {
   "cell_type": "markdown",
   "source": "### Aufgabe #4",
   "metadata": {
    "tags": [],
    "is_collapsed": false,
    "cell_id": "00030-269e3064-5220-48bf-bf20-367c71ac8c03",
    "deepnote_cell_type": "text-cell-h3"
   }
  },
  {
   "cell_type": "code",
   "metadata": {
    "tags": [],
    "cell_id": "00033-694feaef-9f4c-44a8-9f80-d9cfdc5357e3",
    "deepnote_to_be_reexecuted": false,
    "source_hash": "73a6e0e5",
    "execution_start": 1632335482933,
    "execution_millis": 3,
    "deepnote_cell_type": "code"
   },
   "source": "# Aufgabe #4: Benutze die Tabelle 'customers':\n# 4.a) Suche alle 'customers', welche in Frankreich ('France') wohnen.",
   "outputs": [],
   "execution_count": null
  },
  {
   "cell_type": "code",
   "metadata": {
    "tags": [],
    "cell_id": "00033-fdaa1d8a-105e-48a1-9014-4883cc4bd76a",
    "deepnote_to_be_reexecuted": false,
    "source_hash": "ad3323",
    "execution_start": 1632335482936,
    "execution_millis": 1,
    "deepnote_cell_type": "code"
   },
   "source": "# 4.b) Suche alle 'customers', welche nicht in den 'USA' oder in 'Canada' wohnen.\n",
   "outputs": [],
   "execution_count": null
  },
  {
   "cell_type": "code",
   "metadata": {
    "tags": [],
    "cell_id": "00033-d2c33c00-9fd1-41fc-85f0-a9395d3d3130",
    "deepnote_to_be_reexecuted": false,
    "source_hash": "24f4adac",
    "execution_start": 1632335482941,
    "execution_millis": 1,
    "deepnote_cell_type": "code"
   },
   "source": "# 4.c) Suche alle 'customers', welche eine 'gmail.com' Mail-Adresse haben.\n",
   "outputs": [],
   "execution_count": null
  },
  {
   "cell_type": "markdown",
   "source": "## Aggregationsfunktionen",
   "metadata": {
    "tags": [],
    "is_collapsed": false,
    "cell_id": "00034-e034ba26-f884-4130-947c-bb9224a8c571",
    "deepnote_cell_type": "text-cell-h2"
   }
  },
  {
   "cell_type": "markdown",
   "source": "Aggregationsfunktionen operieren auf mehreren Zeilen und geben einen einzelnen, aggregierten Wert zurück.\n\n`sqlite` kennt verschiedene Aggregationsfunktionen, wobei wir hier nur eine Auswahl betrachten:\n* AVG() – returns the average value of a group.\n* COUNT() – returns the number of rows that match a specified condition\n* MAX() – returns the maximum value in a group.\n* MIN() – returns the minimum value in a group\n* SUM() – returns the sum of values\n* ROUND() - Round off a floating value to a specified precision\n\nWeitere Funktionen zur String-Manipulation, für Datums-Manipulation, mathematische Funktionen usw. werden hier näher behandelt: https://www.sqlitetutorial.net/sqlite-functions/ (freiwillig).\n",
   "metadata": {
    "tags": [],
    "cell_id": "00035-7445de69-528a-4083-b2ff-69ce8e5bdbb0",
    "deepnote_cell_type": "markdown"
   }
  },
  {
   "cell_type": "code",
   "metadata": {
    "tags": [],
    "cell_id": "00035-8444bf12-f7c8-4f0c-afab-76dba5bdce23",
    "deepnote_to_be_reexecuted": false,
    "source_hash": "1935aa25",
    "execution_start": 1632335482946,
    "execution_millis": 10,
    "deepnote_cell_type": "code"
   },
   "source": "# COUNT zählt die Anzahl Records in einem Datenset\n# AVG berechnet den Durchschnitt eines Attributs.\nstmt = \"\"\"SELECT\n   COUNT(*), ROUND(AVG(MILLISECONDS) / 1000)\nFROM\n   tracks\n\"\"\"\ncur = execute_query(connection, stmt)\nrow = cur.fetchone()  # <== Anmerkung: hier erwarten wir nur eine Zeile, deshalb fetchone()\nprint(row)",
   "outputs": [
    {
     "name": "stdout",
     "text": "(3503, 394.0)\n",
     "output_type": "stream"
    }
   ],
   "execution_count": null
  },
  {
   "cell_type": "code",
   "metadata": {
    "tags": [],
    "cell_id": "00037-11e9b5de-a6c7-481b-91e1-ca768b53f705",
    "deepnote_to_be_reexecuted": false,
    "source_hash": "694b9d0f",
    "execution_start": 1632335482957,
    "execution_millis": 60,
    "deepnote_cell_type": "code"
   },
   "source": "# MAX und MIN geben den grössten und kleinsten Wert eines Datensets zurück, SUM die Summe aller Werte (hier in Minuten umgerechnet)\nstmt = \"\"\"SELECT\n   MIN(BYTES), MAX(BYTES), SUM(MILLISECONDS) / 60000\nFROM\n   tracks\n\"\"\"\ncur = execute_query(connection, stmt)\nrow = cur.fetchone()  \nprint(row)",
   "outputs": [
    {
     "name": "stdout",
     "text": "(38747, 1059546140, 22979)\n",
     "output_type": "stream"
    }
   ],
   "execution_count": null
  },
  {
   "cell_type": "markdown",
   "source": "**Jetzt ist eine gute Zeit für eine Pause.**\n\nHol dir einen Kaffee, mach einen kurzen Spaziergang oder halte einen Schwatz mit jemandem.\n\nDanach geht es weiter mit slqintro_2.ipynb",
   "metadata": {
    "tags": [],
    "cell_id": "00038-916259b6-80b3-4fcb-9e5b-d789eb5b7d02",
    "deepnote_cell_type": "markdown"
   }
  },
  {
   "cell_type": "markdown",
   "source": "# Lösungen",
   "metadata": {
    "tags": [],
    "is_collapsed": false,
    "cell_id": "00016-38d4da99-674c-4372-80ef-ea652768cd4f",
    "deepnote_cell_type": "text-cell-h1"
   }
  },
  {
   "cell_type": "code",
   "metadata": {
    "tags": [],
    "cell_id": "00014-13a97823-02d8-4022-bfaa-79930d38f6ac",
    "deepnote_to_be_reexecuted": false,
    "source_hash": "dbfa583a",
    "execution_start": 1632335482994,
    "execution_millis": 23,
    "deepnote_cell_type": "code"
   },
   "source": "# Lösung Aufgabe #1\nstmt = \"\"\"SELECT * FROM tracks;\"\"\"\ncur = execute_query(connection, stmt)\nrows = cur.fetchall()\n\n# iterierte über das resultat\nfor i in range(10):\n    row = rows[i]\n    print(\"%s: '%s'\" % (row[5], row[1]))",
   "outputs": [
    {
     "name": "stdout",
     "text": "Angus Young, Malcolm Young, Brian Johnson: 'For Those About To Rock (We Salute You)'\nNone: 'Balls to the Wall'\nF. Baltes, S. Kaufman, U. Dirkscneider & W. Hoffman: 'Fast As a Shark'\nF. Baltes, R.A. Smith-Diesel, S. Kaufman, U. Dirkscneider & W. Hoffman: 'Restless and Wild'\nDeaffy & R.A. Smith-Diesel: 'Princess of the Dawn'\nAngus Young, Malcolm Young, Brian Johnson: 'Put The Finger On You'\nAngus Young, Malcolm Young, Brian Johnson: 'Let's Get It Up'\nAngus Young, Malcolm Young, Brian Johnson: 'Inject The Venom'\nAngus Young, Malcolm Young, Brian Johnson: 'Snowballed'\nAngus Young, Malcolm Young, Brian Johnson: 'Evil Walks'\n",
     "output_type": "stream"
    }
   ],
   "execution_count": null
  },
  {
   "cell_type": "code",
   "metadata": {
    "tags": [],
    "cell_id": "00016-ed9f9587-2954-4699-a116-e40e144e8000",
    "deepnote_to_be_reexecuted": false,
    "source_hash": "fca054fe",
    "execution_start": 1632335482995,
    "execution_millis": 22,
    "deepnote_cell_type": "code"
   },
   "source": "# Lösung Aufgabe #2\nstmt = \"\"\"SELECT\n\tFirstName,\n\tLastName,\n\tCity\nFROM\n\tcustomers\nLIMIT 10;\n\"\"\"\ncur = execute_query(connection, stmt)\nprint_results(cur)",
   "outputs": [
    {
     "name": "stdout",
     "text": "['FirstName', 'LastName', 'City']\n('Luís', 'Gonçalves', 'São José dos Campos')\n('Leonie', 'Köhler', 'Stuttgart')\n('François', 'Tremblay', 'Montréal')\n('Bjørn', 'Hansen', 'Oslo')\n('František', 'Wichterlová', 'Prague')\n('Helena', 'Holý', 'Prague')\n('Astrid', 'Gruber', 'Vienne')\n('Daan', 'Peeters', 'Brussels')\n('Kara', 'Nielsen', 'Copenhagen')\n('Eduardo', 'Martins', 'São Paulo')\n",
     "output_type": "stream"
    }
   ],
   "execution_count": null
  },
  {
   "cell_type": "code",
   "metadata": {
    "tags": [],
    "cell_id": "00036-f67b5980-12eb-42e3-a287-b314dcbd8909",
    "deepnote_to_be_reexecuted": false,
    "source_hash": "48f9c11f",
    "execution_start": 1632335482996,
    "execution_millis": 3,
    "deepnote_cell_type": "code"
   },
   "source": "# Lösung Aufgabe #3\n# Hier gibt es keine generische Lösungen, da die Aufgabenstellung offen gehalten ist.",
   "outputs": [],
   "execution_count": null
  },
  {
   "cell_type": "code",
   "metadata": {
    "tags": [],
    "cell_id": "00033-547a00aa-dffe-477e-bbda-78e808143997",
    "deepnote_to_be_reexecuted": false,
    "source_hash": "9bffed46",
    "execution_start": 1632335483000,
    "execution_millis": 17,
    "deepnote_cell_type": "code"
   },
   "source": "# Aufgabe #4: Benutze die Tabelle 'customers'\n# 4.a) Suche alle 'customers', welche in Frankreich ('France') wohnen.\nstmt = \"\"\"\nSELECT firstname, lastname, city, country FROM customers WHERE country == 'France';\n\"\"\"\ncur = execute_query(connection, stmt)\nrows = cur.fetchall()\nprint(rows)",
   "outputs": [
    {
     "name": "stdout",
     "text": "[('Camille', 'Bernard', 'Paris', 'France'), ('Dominique', 'Lefebvre', 'Paris', 'France'), ('Marc', 'Dubois', 'Lyon', 'France'), ('Wyatt', 'Girard', 'Bordeaux', 'France'), ('Isabelle', 'Mercier', 'Dijon', 'France')]\n",
     "output_type": "stream"
    }
   ],
   "execution_count": null
  },
  {
   "cell_type": "code",
   "metadata": {
    "tags": [],
    "cell_id": "00034-213fa6d5-c607-4d06-aeaa-4e603b41c0ae",
    "deepnote_to_be_reexecuted": false,
    "source_hash": "d86a9fbe",
    "execution_start": 1632335483020,
    "execution_millis": 17,
    "deepnote_cell_type": "code"
   },
   "source": "# 4.b) Suche alle 'customers', welche nicht in den 'USA' oder in 'Canada' wohnen.\n# Variante 1\n\nstmt = \"\"\"\nSELECT firstname, lastname, city, country FROM customers WHERE country != 'USA' AND country != 'Canada';\n\"\"\"\ncur = execute_query(connection, stmt)\nrows = cur.fetchall()\nprint(rows);\n\n# Variante 2\nstmt = \"\"\"\nSELECT firstname, lastname, city, country FROM customers WHERE NOT country IN ('USA', 'Canada');\n\"\"\"\ncur = execute_query(connection, stmt)\nrows = cur.fetchall()\nprint(rows)",
   "outputs": [
    {
     "name": "stdout",
     "text": "[('Luís', 'Gonçalves', 'São José dos Campos', 'Brazil'), ('Leonie', 'Köhler', 'Stuttgart', 'Germany'), ('Bjørn', 'Hansen', 'Oslo', 'Norway'), ('František', 'Wichterlová', 'Prague', 'Czech Republic'), ('Helena', 'Holý', 'Prague', 'Czech Republic'), ('Astrid', 'Gruber', 'Vienne', 'Austria'), ('Daan', 'Peeters', 'Brussels', 'Belgium'), ('Kara', 'Nielsen', 'Copenhagen', 'Denmark'), ('Eduardo', 'Martins', 'São Paulo', 'Brazil'), ('Alexandre', 'Rocha', 'São Paulo', 'Brazil'), ('Roberto', 'Almeida', 'Rio de Janeiro', 'Brazil'), ('Fernanda', 'Ramos', 'Brasília', 'Brazil'), ('João', 'Fernandes', 'Lisbon', 'Portugal'), ('Madalena', 'Sampaio', 'Porto', 'Portugal'), ('Hannah', 'Schneider', 'Berlin', 'Germany'), ('Fynn', 'Zimmermann', 'Frankfurt', 'Germany'), ('Niklas', 'Schröder', 'Berlin', 'Germany'), ('Camille', 'Bernard', 'Paris', 'France'), ('Dominique', 'Lefebvre', 'Paris', 'France'), ('Marc', 'Dubois', 'Lyon', 'France'), ('Wyatt', 'Girard', 'Bordeaux', 'France'), ('Isabelle', 'Mercier', 'Dijon', 'France'), ('Terhi', 'Hämäläinen', 'Helsinki', 'Finland'), ('Ladislav', 'Kovács', 'Budapest', 'Hungary'), ('Hugh', \"O'Reilly\", 'Dublin', 'Ireland'), ('Lucas', 'Mancini', 'Rome', 'Italy'), ('Johannes', 'Van der Berg', 'Amsterdam', 'Netherlands'), ('Stanisław', 'Wójcik', 'Warsaw', 'Poland'), ('Enrique', 'Muñoz', 'Madrid', 'Spain'), ('Joakim', 'Johansson', 'Stockholm', 'Sweden'), ('Emma', 'Jones', 'London', 'United Kingdom'), ('Phil', 'Hughes', 'London', 'United Kingdom'), ('Steve', 'Murray', 'Edinburgh ', 'United Kingdom'), ('Mark', 'Taylor', 'Sidney', 'Australia'), ('Diego', 'Gutiérrez', 'Buenos Aires', 'Argentina'), ('Luis', 'Rojas', 'Santiago', 'Chile'), ('Manoj', 'Pareek', 'Delhi', 'India'), ('Puja', 'Srivastava', 'Bangalore', 'India')]\n[('Luís', 'Gonçalves', 'São José dos Campos', 'Brazil'), ('Leonie', 'Köhler', 'Stuttgart', 'Germany'), ('Bjørn', 'Hansen', 'Oslo', 'Norway'), ('František', 'Wichterlová', 'Prague', 'Czech Republic'), ('Helena', 'Holý', 'Prague', 'Czech Republic'), ('Astrid', 'Gruber', 'Vienne', 'Austria'), ('Daan', 'Peeters', 'Brussels', 'Belgium'), ('Kara', 'Nielsen', 'Copenhagen', 'Denmark'), ('Eduardo', 'Martins', 'São Paulo', 'Brazil'), ('Alexandre', 'Rocha', 'São Paulo', 'Brazil'), ('Roberto', 'Almeida', 'Rio de Janeiro', 'Brazil'), ('Fernanda', 'Ramos', 'Brasília', 'Brazil'), ('João', 'Fernandes', 'Lisbon', 'Portugal'), ('Madalena', 'Sampaio', 'Porto', 'Portugal'), ('Hannah', 'Schneider', 'Berlin', 'Germany'), ('Fynn', 'Zimmermann', 'Frankfurt', 'Germany'), ('Niklas', 'Schröder', 'Berlin', 'Germany'), ('Camille', 'Bernard', 'Paris', 'France'), ('Dominique', 'Lefebvre', 'Paris', 'France'), ('Marc', 'Dubois', 'Lyon', 'France'), ('Wyatt', 'Girard', 'Bordeaux', 'France'), ('Isabelle', 'Mercier', 'Dijon', 'France'), ('Terhi', 'Hämäläinen', 'Helsinki', 'Finland'), ('Ladislav', 'Kovács', 'Budapest', 'Hungary'), ('Hugh', \"O'Reilly\", 'Dublin', 'Ireland'), ('Lucas', 'Mancini', 'Rome', 'Italy'), ('Johannes', 'Van der Berg', 'Amsterdam', 'Netherlands'), ('Stanisław', 'Wójcik', 'Warsaw', 'Poland'), ('Enrique', 'Muñoz', 'Madrid', 'Spain'), ('Joakim', 'Johansson', 'Stockholm', 'Sweden'), ('Emma', 'Jones', 'London', 'United Kingdom'), ('Phil', 'Hughes', 'London', 'United Kingdom'), ('Steve', 'Murray', 'Edinburgh ', 'United Kingdom'), ('Mark', 'Taylor', 'Sidney', 'Australia'), ('Diego', 'Gutiérrez', 'Buenos Aires', 'Argentina'), ('Luis', 'Rojas', 'Santiago', 'Chile'), ('Manoj', 'Pareek', 'Delhi', 'India'), ('Puja', 'Srivastava', 'Bangalore', 'India')]\n",
     "output_type": "stream"
    }
   ],
   "execution_count": null
  },
  {
   "cell_type": "code",
   "metadata": {
    "tags": [],
    "cell_id": "00035-81b5db8a-5793-463a-a887-4ea082810b90",
    "deepnote_to_be_reexecuted": false,
    "source_hash": "b7282ac7",
    "execution_start": 1632335483021,
    "execution_millis": 17,
    "deepnote_cell_type": "code"
   },
   "source": "# 4.c) Suche alle 'customers', welche eine 'gmail.com' Mail-Adresse haben.\nstmt = \"\"\"\nSELECT firstname, lastname, email FROM customers WHERE email LIKE '%gmail.com%';\n\"\"\"\ncur = execute_query(connection, stmt)\nrows = cur.fetchall()\nprint(rows)",
   "outputs": [
    {
     "name": "stdout",
     "text": "[('François', 'Tremblay', 'ftremblay@gmail.com'), ('Helena', 'Holý', 'hholy@gmail.com'), ('Heather', 'Leacock', 'hleacock@gmail.com'), ('Frank', 'Ralston', 'fralston@gmail.com'), ('Julia', 'Barnett', 'jubarnett@gmail.com'), ('Martha', 'Silk', 'marthasilk@gmail.com'), ('Dominique', 'Lefebvre', 'dominiquelefebvre@gmail.com'), ('Phil', 'Hughes', 'phil.hughes@gmail.com')]\n",
     "output_type": "stream"
    }
   ],
   "execution_count": null
  },
  {
   "cell_type": "code",
   "metadata": {
    "tags": [],
    "cell_id": "00063-42f8a9d2-2de2-4df9-b457-48720936b970",
    "deepnote_to_be_reexecuted": false,
    "source_hash": "d0b30e51",
    "execution_start": 1632335483032,
    "execution_millis": 0,
    "deepnote_cell_type": "code"
   },
   "source": "# auskommentiert, fürs testen behalten wir die datenbank offen.\n# if connection:\n#    connection.close() # connections immer schliessen, wenn sie nicht mehr gebraucht werden.",
   "outputs": [],
   "execution_count": null
  },
  {
   "cell_type": "markdown",
   "source": "<a style='text-decoration:none;line-height:16px;display:flex;color:#5B5B62;padding:10px;justify-content:end;' href='https://deepnote.com?utm_source=created-in-deepnote-cell&projectId=0715ae06-549d-47db-ade6-5afadbf2cba1' target=\"_blank\">\n<img alt='Created in deepnote.com' style='display:inline;max-height:16px;margin:0px;margin-right:7.5px;' src='data:image/svg+xml;base64,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' > </img>\nCreated in <span style='font-weight:600;margin-left:4px;'>Deepnote</span></a>",
   "metadata": {
    "tags": [],
    "created_in_deepnote_cell": true,
    "deepnote_cell_type": "markdown"
   }
  }
 ],
 "nbformat": 4,
 "nbformat_minor": 2,
 "metadata": {
  "orig_nbformat": 2,
  "deepnote": {
   "is_reactive": false
  },
  "deepnote_notebook_id": "a4630a71-0f8a-48d1-a8df-69289b5d25b1",
  "deepnote_execution_queue": []
 }
}