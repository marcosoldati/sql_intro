{
 "cells": [
  {
   "cell_type": "markdown",
   "metadata": {
    "cell_id": "27004f79-0e95-41c2-bc2a-e0b62204a964",
    "deepnote_cell_type": "markdown",
    "tags": []
   },
   "source": [
    "# Workshop 4: Pandas und Numpy\n",
    "\n",
    "* Schwierigkeit: einfach\n",
    "* Prüfungsrelevant: nein\n",
    "* Zeitaufwand: 30min\n",
    "\n",
    "Pandas bietet einige praktische Methoden, um mit SQL-Datenbanken zu arbeiten. Vieles, was wir in diesem Kurs von Hand gemacht haben, wird automatisisert."
   ]
  },
  {
   "cell_type": "code",
   "execution_count": 1,
   "metadata": {
    "cell_id": "00001-c694dc98-349c-476f-b793-813659ff7b79",
    "deepnote_cell_type": "code",
    "deepnote_to_be_reexecuted": false,
    "execution_millis": 45,
    "execution_start": 1642058847014,
    "source_hash": "c74526d2",
    "tags": []
   },
   "outputs": [
    {
     "name": "stdout",
     "output_type": "stream",
     "text": [
      "Connection to SQLite DB 2.6.0 (./data/chinook.sqlite) successful\n"
     ]
    }
   ],
   "source": [
    "# Hilfsfunktionen laden und ...\n",
    "from util.sqlite_util import *\n",
    "\n",
    "# ... Test-Datenbank öffnen\n",
    "path = get_connection_path(\"chinook.sqlite\")\n",
    "connection = create_connection(path)"
   ]
  },
  {
   "cell_type": "markdown",
   "metadata": {
    "cell_id": "00026-d994c483-2ea6-4a56-bca8-bcc4a2ddca21",
    "deepnote_cell_type": "text-cell-h2",
    "is_collapsed": false,
    "tags": []
   },
   "source": [
    "## Pandas"
   ]
  },
  {
   "cell_type": "code",
   "execution_count": 2,
   "metadata": {
    "cell_id": "00027-622e1368-94b4-45d0-a3c9-976e7e0afaaa",
    "deepnote_cell_type": "code",
    "deepnote_to_be_reexecuted": false,
    "execution_millis": 6,
    "execution_start": 1642058847454,
    "source_hash": "2d193f",
    "tags": []
   },
   "outputs": [
    {
     "name": "stdout",
     "output_type": "stream",
     "text": [
      "Connection to SQLite DB 2.6.0 (./data/chinook.sqlite) successful\n"
     ]
    }
   ],
   "source": [
    "connection.close()\n",
    "# Wechseln wir nochmals zur Chinook Datenbank...\n",
    "path = get_connection_path(\"chinook.sqlite\")\n",
    "connection = create_connection(path)"
   ]
  },
  {
   "cell_type": "code",
   "execution_count": 3,
   "metadata": {
    "cell_id": "00028-7a046899-9ece-43a5-90a4-49bbf641257b",
    "deepnote_cell_type": "code",
    "deepnote_to_be_reexecuted": false,
    "execution_millis": 317,
    "execution_start": 1642058847504,
    "source_hash": "592671d1",
    "tags": []
   },
   "outputs": [
    {
     "name": "stdout",
     "output_type": "stream",
     "text": [
      "    Name                                  Title  \\\n",
      "0  AC/DC  For Those About To Rock We Salute You   \n",
      "1  AC/DC  For Those About To Rock We Salute You   \n",
      "2  AC/DC  For Those About To Rock We Salute You   \n",
      "3  AC/DC  For Those About To Rock We Salute You   \n",
      "4  AC/DC  For Those About To Rock We Salute You   \n",
      "\n",
      "                                      Name  \\\n",
      "0  For Those About To Rock (We Salute You)   \n",
      "1                    Put The Finger On You   \n",
      "2                          Let's Get It Up   \n",
      "3                         Inject The Venom   \n",
      "4                               Snowballed   \n",
      "\n",
      "                                    Composer  Milliseconds     Bytes  \\\n",
      "0  Angus Young, Malcolm Young, Brian Johnson        343719  11170334   \n",
      "1  Angus Young, Malcolm Young, Brian Johnson        205662   6713451   \n",
      "2  Angus Young, Malcolm Young, Brian Johnson        233926   7636561   \n",
      "3  Angus Young, Malcolm Young, Brian Johnson        210834   6852860   \n",
      "4  Angus Young, Malcolm Young, Brian Johnson        203102   6599424   \n",
      "\n",
      "   UnitPrice  \n",
      "0       0.99  \n",
      "1       0.99  \n",
      "2       0.99  \n",
      "3       0.99  \n",
      "4       0.99  \n"
     ]
    }
   ],
   "source": [
    "import pandas as pd\n",
    "stmt = \"\"\"\n",
    "SELECT ar.name, al.title, t.name, t.composer, t.milliseconds, t.bytes, t.unitPrice FROM \n",
    "  tracks t\n",
    "    INNER JOIN albums al USING(albumid)\n",
    "    INNER JOIN artists ar USING(artistid)\n",
    ";\n",
    "\"\"\"\n",
    "df = pd.read_sql_query(stmt, connection)\n",
    "\n",
    "# Verify that result of SQL query is stored in the dataframe\n",
    "print(df.head())\n"
   ]
  },
  {
   "cell_type": "code",
   "execution_count": 4,
   "metadata": {
    "cell_id": "00029-b38ded6e-d379-43f6-8042-4fcb72ea26df",
    "deepnote_cell_type": "code",
    "deepnote_to_be_reexecuted": false,
    "execution_millis": 156,
    "execution_start": 1642058847831,
    "source_hash": "8b651934",
    "tags": []
   },
   "outputs": [
    {
     "name": "stdout",
     "output_type": "stream",
     "text": [
      "<class 'pandas.core.frame.DataFrame'>\n",
      "RangeIndex: 3503 entries, 0 to 3502\n",
      "Data columns (total 7 columns):\n",
      " #   Column        Non-Null Count  Dtype  \n",
      "---  ------        --------------  -----  \n",
      " 0   Name          3503 non-null   object \n",
      " 1   Title         3503 non-null   object \n",
      " 2   Name          3503 non-null   object \n",
      " 3   Composer      2525 non-null   object \n",
      " 4   Milliseconds  3503 non-null   int64  \n",
      " 5   Bytes         3503 non-null   int64  \n",
      " 6   UnitPrice     3503 non-null   float64\n",
      "dtypes: float64(1), int64(2), object(4)\n",
      "memory usage: 191.7+ KB\n",
      "None\n"
     ]
    }
   ],
   "source": [
    "print(df.info())"
   ]
  },
  {
   "cell_type": "code",
   "execution_count": 5,
   "metadata": {
    "cell_id": "00030-e292bdee-3970-4eb2-b9f1-881cb8410043",
    "deepnote_cell_type": "code",
    "deepnote_to_be_reexecuted": false,
    "execution_millis": 136,
    "execution_start": 1642058847855,
    "source_hash": "72dd750d",
    "tags": []
   },
   "outputs": [
    {
     "name": "stdout",
     "output_type": "stream",
     "text": [
      "       Milliseconds         Bytes    UnitPrice\n",
      "count  3.503000e+03  3.503000e+03  3503.000000\n",
      "mean   3.935992e+05  3.351021e+07     1.050805\n",
      "std    5.350054e+05  1.053925e+08     0.239006\n",
      "min    1.071000e+03  3.874700e+04     0.990000\n",
      "25%    2.072810e+05  6.342566e+06     0.990000\n",
      "50%    2.556340e+05  8.107896e+06     0.990000\n",
      "75%    3.216450e+05  1.026679e+07     0.990000\n",
      "max    5.286953e+06  1.059546e+09     1.990000\n"
     ]
    }
   ],
   "source": [
    "print(df.describe())"
   ]
  },
  {
   "cell_type": "code",
   "execution_count": 6,
   "metadata": {
    "cell_id": "00031-ccd89837-865d-4608-8ea2-5c2183eb58d1",
    "deepnote_cell_type": "code",
    "deepnote_output_heights": [
     21.199996948242188,
     261
    ],
    "deepnote_to_be_reexecuted": false,
    "execution_millis": 2536,
    "execution_start": 1642058847893,
    "source_hash": "fc5470ae",
    "tags": []
   },
   "outputs": [
    {
     "data": {
      "text/plain": [
       "<AxesSubplot:>"
      ]
     },
     "execution_count": 6,
     "metadata": {},
     "output_type": "execute_result"
    },
    {
     "data": {
      "image/png": "[encoded data removed]",
      "text/plain": [
       "<Figure size 432x288 with 1 Axes>"
      ]
     },
     "metadata": {
      "needs_background": "light"
     },
     "output_type": "display_data"
    }
   ],
   "source": [
    "df.plot.line(y=[\"Milliseconds\"])"
   ]
  },
  {
   "cell_type": "code",
   "execution_count": null,
   "metadata": {},
   "outputs": [],
   "source": [
    "# Aufgabe 4.1: Wähle eine oder mehrere Queries auf ws01 und implementiere sie mit Pandas."
   ]
  },
  {
   "cell_type": "markdown",
   "metadata": {},
   "source": [
    "## NumPy\n",
    "\n",
    "Mit [Pandas.DataFrame.to_numpy()](https://pandas.pydata.org/docs/reference/api/pandas.DataFrame.to_numpy.html) kann ein Pandas Dataframe einfach in ein Numpy Array umgewandelt werden."
   ]
  },
  {
   "cell_type": "code",
   "execution_count": 9,
   "metadata": {},
   "outputs": [
    {
     "name": "stdout",
     "output_type": "stream",
     "text": [
      "[['AC/DC' 'For Those About To Rock We Salute You'\n",
      "  'For Those About To Rock (We Salute You)' ... 343719 11170334 0.99]\n",
      " ['AC/DC' 'For Those About To Rock We Salute You' 'Put The Finger On You'\n",
      "  ... 205662 6713451 0.99]\n",
      " ['AC/DC' 'For Those About To Rock We Salute You' \"Let's Get It Up\" ...\n",
      "  233926 7636561 0.99]\n",
      " ...\n",
      " ['C. Monteverdi, Nigel Rogers - Chiaroscuro; London Baroque; London Cornett & Sackbu'\n",
      "  \"Monteverdi: L'Orfeo\" \"L'orfeo, Act 3, Sinfonia (Orchestra)\" ... 66639\n",
      "  1189062 0.99]\n",
      " ['Nash Ensemble' 'Mozart: Chamber Music'\n",
      "  'Quintet for Horn, Violin, 2 Violas, and Cello in E Flat Major, K. 407/386c: III. Allegro'\n",
      "  ... 221331 3665114 0.99]\n",
      " ['Philip Glass Ensemble'\n",
      "  'Koyaanisqatsi (Soundtrack from the Motion Picture)' 'Koyaanisqatsi'\n",
      "  ... 206005 3305164 0.99]]\n"
     ]
    }
   ],
   "source": [
    "songs = df.to_numpy()\n",
    "print (songs)"
   ]
  },
  {
   "cell_type": "code",
   "execution_count": 11,
   "metadata": {},
   "outputs": [
    {
     "name": "stdout",
     "output_type": "stream",
     "text": [
      "Album title: For Those About To Rock We Salute You\n"
     ]
    }
   ],
   "source": [
    "print (\"Album title: %s\" % songs[0][1])"
   ]
  },
  {
   "cell_type": "code",
   "execution_count": null,
   "metadata": {},
   "outputs": [],
   "source": [
    "# Aufgabe 4.2: Experimentiere mit Numpy-Arrays (z.B drucke alle Album-Titel im Array)"
   ]
  },
  {
   "cell_type": "markdown",
   "metadata": {},
   "source": [
    "# Lösungen\n",
    "Es gibt keine Lösungen, da die Aufgaben offen gestellt sind. Bei Bedarf bitte nachfragen."
   ]
  }
 ],
 "metadata": {
  "deepnote": {
   "is_reactive": false
  },
  "deepnote_execution_queue": [],
  "deepnote_notebook_id": "91b51cc0-0771-4ad6-840b-f73c344ccb50",
  "kernelspec": {
   "display_name": "Python 3 (ipykernel)",
   "language": "python",
   "name": "python3"
  },
  "language_info": {
   "codemirror_mode": {
    "name": "ipython",
    "version": 3
   },
   "file_extension": ".py",
   "mimetype": "text/x-python",
   "name": "python",
   "nbconvert_exporter": "python",
   "pygments_lexer": "ipython3",
   "version": "3.8.12"
  }
 },
 "nbformat": 4,
 "nbformat_minor": 4
}
