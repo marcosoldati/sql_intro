{
 "cells": [
  {
   "cell_type": "markdown",
   "source": "# SQL Tools für Data Science",
   "metadata": {
    "tags": [],
    "cell_id": "00000-9d48d9ba-4f17-4dbc-be06-1b43f2f347b8",
    "deepnote_cell_type": "markdown"
   }
  },
  {
   "cell_type": "code",
   "metadata": {
    "tags": [],
    "deepnote_to_be_reexecuted": false,
    "source_hash": "c74526d2",
    "execution_start": 1631517309092,
    "execution_millis": 50,
    "cell_id": "00001-6406b89c-a5d8-455f-bd4a-388a3dae4ef4",
    "deepnote_cell_type": "code"
   },
   "source": "# Hilfsfunktionen laden und ...\nfrom util.sqlite_util import *\n\n# ... Test-Datenbank öffnen\npath = get_connection_path(\"chinook.sqlite\")\nconnection = create_connection(path)",
   "execution_count": null,
   "outputs": [
    {
     "name": "stdout",
     "text": "Connection to SQLite DB 2.6.0 (./data/chinook.sqlite) successful\n",
     "output_type": "stream"
    }
   ]
  },
  {
   "cell_type": "markdown",
   "source": "## Data Manipulation Language (DML)\n\nMit DML können Daten in ein existierendes Schema eingefügt, angepasst und gelöscht werden. Die Hauptbefehle sind\n* INSERT \n* UPDATE\n* DELETE\n* (REPLACE) - wird hier nicht behandelt",
   "metadata": {
    "tags": [],
    "cell_id": "00003-880e474a-3800-415b-86f4-5dc60e639e66",
    "deepnote_cell_type": "markdown"
   }
  },
  {
   "cell_type": "markdown",
   "source": "### INSERT",
   "metadata": {
    "tags": [],
    "is_collapsed": false,
    "cell_id": "00004-0f08cf7c-8cb2-49ba-8999-e61459d9de14",
    "deepnote_cell_type": "text-cell-h3"
   }
  },
  {
   "cell_type": "code",
   "metadata": {
    "tags": [],
    "deepnote_to_be_reexecuted": false,
    "source_hash": "a1a89074",
    "execution_start": 1631517309134,
    "execution_millis": 1,
    "cell_id": "00003-92e6e97f-8119-4c6f-9629-dbafe9e0239b",
    "deepnote_cell_type": "code"
   },
   "source": "stmt = \"\"\"\nINSERT INTO artists (name) \nVALUES('Bud Powell');\n\"\"\"\ncur = execute_query(connection, stmt)\n# INSERT hat keinen Rückgabewert",
   "execution_count": null,
   "outputs": []
  },
  {
   "cell_type": "code",
   "metadata": {
    "tags": [],
    "cell_id": "00005-e6b79073-3250-40af-98f4-a9be28dc2a0e",
    "deepnote_to_be_reexecuted": false,
    "source_hash": "e4df99db",
    "execution_start": 1631517309178,
    "execution_millis": 6,
    "deepnote_cell_type": "code"
   },
   "source": "# small helper class\ndef __print_artists():\n    stmt = \"\"\"\n    SELECT\n        ArtistId,\n        Name\n    FROM\n        Artists\n    ORDER BY\n        ArtistId DESC\n    LIMIT 3;\n    \"\"\"\n    cur = execute_query(connection, stmt)\n    print_results(cur)\n\n__print_artists()",
   "execution_count": null,
   "outputs": [
    {
     "name": "stdout",
     "text": "['ArtistId', 'Name']\n(288, 'Bud Powell')\n(275, 'Philip Glass Ensemble')\n(274, 'Nash Ensemble')\n",
     "output_type": "stream"
    }
   ]
  },
  {
   "cell_type": "markdown",
   "source": "### UPDATE",
   "metadata": {
    "tags": [],
    "is_collapsed": false,
    "cell_id": "00007-49152ccf-fb8f-4edf-b967-d2d725fb08c4",
    "deepnote_cell_type": "text-cell-h3"
   }
  },
  {
   "cell_type": "code",
   "metadata": {
    "tags": [],
    "cell_id": "00008-0387afb8-08ab-4eb6-ba4f-fcc998facdfe",
    "deepnote_to_be_reexecuted": false,
    "source_hash": "2f3009a2",
    "execution_start": 1631517309179,
    "execution_millis": 5,
    "deepnote_cell_type": "code"
   },
   "source": "stmt = \"\"\"\nUPDATE artists\nSET name = 'Baden Powell'\nWHERE name = 'Bud Powell' \nLIMIT 1;\n\"\"\"\ncur = execute_query(connection, stmt)\n\n__print_artists()",
   "execution_count": null,
   "outputs": [
    {
     "name": "stdout",
     "text": "['ArtistId', 'Name']\n(288, 'Baden Powell')\n(275, 'Philip Glass Ensemble')\n(274, 'Nash Ensemble')\n",
     "output_type": "stream"
    }
   ]
  },
  {
   "cell_type": "markdown",
   "source": "### DELETE",
   "metadata": {
    "tags": [],
    "is_collapsed": false,
    "cell_id": "00009-75588d5b-bd8e-4551-81e6-6d18787c0f3a",
    "deepnote_cell_type": "text-cell-h3"
   }
  },
  {
   "cell_type": "code",
   "metadata": {
    "tags": [],
    "cell_id": "00010-2d2ecca6-5ff8-4b85-bd6b-4358a3df681f",
    "deepnote_to_be_reexecuted": false,
    "source_hash": "d5218a82",
    "execution_start": 1631517309179,
    "execution_millis": 53,
    "deepnote_cell_type": "code"
   },
   "source": "stmt = \"\"\"\nDELETE FROM artists\nWHERE name LIKE \"%Powell%\";\n\"\"\"\ncur = execute_query(connection, stmt)\n\n__print_artists()",
   "execution_count": null,
   "outputs": [
    {
     "name": "stdout",
     "text": "['ArtistId', 'Name']\n(275, 'Philip Glass Ensemble')\n(274, 'Nash Ensemble')\n(273, 'C. Monteverdi, Nigel Rogers - Chiaroscuro; London Baroque; London Cornett & Sackbu')\n",
     "output_type": "stream"
    }
   ]
  },
  {
   "cell_type": "markdown",
   "source": "### Tabelle kopieren",
   "metadata": {
    "tags": [],
    "is_collapsed": false,
    "cell_id": "00009-a95823cb-53a9-4f9c-abcd-56afac8457e6",
    "deepnote_cell_type": "text-cell-h3"
   }
  },
  {
   "cell_type": "code",
   "metadata": {
    "tags": [],
    "cell_id": "00012-deeb7049-de06-47b3-a08a-2c8d4b14c8f5",
    "deepnote_to_be_reexecuted": false,
    "source_hash": "b1da2241",
    "execution_start": 1631517309222,
    "execution_millis": 22,
    "deepnote_cell_type": "code"
   },
   "source": "# Zuerst verwenden wir DDL, um eine neue, leeere Tabelle zu kreieren\nstmt = \"\"\"\nCREATE TABLE artists_backup(\n   ArtistId INTEGER PRIMARY KEY AUTOINCREMENT,\n   Name NVARCHAR\n);\n\"\"\"\nexecute_query(connection, stmt)\n\n# falls die Tabelle bereits exisitert, gibt es hier eine Fehlermeldung. \n# Um dies zu unterdrücken, kann CREATE TABLE IF NOT EXISTS verwendet werden. Mache ich hier bewusst nicht.\n\n# nun wird die Tabelle 'artists' kopiert\nstmt = \"\"\"\nINSERT INTO artists_backup \nSELECT ArtistId, Name\nFROM artists;\n\"\"\"\nexecute_query(connection, stmt)\n\n# zeige anzahl reihen in artists_Backup\ncur = execute_query(connection, \"SELECT count(*) FROM artists_backup;\")\nprint(cur.fetchone())\n\n# und lösche artists_backup wieder\ncur = execute_query(connection, \"DROP TABLE artists_backup;\")",
   "execution_count": null,
   "outputs": [
    {
     "name": "stdout",
     "text": "(274,)\n",
     "output_type": "stream"
    }
   ]
  },
  {
   "cell_type": "markdown",
   "source": "## Data Definition Language\nDDL wird verwendet, um Datenschematas zu erzeugen, ändern und löschen. Die wichtigsten Befehle sind:\n* CREATE TABLE\n* UPDATE TABLE\n* DROP TABLE",
   "metadata": {
    "tags": [],
    "cell_id": "00015-778d0041-e0e9-4d0d-bdf2-92f80fc49c25",
    "deepnote_cell_type": "markdown"
   }
  },
  {
   "cell_type": "code",
   "metadata": {
    "tags": [],
    "cell_id": "00014-1c60ae8e-18bf-47d2-8f30-8aabba9c7f8e",
    "deepnote_to_be_reexecuted": false,
    "source_hash": "433226e3",
    "execution_start": 1631517309248,
    "execution_millis": 15,
    "deepnote_cell_type": "code"
   },
   "source": "# Wir wechseln zur Test-Datenbank\nconnection.close()\n# ... Test-Datenbank öffnen\npath = get_connection_path(\"sql_kurs.sqlite\")\nconnection = create_connection(path)",
   "execution_count": null,
   "outputs": [
    {
     "name": "stdout",
     "text": "Connection to SQLite DB 2.6.0 (./data/sql_kurs.sqlite) successful\n",
     "output_type": "stream"
    }
   ]
  },
  {
   "cell_type": "markdown",
   "source": "Folgende Beispieldatenbank wird hier erzeugt\n![Beispielsdatenbank](./img/SQLite-Foreign-Key-Example.png)",
   "metadata": {
    "tags": [],
    "cell_id": "00014-e2cee694-0487-488a-8b40-94ee9309f909",
    "deepnote_cell_type": "markdown"
   }
  },
  {
   "cell_type": "code",
   "metadata": {
    "tags": [],
    "cell_id": "00014-0c79ddd2-45f7-4404-b20b-3b7bbdd00bf7",
    "deepnote_to_be_reexecuted": false,
    "source_hash": "5a629084",
    "execution_start": 1631517309260,
    "execution_millis": 61,
    "deepnote_cell_type": "code"
   },
   "source": "stmt=\"\"\"\nCREATE TABLE supplier_groups (\n\tgroup_id integer PRIMARY KEY,\n\tgroup_name text NOT NULL\n);\n\"\"\"\nexecute_query(connection, stmt)\n\nstmt =\"\"\"\nCREATE TABLE suppliers (\n    supplier_id   INTEGER PRIMARY KEY,\n    supplier_name TEXT    NOT NULL,\n    group_id      INTEGER NOT NULL,\n    FOREIGN KEY (group_id)\n       REFERENCES supplier_groups (group_id) \n);\n\"\"\"\nexecute_query(connection, stmt)\n\n\nprint(show_tables(connection))\nprint(\"\\nDetails zur Tabelle 'suppliers':\")\nprint(desc_table(connection, \"suppliers\"))\n\n",
   "execution_count": null,
   "outputs": [
    {
     "name": "stdout",
     "text": "['contacts', 'groups', 'contact_groups', 'supplier_groups', 'suppliers']\n\nDetails zur Tabelle 'suppliers':\nCREATE TABLE suppliers (\n    supplier_id   INTEGER PRIMARY KEY,\n    supplier_name TEXT    NOT NULL,\n    group_id      INTEGER NOT NULL,\n    FOREIGN KEY (group_id)\n       REFERENCES supplier_groups (group_id) \n)\n",
     "output_type": "stream"
    }
   ]
  },
  {
   "cell_type": "code",
   "metadata": {
    "tags": [],
    "cell_id": "00017-4538dd08-ac5e-4d48-8bcf-6996139e3db1",
    "deepnote_to_be_reexecuted": false,
    "source_hash": "9b156ef6",
    "execution_start": 1631517309362,
    "execution_millis": 5,
    "deepnote_cell_type": "code"
   },
   "source": "# und wir löschen die Tabellen wieder\nexecute_query(connection, \"drop table if exists supplier_groups\")\nexecute_query(connection, \"drop table if exists suppliers\")\nprint(show_tables(connection))",
   "execution_count": null,
   "outputs": [
    {
     "name": "stdout",
     "text": "['contacts', 'groups', 'contact_groups']\n",
     "output_type": "stream"
    }
   ]
  },
  {
   "cell_type": "markdown",
   "source": "",
   "metadata": {
    "tags": [],
    "cell_id": "00019-c58ac986-471e-4aef-8d7f-524208a36bfe",
    "deepnote_cell_type": "markdown"
   }
  },
  {
   "cell_type": "markdown",
   "source": "## Aufgabe 13: DDL und DML\n\nGegeben ist folgendes Datenbankschema.\n\n![Datenbank-Schema](./img/SQLite-CREATE-TABLE-example.jpg)\n\n* a) Benutze CREATE TABLE, um das Schema zu erzeugen.\n* b) Fülle die Tabelle mit einigen Beispieldaten mit INSERT INTO\n* c) Lösche die Tabellen mit DROP TABLE\n* d) Zeige alle Contacts mit den zugewiesenen Gruppe in einer Tabelle.",
   "metadata": {
    "tags": [],
    "cell_id": "00019-537d6fe1-e5fb-45f3-b9ba-0d16b2d15c58",
    "deepnote_cell_type": "markdown"
   }
  },
  {
   "cell_type": "code",
   "metadata": {
    "tags": [],
    "cell_id": "00020-676da337-ff31-4e28-ba72-9bd8a7863342",
    "deepnote_to_be_reexecuted": false,
    "source_hash": "8ce65f33",
    "execution_start": 1631517309363,
    "execution_millis": 47,
    "deepnote_cell_type": "code"
   },
   "source": "# c) Lösche die Tabellen mit DROP TABLE\nexecute_query(connection, \"DROP TABLE IF EXISTS groups\")\nexecute_query(connection, \"DROP TABLE IF EXISTS contacts\")\nexecute_query(connection, \"DROP TABLE IF EXISTS contact_groups\")\nprint(show_tables(connection))",
   "execution_count": null,
   "outputs": [
    {
     "name": "stdout",
     "text": "[]\n",
     "output_type": "stream"
    }
   ]
  },
  {
   "cell_type": "code",
   "metadata": {
    "tags": [],
    "cell_id": "00019-d4c43dca-58d6-4a3e-bc59-5746c8596d40",
    "deepnote_to_be_reexecuted": false,
    "source_hash": "611a8718",
    "execution_start": 1631517309407,
    "execution_millis": 45,
    "deepnote_cell_type": "code"
   },
   "source": "# a) Benutze CREATE TABLE, um das Schema zu erzeugen.\nstmt = \"\"\"\nCREATE TABLE IF NOT EXISTS contacts (\n\tcontact_id INTEGER PRIMARY KEY,\n\tfirst_name TEXT NOT NULL,\n\tlast_name TEXT NOT NULL,\n\temail TEXT NOT NULL UNIQUE,\n\tphone TEXT NOT NULL UNIQUE\n);\"\"\"\nexecute_query(connection, stmt)\n\n\nstmt = \"\"\"\nCREATE TABLE IF NOT EXISTS groups (\n   group_id INTEGER PRIMARY KEY,\n   name TEXT NOT NULL\n);\"\"\"\nexecute_query(connection, stmt)\n\n\nstmt =\"\"\"\nCREATE TABLE IF NOT EXISTS contact_groups(\n   contact_id INTEGER,\n   group_id INTEGER,\n   PRIMARY KEY (contact_id, group_id),\n   FOREIGN KEY (contact_id) \n      REFERENCES contacts (contact_id) \n         ON DELETE CASCADE \n         ON UPDATE NO ACTION,\n   FOREIGN KEY (group_id) \n      REFERENCES groups (group_id) \n         ON DELETE CASCADE \n         ON UPDATE NO ACTION\n);\"\"\"\nexecute_query(connection, stmt)\nprint(show_tables(connection))\n",
   "execution_count": null,
   "outputs": [
    {
     "name": "stdout",
     "text": "['contacts', 'groups', 'contact_groups']\n",
     "output_type": "stream"
    }
   ]
  },
  {
   "cell_type": "code",
   "metadata": {
    "tags": [],
    "cell_id": "00021-9ccaa4da-6719-4271-988b-cf670936323b",
    "deepnote_to_be_reexecuted": false,
    "source_hash": "93a009b4",
    "execution_start": 1631517309449,
    "execution_millis": 22,
    "deepnote_cell_type": "code"
   },
   "source": "# b) Fülle die Tabelle mit einigen Beispieldaten mit INSERT INTO\nstmt = \"\"\"\nINSERT INTO groups (name)\nVALUES (\"privat\"), (\"business\"), (\"familie\"), (\"freizeit\");\"\"\"\nexecute_query(connection, stmt)\ncur = execute_query(connection, \"SELECT * FROM groups;\")\nprint_results(cur)",
   "execution_count": null,
   "outputs": [
    {
     "name": "stdout",
     "text": "['group_id', 'name']\n(1, 'privat')\n(2, 'business')\n(3, 'familie')\n(4, 'freizeit')\n",
     "output_type": "stream"
    }
   ]
  },
  {
   "cell_type": "code",
   "metadata": {
    "tags": [],
    "cell_id": "00022-18ee536d-0e07-42be-803a-bc5015f53bef",
    "deepnote_to_be_reexecuted": false,
    "source_hash": "d866831a",
    "execution_start": 1631517309510,
    "execution_millis": 6,
    "deepnote_cell_type": "code"
   },
   "source": "stmt = \"\"\"\nINSERT INTO contacts (first_name, last_name, email, phone)\nVALUES (\"marco\", \"soldati\", \"marco@abc.de\", \"02280808080\"),\n       (\"max\", \"frisch\", \"max@fris.ch\", \"0229911991\"),\n       (\"alain\", \"berset\", \"aberset@ch.ch\", \"032*******\");\n\"\"\"\nexecute_query(connection, stmt)\ncur = execute_query(connection, \"SELECT * FROM contacts;\")\nprint_results(cur)",
   "execution_count": null,
   "outputs": [
    {
     "name": "stdout",
     "text": "['contact_id', 'first_name', 'last_name', 'email', 'phone']\n(1, 'marco', 'soldati', 'marco@abc.de', '02280808080')\n(2, 'max', 'frisch', 'max@fris.ch', '0229911991')\n(3, 'alain', 'berset', 'aberset@ch.ch', '032*******')\n",
     "output_type": "stream"
    }
   ]
  },
  {
   "cell_type": "code",
   "metadata": {
    "tags": [],
    "cell_id": "00023-9f3a918e-6d79-451d-ab60-66f707bdc6ca",
    "deepnote_to_be_reexecuted": false,
    "source_hash": "53a7adf7",
    "execution_start": 1631517309511,
    "execution_millis": 50,
    "deepnote_cell_type": "code"
   },
   "source": "stmt = \"\"\"\nINSERT INTO contact_groups (contact_id, group_id)\nVALUES (1, 1),\n       (1, 3),\n       (2, 4),\n       (3, 2);\n\"\"\"\nexecute_query(connection, stmt)\ncur = execute_query(connection, \"SELECT * FROM contact_groups;\")\nprint_results(cur)",
   "execution_count": null,
   "outputs": [
    {
     "name": "stdout",
     "text": "['contact_id', 'group_id']\n(1, 1)\n(1, 3)\n(2, 4)\n(3, 2)\n",
     "output_type": "stream"
    }
   ]
  },
  {
   "cell_type": "code",
   "metadata": {
    "tags": [],
    "cell_id": "00024-e06cfd91-94a2-43ee-9c2a-43738618781f",
    "deepnote_to_be_reexecuted": false,
    "source_hash": "c9464e9e",
    "execution_start": 1631517309555,
    "execution_millis": 6,
    "deepnote_cell_type": "code"
   },
   "source": "# d) Zeige alle Contacts mit den zugewiesenen Gruppe in einer Tabelle.\nstmt = \"\"\"\nSELECT contact_id, first_name, last_name, email, phone, g.name FROM \n  contacts c\n    INNER JOIN contact_groups cg USING(contact_id)\n    INNER JOIN groups g USING(group_id)\n;\n\"\"\"\ncur= execute_query(connection, stmt)\nprint_results(cur)",
   "execution_count": null,
   "outputs": [
    {
     "name": "stdout",
     "text": "['contact_id', 'first_name', 'last_name', 'email', 'phone', 'name']\n(1, 'marco', 'soldati', 'marco@abc.de', '02280808080', 'privat')\n(1, 'marco', 'soldati', 'marco@abc.de', '02280808080', 'familie')\n(2, 'max', 'frisch', 'max@fris.ch', '0229911991', 'freizeit')\n(3, 'alain', 'berset', 'aberset@ch.ch', '032*******', 'business')\n",
     "output_type": "stream"
    }
   ]
  },
  {
   "cell_type": "code",
   "metadata": {
    "tags": [],
    "cell_id": "00025-c7334ca4-e637-4bd6-95d9-ad7191c76734",
    "deepnote_to_be_reexecuted": false,
    "source_hash": "585f7174",
    "execution_start": 1631517309556,
    "execution_millis": 51,
    "deepnote_cell_type": "code"
   },
   "source": "# und wir löschen die Tabellen wieder\nexecute_query(connection, \"drop table if exists contact_groups\")\nexecute_query(connection, \"drop table if exists contacts\")\nexecute_query(connection, \"drop table if exists groups\")\nprint(show_tables(connection))",
   "execution_count": null,
   "outputs": [
    {
     "name": "stdout",
     "text": "[]\n",
     "output_type": "stream"
    }
   ]
  },
  {
   "cell_type": "markdown",
   "source": "## Pandas",
   "metadata": {
    "tags": [],
    "is_collapsed": false,
    "cell_id": "00026-bc6271b0-6c54-4fdf-bf7c-22d7e158ed8b",
    "deepnote_cell_type": "text-cell-h2"
   }
  },
  {
   "cell_type": "code",
   "metadata": {
    "tags": [],
    "cell_id": "00027-2e368ea1-ec6b-4446-9984-8d6d4040225d",
    "deepnote_to_be_reexecuted": false,
    "source_hash": "2d193f",
    "execution_start": 1635316917467,
    "execution_millis": 78,
    "deepnote_cell_type": "code"
   },
   "source": "connection.close()\n# Wechseln wir nochmals zur Chinook Datenbank...\npath = get_connection_path(\"chinook.sqlite\")\nconnection = create_connection(path)",
   "execution_count": null,
   "outputs": [
    {
     "output_type": "error",
     "ename": "NameError",
     "evalue": "name 'connection' is not defined",
     "traceback": [
      "\u001b[0;31m---------------------------------------------------------------------------\u001b[0m",
      "\u001b[0;31mNameError\u001b[0m                                 Traceback (most recent call last)",
      "\u001b[0;32m<ipython-input-1-8f6f3541d368>\u001b[0m in \u001b[0;36m<module>\u001b[0;34m\u001b[0m\n\u001b[0;32m----> 1\u001b[0;31m \u001b[0mconnection\u001b[0m\u001b[0;34m.\u001b[0m\u001b[0mclose\u001b[0m\u001b[0;34m(\u001b[0m\u001b[0;34m)\u001b[0m\u001b[0;34m\u001b[0m\u001b[0;34m\u001b[0m\u001b[0m\n\u001b[0m\u001b[1;32m      2\u001b[0m \u001b[0;31m# Wechseln wir nochmals zur Chinook Datenbank...\u001b[0m\u001b[0;34m\u001b[0m\u001b[0;34m\u001b[0m\u001b[0;34m\u001b[0m\u001b[0m\n\u001b[1;32m      3\u001b[0m \u001b[0mpath\u001b[0m \u001b[0;34m=\u001b[0m \u001b[0mget_connection_path\u001b[0m\u001b[0;34m(\u001b[0m\u001b[0;34m\"chinook.sqlite\"\u001b[0m\u001b[0;34m)\u001b[0m\u001b[0;34m\u001b[0m\u001b[0;34m\u001b[0m\u001b[0m\n\u001b[1;32m      4\u001b[0m \u001b[0mconnection\u001b[0m \u001b[0;34m=\u001b[0m \u001b[0mcreate_connection\u001b[0m\u001b[0;34m(\u001b[0m\u001b[0mpath\u001b[0m\u001b[0;34m)\u001b[0m\u001b[0;34m\u001b[0m\u001b[0;34m\u001b[0m\u001b[0m\n",
      "\u001b[0;31mNameError\u001b[0m: name 'connection' is not defined"
     ]
    }
   ]
  },
  {
   "cell_type": "code",
   "metadata": {
    "tags": [],
    "cell_id": "00027-622e543e-6233-446b-8aec-2f08d7c310dc",
    "deepnote_to_be_reexecuted": false,
    "source_hash": "592671d1",
    "execution_start": 1631517612817,
    "execution_millis": 73,
    "deepnote_cell_type": "code"
   },
   "source": "import pandas as pd\nstmt = \"\"\"\nSELECT ar.name, al.title, t.name, t.composer, t.milliseconds, t.bytes, t.unitPrice FROM \n  tracks t\n    INNER JOIN albums al USING(albumid)\n    INNER JOIN artists ar USING(artistid)\n;\n\"\"\"\ndf = pd.read_sql_query(stmt, connection)\n\n# Verify that result of SQL query is stored in the dataframe\nprint(df.head())\n",
   "execution_count": null,
   "outputs": [
    {
     "name": "stdout",
     "text": "    Name                                  Title  \\\n0  AC/DC  For Those About To Rock We Salute You   \n1  AC/DC  For Those About To Rock We Salute You   \n2  AC/DC  For Those About To Rock We Salute You   \n3  AC/DC  For Those About To Rock We Salute You   \n4  AC/DC  For Those About To Rock We Salute You   \n\n                                      Name  \\\n0  For Those About To Rock (We Salute You)   \n1                    Put The Finger On You   \n2                          Let's Get It Up   \n3                         Inject The Venom   \n4                               Snowballed   \n\n                                    Composer  Milliseconds     Bytes  \\\n0  Angus Young, Malcolm Young, Brian Johnson        343719  11170334   \n1  Angus Young, Malcolm Young, Brian Johnson        205662   6713451   \n2  Angus Young, Malcolm Young, Brian Johnson        233926   7636561   \n3  Angus Young, Malcolm Young, Brian Johnson        210834   6852860   \n4  Angus Young, Malcolm Young, Brian Johnson        203102   6599424   \n\n   UnitPrice  \n0       0.99  \n1       0.99  \n2       0.99  \n3       0.99  \n4       0.99  \n",
     "output_type": "stream"
    }
   ]
  },
  {
   "cell_type": "code",
   "metadata": {
    "tags": [],
    "cell_id": "00028-81247555-4cc3-4823-a2a0-51480a745a59",
    "deepnote_to_be_reexecuted": false,
    "source_hash": "8b651934",
    "execution_start": 1631517482991,
    "execution_millis": 16,
    "deepnote_cell_type": "code"
   },
   "source": "print(df.info())",
   "execution_count": null,
   "outputs": [
    {
     "name": "stdout",
     "text": "<class 'pandas.core.frame.DataFrame'>\nRangeIndex: 3503 entries, 0 to 3502\nData columns (total 12 columns):\n #   Column        Non-Null Count  Dtype  \n---  ------        --------------  -----  \n 0   TrackId       3503 non-null   int64  \n 1   Name          3503 non-null   object \n 2   AlbumId       3503 non-null   int64  \n 3   MediaTypeId   3503 non-null   int64  \n 4   GenreId       3503 non-null   int64  \n 5   Composer      2525 non-null   object \n 6   Milliseconds  3503 non-null   int64  \n 7   Bytes         3503 non-null   int64  \n 8   UnitPrice     3503 non-null   float64\n 9   Title         3503 non-null   object \n 10  ArtistId      3503 non-null   int64  \n 11  Name          3503 non-null   object \ndtypes: float64(1), int64(7), object(4)\nmemory usage: 328.5+ KB\nNone\n",
     "output_type": "stream"
    }
   ]
  },
  {
   "cell_type": "code",
   "metadata": {
    "tags": [],
    "cell_id": "00029-721f5ae3-c291-4312-ba04-3863f7563328",
    "deepnote_to_be_reexecuted": false,
    "source_hash": "72dd750d",
    "execution_start": 1631517489651,
    "execution_millis": 27,
    "deepnote_cell_type": "code"
   },
   "source": "print(df.describe())",
   "execution_count": null,
   "outputs": [
    {
     "name": "stdout",
     "text": "           TrackId      AlbumId  MediaTypeId      GenreId  Milliseconds  \\\ncount  3503.000000  3503.000000  3503.000000  3503.000000  3.503000e+03   \nmean   1752.000000   140.929489     1.208393     5.725378  3.935992e+05   \nstd    1011.373324    81.775395     0.580443     6.190204  5.350054e+05   \nmin       1.000000     1.000000     1.000000     1.000000  1.071000e+03   \n25%     876.500000    70.500000     1.000000     1.000000  2.072810e+05   \n50%    1752.000000   141.000000     1.000000     3.000000  2.556340e+05   \n75%    2627.500000   212.000000     1.000000     7.000000  3.216450e+05   \nmax    3503.000000   347.000000     5.000000    25.000000  5.286953e+06   \n\n              Bytes    UnitPrice     ArtistId  \ncount  3.503000e+03  3503.000000  3503.000000  \nmean   3.351021e+07     1.050805    93.955181  \nstd    1.053925e+08     0.239006    53.571166  \nmin    3.874700e+04     0.990000     1.000000  \n25%    6.342566e+06     0.990000    53.000000  \n50%    8.107896e+06     0.990000    90.000000  \n75%    1.026679e+07     0.990000   135.000000  \nmax    1.059546e+09     1.990000   275.000000  \n",
     "output_type": "stream"
    }
   ]
  },
  {
   "cell_type": "code",
   "metadata": {
    "tags": [],
    "cell_id": "00031-87f68652-1d5b-444e-8136-f2a7a2aaf7b4",
    "deepnote_to_be_reexecuted": false,
    "source_hash": "fc5470ae",
    "execution_start": 1631519675237,
    "execution_millis": 233,
    "deepnote_output_heights": [
     21.199996948242188,
     261
    ],
    "deepnote_cell_type": "code"
   },
   "source": "df.plot.line(y=[\"Milliseconds\"])",
   "execution_count": null,
   "outputs": [
    {
     "output_type": "execute_result",
     "execution_count": 38,
     "data": {
      "text/plain": "<AxesSubplot:>"
     },
     "metadata": {}
    },
    {
     "data": {
      "text/plain": "<Figure size 432x288 with 1 Axes>",
      "image/png": "[encoded data removed]"
     },
     "metadata": {
      "needs_background": "light",
      "image/png": {
       "width": 362,
       "height": 259
      }
     },
     "output_type": "display_data"
    }
   ]
  },
  {
   "cell_type": "markdown",
   "source": "<a style='text-decoration:none;line-height:16px;display:flex;color:#5B5B62;padding:10px;justify-content:end;' href='https://deepnote.com?utm_source=created-in-deepnote-cell&projectId=0715ae06-549d-47db-ade6-5afadbf2cba1' target=\"_blank\">\n<img alt='Created in deepnote.com' style='display:inline;max-height:16px;margin:0px;margin-right:7.5px;' src='data:image/svg+xml;base64,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' > </img>\nCreated in <span style='font-weight:600;margin-left:4px;'>Deepnote</span></a>",
   "metadata": {
    "tags": [],
    "created_in_deepnote_cell": true,
    "deepnote_cell_type": "markdown"
   }
  }
 ],
 "nbformat": 4,
 "nbformat_minor": 2,
 "metadata": {
  "orig_nbformat": 2,
  "deepnote": {
   "is_reactive": false
  },
  "deepnote_notebook_id": "2f9cf29c-bc8c-49b5-8885-ebacf4e971c5",
  "deepnote_execution_queue": []
 }
}