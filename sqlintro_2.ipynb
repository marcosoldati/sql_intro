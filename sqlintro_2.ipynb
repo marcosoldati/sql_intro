{
 "cells": [
  {
   "cell_type": "markdown",
   "source": "# Einführung in SQL - Vorbereitungsauftrag - Teil 2",
   "metadata": {
    "tags": [],
    "cell_id": "00000-7263a81d-e773-487e-9590-feb8f9ca9168",
    "deepnote_cell_type": "markdown"
   }
  },
  {
   "cell_type": "code",
   "metadata": {
    "tags": [],
    "cell_id": "00001-2f698c6a-6d61-45fe-a561-c258d204dfd5",
    "deepnote_to_be_reexecuted": false,
    "source_hash": "ee9acd67",
    "execution_start": 1631533460254,
    "execution_millis": 80,
    "deepnote_cell_type": "code"
   },
   "source": "from util.sqlite_util import *\n# Test-Datenbank öffnen\npath = get_connection_path(\"chinook.sqlite\")\nconnection = create_connection(path)",
   "execution_count": null,
   "outputs": [
    {
     "name": "stdout",
     "text": "Connection to SQLite DB 2.6.0 (./data/chinook.sqlite) successful\n",
     "output_type": "stream"
    }
   ]
  },
  {
   "cell_type": "markdown",
   "source": "## Tabellen verbinden:  INNER JOIN  (ON oder USING)",
   "metadata": {
    "tags": [],
    "is_collapsed": false,
    "cell_id": "00038-19f380c4-159c-4e91-ab02-f15d1f02337d",
    "deepnote_cell_type": "text-cell-h2"
   }
  },
  {
   "cell_type": "markdown",
   "source": "Mit *Joins* können mehrere Tabellen einer Datenbank miteinander verbunden werden. *Joins* gehören zu den Hauptfunktionen von relationalen Datenbanken. Sie sind aber nicht immer intuitiv zu verstehen, weshalb wir sie im Präsenzunterricht vertieft anschauen werden. Vorerst geht es hier darum, die grundsätzliche Funktionsweise zu verstehen. \n\nAm meisten gebraucht werden sogenannte INNER JOINs.\n* **(INNER) JOIN**: Enthält alle Datensätze, die korrespondierende Einträge in beiden Tabellen haben. Das Keyword INNER ist optional, sollte aber immer ausgeschrieben werden (siehe oben).\n  ![Inner Join](./img/img_innerjoin.gif)\n\n\nWir verwenden die tabellen `artists` und `albums`, wobei jedem *Album* genau ein *Artist* zugewiesen wird (Attribut `albums.ArtistsId` zeigt auf `artists.ArtistId`). Ein *Artist* kann so gar kein, ein oder mehrere *Alben* geschrieben haben. \n\n![Artists_Albums](./img/artists_albums.png)\n\n",
   "metadata": {
    "tags": [],
    "cell_id": "00039-abfa30cb-e57d-4c94-b2be-b60ec6f6438c",
    "deepnote_cell_type": "markdown"
   }
  },
  {
   "cell_type": "code",
   "metadata": {
    "tags": [],
    "deepnote_to_be_reexecuted": false,
    "source_hash": "63bff192",
    "execution_start": 1631533460370,
    "execution_millis": 5,
    "cell_id": "00040-3b95f9da-0d17-454e-a3a4-1bf47d0bbce5",
    "deepnote_cell_type": "code"
   },
   "source": "# Der INNER JOIN berücksichtig nur Einträge, die in beiden Tabellen vorkommen und miteinander verknüpft sind.\n# 'albums' ohne 'artist' oder 'artists' ohne 'album' werden ignoriert. \nstmt = \"\"\"SELECT \n    artists.Name,\n    albums.Title\nFROM \n    albums \n    INNER JOIN \n    artists\n        ON artists.ArtistId = albums.ArtistId;\"\"\"\ncur = execute_query(connection, stmt)\nprint_results(cur)\n",
   "execution_count": null,
   "outputs": [
    {
     "name": "stdout",
     "text": "['Name', 'Title']\n('AC/DC', 'For Those About To Rock We Salute You')\n('Accept', 'Balls to the Wall')\n('Accept', 'Restless and Wild')\n('AC/DC', 'Let There Be Rock')\n('Aerosmith', 'Big Ones')\n('Alanis Morissette', 'Jagged Little Pill')\n('Alice In Chains', 'Facelift')\n('Antônio Carlos Jobim', 'Warner 25 Anos')\n('Apocalyptica', 'Plays Metallica By Four Cellos')\n('Audioslave', 'Audioslave')\n",
     "output_type": "stream"
    }
   ]
  },
  {
   "cell_type": "code",
   "metadata": {
    "tags": [],
    "deepnote_to_be_reexecuted": false,
    "source_hash": "b01d9123",
    "execution_start": 1631533481393,
    "execution_millis": 85,
    "cell_id": "00041-dc9e1e03-71a7-47a7-84fe-54965235c3ba",
    "deepnote_cell_type": "code"
   },
   "source": "# Wir können Aliasse verwenden, um die Query zu vereinfachen: al für Album, ar für Artist.\n# Dass l für left und r für right steht, ist ein didaktisch motivierter 'Zufall' ;-).\nstmt = \"\"\"SELECT \n    al.Title,\n    ar.Name\nFROM \n    albums al \n    INNER JOIN\n    artists ar\n        ON ar.ArtistId = al.ArtistId;\"\"\"\ncur = execute_query(connection, stmt)\nprint_results(cur)\n",
   "execution_count": null,
   "outputs": [
    {
     "name": "stdout",
     "text": "['Title', 'Name']\n('For Those About To Rock We Salute You', 'AC/DC')\n('Balls to the Wall', 'Accept')\n('Restless and Wild', 'Accept')\n('Let There Be Rock', 'AC/DC')\n('Big Ones', 'Aerosmith')\n('Jagged Little Pill', 'Alanis Morissette')\n('Facelift', 'Alice In Chains')\n('Warner 25 Anos', 'Antônio Carlos Jobim')\n('Plays Metallica By Four Cellos', 'Apocalyptica')\n('Audioslave', 'Audioslave')\n",
     "output_type": "stream"
    }
   ]
  },
  {
   "cell_type": "code",
   "metadata": {
    "tags": [],
    "deepnote_to_be_reexecuted": false,
    "source_hash": "cd442db0",
    "execution_start": 1631533483547,
    "execution_millis": 27,
    "cell_id": "00042-f33474cb-0cd5-4d36-8fb2-ce6eff7896d4",
    "deepnote_cell_type": "code"
   },
   "source": "# Da ArtistId in beiden Tabellen gleich heisst, können wir USING verwenden.\nstmt = \"\"\"SELECT \n    al.Title,\n    ar.Name\nFROM \n    albums al \n    INNER JOIN\n    artists ar\n        USING(ArtistId);\"\"\"\ncur = execute_query(connection, stmt)\nprint_results(cur)\n",
   "execution_count": null,
   "outputs": [
    {
     "name": "stdout",
     "text": "['Title', 'Name']\n('For Those About To Rock We Salute You', 'AC/DC')\n('Balls to the Wall', 'Accept')\n('Restless and Wild', 'Accept')\n('Let There Be Rock', 'AC/DC')\n('Big Ones', 'Aerosmith')\n('Jagged Little Pill', 'Alanis Morissette')\n('Facelift', 'Alice In Chains')\n('Warner 25 Anos', 'Antônio Carlos Jobim')\n('Plays Metallica By Four Cellos', 'Apocalyptica')\n('Audioslave', 'Audioslave')\n",
     "output_type": "stream"
    }
   ]
  },
  {
   "cell_type": "markdown",
   "source": "### Aufgabe #5",
   "metadata": {
    "tags": [],
    "is_collapsed": false,
    "cell_id": "00043-da5bc588-640d-4345-b4af-0b7cb80d04d7",
    "deepnote_cell_type": "text-cell-h3"
   }
  },
  {
   "cell_type": "code",
   "metadata": {
    "tags": [],
    "deepnote_to_be_reexecuted": false,
    "source_hash": "de3b0002",
    "execution_start": 1631533460464,
    "execution_millis": 1836896785,
    "cell_id": "00044-11a59c4f-26b5-4951-8d7c-039969e8cb85",
    "deepnote_cell_type": "code"
   },
   "source": "# Aufgabe #5: Zeige für alle 'customers' die 'invoices' geordnet nach absteigendem Datum.\n",
   "execution_count": null,
   "outputs": []
  },
  {
   "cell_type": "markdown",
   "source": "## Tabellen verbinden:  OUTER und CROSS JOINs",
   "metadata": {
    "tags": [],
    "is_collapsed": false,
    "cell_id": "00045-ad18fbe6-7723-4b7d-a07c-a17ae54b054b",
    "deepnote_cell_type": "text-cell-h2"
   }
  },
  {
   "cell_type": "markdown",
   "source": "Neben dem INNER JOIN unterscheidet man weitere Arten von joins. \n* **LEFT (OUTER) JOIN**: Enthält alle Datensätze der linken Tabelle und die korrespondierenden Datensätze der rechten Tabelle. Das Keyword OUTER wird im Normalfall weggelassen.\n  ![Left Join](./img/img_leftjoin.gif)\n* **RIGHT (OUTER) JOIN**: Enthält alle Datensätze der rechten Tabelle und die korrespondierenden Datensätze der linken Tabelle. RIGHT JOINS werden von sqlite nicht unterstützt können aber problemlos durch einen LEFT JOIN implementiert werden, indem die Tabellen getauscht werden.\n    ![Rigth Join](./img/img_rightjoin.gif)\n* **FULL (OUTER) JOIN**: Enthält alle Datensätze der linken und rechten Datensätze und verknüft diejenigen mit passenden JOIN-Bedingungen. FULL JOINS werden von sqlite nicht unterstützt können aber mit einer UNION emuliert werden: `a LEFT JOIN b UNION b LEFT JOIN a`. Dies wird hier nicht weiter ausgeführt, da FULL JOINS nur selten benutzt werden.\n  ![Full Join](./img/img_fulljoin.gif)\n* **CROSS JOIN** Bildet das Kreuzprodukt zweier Tabellen. Dabei wird jeder Datensatz von Tabelle a mit jedem Datensatz von Tabelle b verknüpft. Ursprünglich unterstütze SQL nur Cross Joins. Mit geeigneten WHERE-Clauses können alle anderen Joins emuliert werden. Seit SQL-92 ist der CROSS JOIN aber nur noch für Spezialfälle notwendig und wird deshalb hier nicht weiter betrachtet.\n\n\nQuelle: https://www.w3schools.com/sql/sql_join.asp\nJe nach DBMS werden weitere joins unterstützt.",
   "metadata": {
    "tags": [],
    "cell_id": "00046-f9305999-484a-45d0-9849-85bd4d6eb3e8",
    "deepnote_cell_type": "markdown"
   }
  },
  {
   "cell_type": "code",
   "metadata": {
    "tags": [],
    "deepnote_to_be_reexecuted": false,
    "source_hash": "c7cb0185",
    "execution_start": 1631533460465,
    "execution_millis": 4,
    "cell_id": "00047-3fcf213b-fc76-4b83-9b2e-f8070ca6c7b7",
    "deepnote_cell_type": "code"
   },
   "source": "# Betrachten wir nun also exemplarisch einen left join\n# Anmerkung. Hier haben ar und al die Plätze getauscht. Eigentlich handelt es sich also um \n# einen right join, der in einen left join umgewandelt wurde.\nstmt = \"\"\"SELECT\n   ar.Name, \n   al.Title\nFROM\n   artists ar\n   LEFT JOIN \n   albums al\nUSING (ArtistId)\nORDER BY Name;\"\"\"\ncur = execute_query(connection, stmt)\nrows = cur.fetchall()\nprint(rows)\n\n# Jetzt werden auch Künstler ohne zugehöriges Album aufgelistet. Z.B. \"A Cor Do Som\".",
   "execution_count": null,
   "outputs": [
    {
     "name": "stdout",
     "text": "[('A Cor Do Som', None), ('AC/DC', 'For Those About To Rock We Salute You'), ('AC/DC', 'Let There Be Rock'), ('Aaron Copland & London Symphony Orchestra', 'A Copland Celebration, Vol. I'), ('Aaron Goldberg', 'Worlds'), ('Academy of St. Martin in the Fields & Sir Neville Marriner', 'The World of Classical Favourites'), ('Academy of St. Martin in the Fields Chamber Ensemble & Sir Neville Marriner', 'Sir Neville Marriner: A Celebration'), ('Academy of St. Martin in the Fields, John Birch, Sir Neville Marriner & Sylvia McNair', 'Fauré: Requiem, Ravel: Pavane & Others'), ('Academy of St. Martin in the Fields, Sir Neville Marriner & Thurston Dart', 'Bach: Orchestral Suites Nos. 1 - 4'), ('Academy of St. Martin in the Fields, Sir Neville Marriner & William Bennett', None), ('Accept', 'Balls to the Wall'), ('Accept', 'Restless and Wild'), ('Adrian Leaper & Doreen de Feis', 'Górecki: Symphony No. 3'), ('Aerosmith', 'Big Ones'), (\"Aerosmith & Sierra Leone's Refugee Allstars\", None), ('Aisha Duo', 'Quiet Songs'), ('Alanis Morissette', 'Jagged Little Pill'), ('Alberto Turco & Nova Schola Gregoriana', 'Adorate Deum: Gregorian Chant from the Proper of the Mass'), ('Alice In Chains', 'Facelift'), ('Amy Winehouse', 'Back to Black'), ('Amy Winehouse', 'Frank'), ('Anne-Sophie Mutter, Herbert Von Karajan & Wiener Philharmoniker', 'Vivaldi: The Four Seasons'), ('Antal Doráti & London Symphony Orchestra', \"Tchaikovsky: 1812 Festival Overture, Op.49, Capriccio Italien & Beethoven: Wellington's Victory\"), ('Antônio Carlos Jobim', 'Warner 25 Anos'), ('Antônio Carlos Jobim', 'Chill: Brazil (Disc 2)'), ('Apocalyptica', 'Plays Metallica By Four Cellos'), ('Aquaman', 'Aquaman'), ('Audioslave', 'Audioslave'), ('Audioslave', 'Out Of Exile'), ('Audioslave', 'Revelations'), ('Avril Lavigne', None), ('Azymuth', None), ('Baby Consuelo', None), ('BackBeat', 'BackBeat Soundtrack'), ('Banda Black Rio', None), ('Barry Wordsworth & BBC Concert Orchestra', 'The Last Night of the Proms'), ('Barão Vermelho', None), ('Battlestar Galactica', 'Battlestar Galactica: The Story So Far'), ('Battlestar Galactica', 'Battlestar Galactica, Season 3'), ('Battlestar Galactica (Classic)', 'Battlestar Galactica (Classic), Season 1'), ('Bebel Gilberto', None), ('Ben Harper', None), ('Berliner Philharmoniker & Hans Rosbaud', 'Sibelius: Finlandia'), ('Berliner Philharmoniker & Herbert Von Karajan', 'Grieg: Peer Gynt Suites & Sibelius: Pelléas et Mélisande'), ('Berliner Philharmoniker & Herbert Von Karajan', 'Mozart: Symphonies Nos. 40 & 41'), ('Berliner Philharmoniker & Herbert Von Karajan', 'Prokofiev: Symphony No.5 & Stravinksy: Le Sacre Du Printemps'), ('Berliner Philharmoniker, Claudio Abbado & Sabine Meyer', 'Mozart: Wind Concertos'), ('Big & Rich', None), ('Billy Cobham', 'The Best Of Billy Cobham'), ('Black Eyed Peas', None), ('Black Label Society', 'Alcohol Fueled Brewtality Live! [Disc 1]'), ('Black Label Society', 'Alcohol Fueled Brewtality Live! [Disc 2]'), ('Black Sabbath', 'Black Sabbath'), ('Black Sabbath', 'Black Sabbath Vol. 4 (Remaster)'), ('Body Count', 'Body Count'), ('Boston Symphony Orchestra & Seiji Ozawa', 'Carmina Burana'), ('Britten Sinfonia, Ivor Bolton & Lesley Garrett', 'A Soprano Inspired'), ('Bruce Dickinson', 'Chemical Wedding'), ('Buddy Guy', 'The Best Of Buddy Guy - The Millenium Collection'), ('C. Monteverdi, Nigel Rogers - Chiaroscuro; London Baroque; London Cornett & Sackbu', \"Monteverdi: L'Orfeo\"), ('Caetano Veloso', 'Prenda Minha'), ('Caetano Veloso', 'Sozinho Remix Ao Vivo'), ('Cake', 'Cake: B-Sides and Rarities'), ('Calexico', 'Carried to Dust (Bonus Track Version)'), (\"Charles Dutoit & L'Orchestre Symphonique de Montréal\", 'The Ultimate Relexation Album'), ('Charlie Brown Jr.', None), ('Chicago Symphony Chorus, Chicago Symphony Orchestra & Sir Georg Solti', 'Great Opera Choruses'), ('Chicago Symphony Orchestra & Fritz Reiner', 'Scheherazade'), ('Chico Buarque', 'Minha Historia'), ('Chico Science & Nação Zumbi', 'Afrociberdelia'), ('Chico Science & Nação Zumbi', 'Da Lama Ao Caos'), ('Choir Of Westminster Abbey & Simon Preston', 'Palestrina: Missa Papae Marcelli & Allegri: Miserere'), ('Chor der Wiener Staatsoper, Herbert Von Karajan & Wiener Philharmoniker', 'Bizet: Carmen Highlights'), ('Chris Cornell', 'Carry On'), ('Christina Aguilera featuring BigElf', None), (\"Christopher O'Riley\", 'SCRIABIN: Vers la flamme'), ('Cidade Negra', 'Acústico MTV [Live]'), ('Cidade Negra', 'Cidade Negra - Hits'), ('Cláudio Zoli', 'Na Pista'), ('Corinne Bailey Rae', None), ('Creedence Clearwater Revival', 'Chronicle, Vol. 1'), ('Creedence Clearwater Revival', 'Chronicle, Vol. 2'), ('Cássia Eller', 'Cássia Eller - Coleção Sem Limite [Disc 2]'), ('Cássia Eller', 'Cássia Eller - Sem Limite [Disc 1]'), ('DJ Dolores & Orchestra Santa Massa', None), ('David Coverdale', 'Into The Light'), ('Deep Purple', 'MK III The Final Concerts [Disc 1]'), ('Deep Purple', 'The Final Concerts (Disc 2)'), ('Deep Purple', 'Come Taste The Band'), ('Deep Purple', 'Deep Purple In Rock'), ('Deep Purple', 'Fireball'), ('Deep Purple', \"Knocking at Your Back Door: The Best Of Deep Purple in the 80's\"), ('Deep Purple', 'Machine Head'), ('Deep Purple', 'Purpendicular'), ('Deep Purple', 'Slaves And Masters'), ('Deep Purple', 'Stormbringer'), ('Deep Purple', 'The Battle Rages On'), ('Def Leppard', \"Vault: Def Leppard's Greatest Hits\"), ('Dennis Chambers', 'Outbreak'), ('Dhani Harrison & Jakob Dylan', None), ('Djavan', 'Djavan Ao Vivo - Vol. 02'), ('Djavan', 'Djavan Ao Vivo - Vol. 1'), ('Dread Zeppelin', 'Un-Led-Ed'), ('Ed Motta', 'The Best of Ed Motta'), ('Edo de Waart & San Francisco Symphony', 'Adams, John: The Chairman Dances'), ('Edson, DJ Marky & DJ Patife Featuring Fernanda Porto', None), ('Elis Regina', 'Elis Regina-Minha História'), ('Emanuel Ax, Eugene Ormandy & Philadelphia Orchestra', 'Chopin: Piano Concertos Nos. 1 & 2'), ('Emerson String Quartet', \"Schubert: The Late String Quartets & String Quintet (3 CD's)\"), ('English Concert & Trevor Pinnock', 'Pachelbel: Canon & Gigue'), ('English Concert & Trevor Pinnock', 'Handel: Music for the Royal Fireworks (Original Version 1749)'), ('Equale Brass Ensemble, John Eliot Gardiner & Munich Monteverdi Orchestra and Choir', 'Purcell: Music for the Queen Mary'), ('Eric Clapton', 'The Cream Of Clapton'), ('Eric Clapton', 'Unplugged'), ('Eugene Ormandy', 'Holst: The Planets, Op. 32 & Vaughan Williams: Fantasies'), ('Eugene Ormandy', 'Strauss: Waltzes'), ('Eugene Ormandy', 'Respighi:Pines of Rome'), ('Faith No More', 'Album Of The Year'), ('Faith No More', 'Angel Dust'), ('Faith No More', 'King For A Day Fool For A Lifetime'), ('Faith No More', 'The Real Thing'), ('Falamansa', 'Deixa Entrar'), ('Felix Schmidt, London Symphony Orchestra & Rafael Frühbeck de Burgos', 'Elgar: Cello Concerto & Vaughan Williams: Fantasias'), ('Fernanda Porto', None), ('Foo Fighters', 'In Your Honor [Disc 1]'), ('Foo Fighters', 'In Your Honor [Disc 2]'), ('Foo Fighters', 'One By One'), ('Foo Fighters', 'The Colour And The Shape'), ('Frank Sinatra', 'My Way: The Best Of Frank Sinatra [Disc 1]'), ('Frank Zappa & Captain Beefheart', 'Bongo Fury'), ('Fretwork', 'Armada: Music from the Courts of England and Spain'), ('Funk Como Le Gusta', 'Roda De Funk'), ('Gene Krupa', \"Up An' Atom\"), ('Gerald Moore', 'Great Recordings of the Century - Shubert: Schwanengesang, 4 Lieder'), ('Gilberto Gil', 'As Canções de Eu Tu Eles'), ('Gilberto Gil', 'Quanta Gente Veio Ver (Live)'), ('Gilberto Gil', 'Quanta Gente Veio ver--Bônus De Carnaval'), ('Godsmack', 'Faceless'), ('Gonzaguinha', 'Meus Momentos'), ('Green Day', 'International Superhits'), ('Green Day', 'American Idiot'), (\"Guns N' Roses\", 'Appetite for Destruction'), (\"Guns N' Roses\", 'Use Your Illusion I'), (\"Guns N' Roses\", 'Use Your Illusion II'), ('Gustav Mahler', 'Great Recordings of the Century - Mahler: Das Lied von der Erde'), ('Gustavo & Andres Veiga & Salazar', None), ('Göteborgs Symfoniker & Neeme Järvi', 'Nielsen: The Six Symphonies'), ('Habib Koité and Bamada', 'Muso Ko'), ('Herbert Von Karajan, Mirella Freni & Wiener Philharmoniker', 'Puccini: Madama Butterfly - Highlights'), ('Hermeto Pascoal', None), ('Heroes', 'Heroes, Season 1'), ('Hilary Hahn, Jeffrey Kahane, Los Angeles Chamber Orchestra & Margaret Batjer', 'Bach: Violin Concertos'), ('House Of Pain', 'House of Pain'), ('Incognito', 'Blue Moods'), ('Instituto', None), ('Iron Maiden', 'A Matter of Life and Death'), ('Iron Maiden', 'A Real Dead One'), ('Iron Maiden', 'A Real Live One'), ('Iron Maiden', 'Brave New World'), ('Iron Maiden', 'Dance Of Death'), ('Iron Maiden', 'Fear Of The Dark'), ('Iron Maiden', 'Iron Maiden'), ('Iron Maiden', 'Killers'), ('Iron Maiden', 'Live After Death'), ('Iron Maiden', 'Live At Donington 1992 (Disc 1)'), ('Iron Maiden', 'Live At Donington 1992 (Disc 2)'), ('Iron Maiden', 'No Prayer For The Dying'), ('Iron Maiden', 'Piece Of Mind'), ('Iron Maiden', 'Powerslave'), ('Iron Maiden', 'Rock In Rio [CD1]'), ('Iron Maiden', 'Rock In Rio [CD2]'), ('Iron Maiden', 'Seventh Son of a Seventh Son'), ('Iron Maiden', 'Somewhere in Time'), ('Iron Maiden', 'The Number of The Beast'), ('Iron Maiden', 'The X Factor'), ('Iron Maiden', 'Virtual XI'), ('Itzhak Perlman', \"Great Recordings of the Century: Paganini's 24 Caprices\"), ('JET', 'Get Born'), ('Jack Johnson', None), (\"Jack's Mannequin & Mick Fleetwood\", None), ('Jackson Browne', None), ('Jaguares', None), ('James Brown', 'Sex Machine'), ('James Levine', 'Mascagni: Cavalleria Rusticana'), ('Jamiroquai', 'Emergency On Planet Earth'), ('Jamiroquai', 'Synkronized'), ('Jamiroquai', 'The Return Of The Space Cowboy'), ('Jimi Hendrix', 'Are You Experienced?'), ('Joe Satriani', 'Surfing with the Alien (Remastered)'), ('Jorge Ben', 'Jorge Ben Jor 25 Anos'), ('Jorge Vercilo', None), ('Jota Quest', 'Jota Quest-1995'), ('João Gilberto', None), ('João Suplicy', 'Cafezinho'), ('Judas Priest', 'Living After Midnight'), ('Julian Bream', 'J.S. Bach: Chaconne, Suite in E Minor, Partita in E Major & Prelude, Fugue and Allegro'), ('Karsh Kale', 'Realize'), (\"Kent Nagano and Orchestre de l'Opéra de Lyon\", 'Weill: The Seven Deadly Sins'), ('Kid Abelha', None), ('Kiss', 'Greatest Kiss'), ('Kiss', 'Unplugged [Live]'), ('Led Zeppelin', 'BBC Sessions [Disc 1] [Live]'), ('Led Zeppelin', 'Physical Graffiti [Disc 1]'), ('Led Zeppelin', 'BBC Sessions [Disc 2] [Live]'), ('Led Zeppelin', 'Coda'), ('Led Zeppelin', 'Houses Of The Holy'), ('Led Zeppelin', 'In Through The Out Door'), ('Led Zeppelin', 'IV'), ('Led Zeppelin', 'Led Zeppelin I'), ('Led Zeppelin', 'Led Zeppelin II'), ('Led Zeppelin', 'Led Zeppelin III'), ('Led Zeppelin', 'Physical Graffiti [Disc 2]'), ('Led Zeppelin', 'Presence'), ('Led Zeppelin', 'The Song Remains The Same (Disc 1)'), ('Led Zeppelin', 'The Song Remains The Same (Disc 2)'), ('Legião Urbana', 'A TempestadeTempestade Ou O Livro Dos Dias'), ('Legião Urbana', 'Mais Do Mesmo'), ('Lenny Kravitz', 'Greatest Hits'), ('Leonard Bernstein & New York Philharmonic', \"Great Performances - Barber's Adagio and Other Romantic Favorites for Strings\"), ('Les Arts Florissants & William Christie', 'Charpentier: Divertissements, Airs & Concerts'), ('London Symphony Orchestra & Sir Charles Mackerras', 'Tchaikovsky: The Nutcracker'), ('Los Hermanos', None), ('Los Lonely Boys', None), ('Lost', 'Lost, Season 3'), ('Lost', 'Lost, Season 1'), ('Lost', 'Lost, Season 2'), ('Lost', 'LOST, Season 4'), ('Luciana Souza/Romero Lubambo', 'Duos II'), ('Luciano Pavarotti', \"Pavarotti's Opera Made Easy\"), ('Luiz Melodia', None), ('Lulu Santos', 'Lulu Santos - RCA 100 Anos De Música - Álbum 01'), ('Lulu Santos', 'Lulu Santos - RCA 100 Anos De Música - Álbum 02'), ('Marcos Valle', 'Chill: Brazil (Disc 1)'), ('Marillion', 'Misplaced Childhood'), ('Marisa Monte', 'Barulhinho Bom'), ('Martin Roscoe', 'Szymanowski: Piano Works, Vol. 1'), ('Marvin Gaye', 'Seek And Shall Find: More Of The Best (1963-1981)'), ('Matisyahu', None), ('Maurizio Pollini', 'Beethoven Piano Sonatas: Moonlight & Pastorale'), ('Mela Tenenbaum, Pro Musica Prague & Richard Kapp', 'Locatelli: Concertos for Violin, Strings and Continuo, Vol. 3'), ('Men At Work', 'The Best Of Men At Work'), ('Metallica', 'Garage Inc. (Disc 1)'), ('Metallica', 'Black Album'), ('Metallica', 'Garage Inc. (Disc 2)'), ('Metallica', \"Kill 'Em All\"), ('Metallica', 'Load'), ('Metallica', 'Master Of Puppets'), ('Metallica', 'ReLoad'), ('Metallica', 'Ride The Lightning'), ('Metallica', 'St. Anger'), ('Metallica', '...And Justice For All'), ('Michael Tilson Thomas & San Francisco Symphony', 'Prokofiev: Romeo & Juliet'), ('Michael Tilson Thomas & San Francisco Symphony', 'Berlioz: Symphonie Fantastique'), ('Michele Campanella', \"Liszt - 12 Études D'Execution Transcendante\"), ('Miles Davis', 'The Essential Miles Davis [Disc 1]'), ('Miles Davis', 'The Essential Miles Davis [Disc 2]'), ('Miles Davis', 'Miles Ahead'), ('Milton Nascimento', 'Milton Nascimento Ao Vivo'), ('Milton Nascimento', 'Minas'), ('Milton Nascimento & Bebeto', None), ('Motörhead', 'Ace Of Spades'), ('Motörhead & Girlschool', None), ('Mundo Livre S/A', None), ('Mônica Marianno', 'Demorou...'), ('Mötley Crüe', 'Motley Crue Greatest Hits'), ('Nando Reis', None), ('Nash Ensemble', 'Mozart: Chamber Music'), ('Nação Zumbi', None), ('Nega Gizza', None), ('Ney Matogrosso', None), ('Nicolaus Esterhazy Sinfonia', 'The Best of Beethoven'), ('Nirvana', 'From The Muddy Banks Of The Wishkah [Live]'), ('Nirvana', 'Nevermind'), ('O Rappa', 'Radio Brasil (O Som da Jovem Vanguarda) - Seleccao de Henrique Amaro'), ('O Terço', 'Compositores'), ('Olodum', 'Olodum'), ('Orchestra of The Age of Enlightenment', 'Bach: The Brandenburg Concertos'), ('Orchestre Révolutionnaire et Romantique & John Eliot Gardiner', 'Beethoven: Symhonies Nos. 5 & 6'), ('Os Cariocas', None), ('Os Mutantes', 'Minha História'), ('Os Paralamas Do Sucesso', 'Acústico MTV'), ('Os Paralamas Do Sucesso', 'Arquivo II'), ('Os Paralamas Do Sucesso', 'Arquivo Os Paralamas Do Sucesso'), ('Otto', None), ('Otto Klemperer & Philharmonia Orchestra', \"Beethoven: Symphony No. 6 'Pastoral' Etc.\"), ('Ozzy Osbourne', 'Bark at the Moon (Remastered)'), ('Ozzy Osbourne', 'Blizzard of Ozz'), ('Ozzy Osbourne', 'Diary of a Madman (Remastered)'), ('Ozzy Osbourne', 'No More Tears (Remastered)'), ('Ozzy Osbourne', 'Tribute'), ('Ozzy Osbourne', 'Speak of the Devil'), ('Page & Plant', 'Walking Into Clarksdale'), ('Passengers', 'Original Soundtracks 1'), (\"Paul D'Ianno\", 'The Beast Live'), ('Pearl Jam', 'Live On Two Legs [Live]'), ('Pearl Jam', 'Pearl Jam'), ('Pearl Jam', 'Riot Act'), ('Pearl Jam', 'Ten'), ('Pearl Jam', 'Vs.'), ('Pedro Luís & A Parede', None), ('Pedro Luís E A Parede', None), ('Peter Tosh', None), ('Philharmonia Orchestra & Sir Neville Marriner', \"Mendelssohn: A Midsummer Night's Dream\"), ('Philip Glass Ensemble', 'Koyaanisqatsi (Soundtrack from the Motion Picture)'), ('Pink Floyd', 'Dark Side Of The Moon'), ('Planet Hemp', 'Os Cães Ladram Mas A Caravana Não Pára'), ('Queen', 'Greatest Hits II'), ('Queen', 'Greatest Hits I'), ('Queen', 'News Of The World'), ('R.E.M.', 'Green'), ('R.E.M.', 'New Adventures In Hi-Fi'), ('R.E.M.', 'The Best Of R.E.M.: The IRS Years'), ('R.E.M. Feat. KRS-One', None), ('R.E.M. Feat. Kate Pearson', 'Out Of Time'), ('Raimundos', 'Cesta Básica'), ('Raul Seixas', 'Raul Seixas'), ('Red Hot Chili Peppers', 'Blood Sugar Sex Magik'), ('Red Hot Chili Peppers', 'By The Way'), ('Red Hot Chili Peppers', 'Californication'), ('Regina Spektor', None), ('Richard Marlow & The Choir of Trinity College, Cambridge', 'Allegri: Miserere'), ('Rodox', None), ('Roger Norrington, London Classical Players', 'Purcell: The Fairy Queen'), ('Royal Philharmonic Orchestra & Sir Thomas Beecham', 'Haydn: Symphonies 99 - 104'), ('Rush', 'Retrospective I (1974-1980)'), ('Sabotage E Instituto', None), ('Sandra De Sá', None), ('Santana', 'Supernatural'), ('Santana', 'Santana - As Years Go By'), ('Santana', 'Santana Live'), ('Santana Feat. Dave Matthews', None), ('Santana Feat. Eagle-Eye Cherry', None), ('Santana Feat. Eric Clapton', None), ('Santana Feat. Everlast', None), ('Santana Feat. Lauryn Hill & Cee-Lo', None), ('Santana Feat. Maná', None), ('Santana Feat. Rob Thomas', None), ('Santana Feat. The Project G&B', None), ('Scholars Baroque Ensemble', 'Handel: The Messiah (Highlights)'), ('Scorpions', '20th Century Masters - The Millennium Collection: The Best of Scorpions'), ('Sergei Prokofiev & Yuri Temirkanov', 'Prokofiev: Symphony No.1'), ('Seu Jorge', None), ('Simply Red', None), ('Sir Georg Solti & Wiener Philharmoniker', 'Wagner: Favourite Overtures'), ('Sir Georg Solti, Sumi Jo & Wiener Philharmoniker', 'Mozart Gala: Famous Arias'), ('Skank', 'Maquinarama'), ('Skank', 'O Samba Poconé'), ('Smashing Pumpkins', 'Judas 0: B-Sides and Rarities'), ('Smashing Pumpkins', 'Rotten Apples: Greatest Hits'), ('Snow Patrol', None), ('Soundgarden', 'A-Sides'), ('Spyro Gyra', 'Heart of the Night'), ('Spyro Gyra', 'Morning Dance'), ('Stereo Maracana', None), ('Stevie Ray Vaughan & Double Trouble', 'In Step'), ('Stone Temple Pilots', 'Core'), ('System Of A Down', 'Mezmerize'), ('Temple of the Dog', 'Temple of the Dog'), ('Terry Bozzio, Tony Levin & Steve Stevens', '[1997] Black Light Syndrome'), ('The 12 Cellists of The Berlin Philharmonic', 'South American Getaway'), ('The Black Crowes', 'Live [Disc 1]'), ('The Black Crowes', 'Live [Disc 2]'), ('The Clash', 'The Singles'), ('The Cult', 'Beyond Good And Evil'), ('The Cult', 'Pure Cult: The Best Of The Cult (For Rockers, Ravers, Lovers & Sinners) [UK]'), ('The Doors', 'The Doors'), ('The Flaming Lips', None), (\"The King's Singers\", 'English Renaissance'), ('The Office', 'The Office, Season 1'), ('The Office', 'The Office, Season 2'), ('The Office', 'The Office, Season 3'), ('The Police', 'The Police Greatest Hits'), ('The Posies', 'Every Kind of Light'), ('The Postal Service', None), ('The Rolling Stones', 'Hot Rocks, 1964-1971 (Disc 1)'), ('The Rolling Stones', 'No Security'), ('The Rolling Stones', 'Voodoo Lounge'), ('The Tea Party', 'Tangents'), ('The Tea Party', 'Transmission'), ('The Who', 'My Generation - The Very Best Of The Who'), ('Tim Maia', 'Serie Sem Limite (Disc 1)'), ('Tim Maia', 'Serie Sem Limite (Disc 2)'), ('Titãs', 'Acústico'), ('Titãs', 'Volume Dois'), ('Ton Koopman', 'Bach: Toccata & Fugue in D Minor'), ('Toquinho & Vinícius', 'Vinícius De Moraes - Sem Limite'), ('U2', 'Achtung Baby'), ('U2', \"All That You Can't Leave Behind\"), ('U2', 'B-Sides 1980-1990'), ('U2', 'How To Dismantle An Atomic Bomb'), ('U2', 'Pop'), ('U2', 'Rattle And Hum'), ('U2', 'The Best Of 1980-1990'), ('U2', 'War'), ('U2', 'Zooropa'), ('U2', 'Instant Karma: The Amnesty International Campaign to Save Darfur'), ('UB40', 'UB40 The Best Of - Volume Two [UK]'), ('Van Halen', 'Diver Down'), ('Van Halen', 'The Best Of Van Halen, Vol. I'), ('Van Halen', 'Van Halen'), ('Van Halen', 'Van Halen III'), ('Various Artists', 'Axé Bahia 2001'), ('Various Artists', 'Carnaval 2001'), ('Various Artists', 'Sambas De Enredo 2001'), ('Various Artists', 'Vozes do MPB'), ('Velvet Revolver', 'Contraband'), ('Vinicius, Toquinho & Quarteto Em Cy', None), ('Vinícius De Moraes', 'Vinicius De Moraes'), ('Vinícius E Odette Lara', None), ('Vinícius E Qurteto Em Cy', None), ('Whitesnake', None), ('Wilhelm Kempff', 'Bach: Goldberg Variations'), ('Xis', None), ('Yehudi Menuhin', 'Bartok: Violin & Viola Concertos'), ('Yo-Yo Ma', 'Bach: The Cello Suites'), (\"Youssou N'Dour\", None), ('Zeca Pagodinho', 'Ao Vivo [IMPORT]')]\n",
     "output_type": "stream"
    }
   ]
  },
  {
   "cell_type": "markdown",
   "source": "### Aufgabe #6",
   "metadata": {
    "tags": [],
    "is_collapsed": false,
    "cell_id": "00048-a655c2f4-a88f-49a0-be64-a26fb849bc25",
    "deepnote_cell_type": "text-cell-h3"
   }
  },
  {
   "cell_type": "code",
   "metadata": {
    "tags": [],
    "deepnote_to_be_reexecuted": false,
    "source_hash": "775324cf",
    "execution_start": 1631533460480,
    "execution_millis": 1836896803,
    "cell_id": "00049-7f7e9c30-6a5c-4a56-b950-71bd23ecef4a",
    "deepnote_cell_type": "code"
   },
   "source": "# Aufgabe #6: Finde alle Künstler, die kein Album zugeweisen haben. Tipp: WHERE-Clause verwenden.\n",
   "execution_count": null,
   "outputs": []
  },
  {
   "cell_type": "markdown",
   "source": "## Daten gruppieren: GROUP BY",
   "metadata": {
    "tags": [],
    "is_collapsed": false,
    "cell_id": "00050-88e90307-3832-4d14-a0ea-adf8f8592935",
    "deepnote_cell_type": "text-cell-h2"
   }
  },
  {
   "cell_type": "markdown",
   "source": "Mit `SELECT column_list FROM table GROUP BY column_list` können mehrere Datensätze zu einem einzigen Datensatz zuammengefasst bzw. gruppiert werden. Typischerweise werden dabei oft Aggregationsfunktionen wie AVG, SUM, etc auf einzelne Kolonnen angewendet.\n\nIm Folgenden benutzen wir die Tabelle `tracks` aus der Beispieldatenbank.\n\n![Tracks und Albums](./img/tracks_albums.png)",
   "metadata": {
    "tags": [],
    "cell_id": "00015-0ba35177-73e8-48e6-8f1e-3d1e01436f2b",
    "deepnote_cell_type": "markdown"
   }
  },
  {
   "cell_type": "code",
   "metadata": {
    "tags": [],
    "cell_id": "00051-feab791e-eb21-4f87-98e8-f9352b56481f",
    "deepnote_to_be_reexecuted": false,
    "source_hash": "94b97041",
    "execution_start": 1631533460538,
    "execution_millis": 1,
    "deepnote_cell_type": "code"
   },
   "source": "# Als erstes zählen wir die Tracks pro Album\nstmt = \"\"\"SELECT\n\talbumid,\n\tCOUNT(trackid)\nFROM\n\ttracks\nGROUP BY\n\talbumid;\"\"\"\ncur = execute_query(connection, stmt)\nrows = cur.fetchall()\nprint(rows)",
   "execution_count": null,
   "outputs": [
    {
     "name": "stdout",
     "text": "[(1, 10), (2, 1), (3, 3), (4, 8), (5, 15), (6, 13), (7, 12), (8, 14), (9, 8), (10, 14), (11, 12), (12, 12), (13, 8), (14, 13), (15, 5), (16, 7), (17, 10), (18, 17), (19, 11), (20, 11), (21, 18), (22, 3), (23, 34), (24, 23), (25, 13), (26, 17), (27, 14), (28, 10), (29, 14), (30, 14), (31, 9), (32, 14), (33, 17), (34, 17), (35, 11), (36, 17), (37, 20), (38, 12), (39, 21), (40, 12), (41, 14), (42, 14), (43, 7), (44, 6), (45, 14), (46, 13), (47, 14), (48, 13), (49, 10), (50, 4), (51, 22), (52, 15), (53, 14), (54, 20), (55, 20), (56, 15), (57, 15), (58, 9), (59, 7), (60, 7), (61, 11), (62, 7), (63, 12), (64, 9), (65, 9), (66, 10), (67, 16), (68, 9), (69, 13), (70, 13), (71, 14), (72, 18), (73, 30), (74, 12), (75, 14), (76, 15), (77, 11), (78, 14), (79, 10), (80, 10), (81, 11), (82, 13), (83, 24), (84, 16), (85, 14), (86, 15), (87, 3), (88, 12), (89, 13), (90, 12), (91, 16), (92, 14), (93, 13), (94, 11), (95, 12), (96, 11), (97, 10), (98, 11), (99, 12), (100, 9), (101, 10), (102, 18), (103, 10), (104, 10), (105, 10), (106, 9), (107, 8), (108, 10), (109, 9), (110, 8), (111, 8), (112, 8), (113, 11), (114, 8), (115, 20), (116, 10), (117, 11), (118, 11), (119, 13), (120, 17), (121, 10), (122, 14), (123, 12), (124, 14), (125, 16), (126, 15), (127, 10), (128, 8), (129, 8), (130, 7), (131, 8), (132, 9), (133, 9), (134, 10), (135, 9), (136, 7), (137, 5), (138, 4), (139, 15), (140, 16), (141, 57), (142, 14), (143, 14), (144, 10), (145, 18), (146, 18), (147, 10), (148, 12), (149, 16), (150, 10), (151, 14), (152, 8), (153, 13), (154, 8), (155, 11), (156, 9), (157, 14), (158, 13), (159, 13), (160, 15), (161, 12), (162, 17), (163, 17), (164, 12), (165, 15), (166, 14), (167, 21), (168, 12), (169, 16), (170, 1), (171, 2), (172, 1), (173, 2), (174, 14), (175, 12), (176, 14), (177, 10), (178, 16), (179, 13), (180, 15), (181, 11), (182, 12), (183, 9), (184, 16), (185, 17), (186, 11), (187, 11), (188, 11), (189, 14), (190, 16), (191, 10), (192, 14), (193, 17), (194, 16), (195, 15), (196, 14), (197, 8), (198, 6), (199, 12), (200, 11), (201, 16), (202, 18), (203, 17), (204, 9), (205, 10), (206, 12), (207, 11), (208, 7), (209, 10), (210, 9), (211, 18), (212, 12), (213, 18), (214, 11), (215, 14), (216, 12), (217, 14), (218, 15), (219, 15), (220, 11), (221, 20), (222, 15), (223, 15), (224, 22), (225, 16), (226, 1), (227, 19), (228, 23), (229, 26), (230, 25), (231, 24), (232, 12), (233, 11), (234, 15), (235, 11), (236, 12), (237, 17), (238, 14), (239, 10), (240, 10), (241, 14), (242, 12), (243, 17), (244, 11), (245, 12), (246, 13), (247, 15), (248, 19), (249, 6), (250, 22), (251, 25), (252, 1), (253, 24), (254, 1), (255, 23), (256, 12), (257, 12), (258, 19), (259, 17), (260, 1), (261, 17), (262, 2), (263, 2), (264, 2), (265, 2), (266, 1), (267, 1), (268, 1), (269, 10), (270, 14), (271, 14), (272, 1), (273, 1), (274, 1), (275, 1), (276, 1), (277, 1), (278, 1), (279, 1), (280, 2), (281, 1), (282, 1), (283, 1), (284, 1), (285, 1), (286, 1), (287, 1), (288, 1), (289, 1), (290, 1), (291, 1), (292, 1), (293, 1), (294, 1), (295, 1), (296, 1), (297, 1), (298, 1), (299, 1), (300, 1), (301, 1), (302, 1), (303, 1), (304, 1), (305, 1), (306, 1), (307, 1), (308, 1), (309, 1), (310, 1), (311, 1), (312, 1), (313, 1), (314, 2), (315, 1), (316, 1), (317, 1), (318, 1), (319, 1), (320, 1), (321, 12), (322, 11), (323, 1), (324, 1), (325, 1), (326, 1), (327, 1), (328, 1), (329, 1), (330, 1), (331, 1), (332, 1), (333, 1), (334, 1), (335, 1), (336, 1), (337, 1), (338, 1), (339, 1), (340, 1), (341, 1), (342, 1), (343, 1), (344, 1), (345, 1), (346, 1), (347, 1)]\n",
     "output_type": "stream"
    }
   ]
  },
  {
   "cell_type": "code",
   "metadata": {
    "tags": [],
    "cell_id": "00017-b28ac531-8b18-4c71-84db-d3cdfe51b526",
    "deepnote_to_be_reexecuted": false,
    "source_hash": "32566dc",
    "execution_start": 1631533460539,
    "execution_millis": 17,
    "deepnote_cell_type": "code"
   },
   "source": "# Wir können die Alben auch nach Anzahl tracks sortieren (ORDER BY)\nstmt = \"\"\"SELECT\n\talbumid,\n\tCOUNT(trackid)\nFROM\n\ttracks\nGROUP BY\n\talbumid\nORDER BY COUNT(trackid) DESC;\"\"\"\ncur = execute_query(connection, stmt)\nrows = cur.fetchall()\nprint(rows)",
   "execution_count": null,
   "outputs": [
    {
     "name": "stdout",
     "text": "[(141, 57), (23, 34), (73, 30), (229, 26), (230, 25), (251, 25), (83, 24), (231, 24), (253, 24), (24, 23), (228, 23), (255, 23), (51, 22), (224, 22), (250, 22), (39, 21), (167, 21), (37, 20), (54, 20), (55, 20), (115, 20), (221, 20), (227, 19), (248, 19), (258, 19), (21, 18), (72, 18), (102, 18), (145, 18), (146, 18), (202, 18), (211, 18), (213, 18), (18, 17), (26, 17), (33, 17), (34, 17), (36, 17), (120, 17), (162, 17), (163, 17), (185, 17), (193, 17), (203, 17), (237, 17), (243, 17), (259, 17), (261, 17), (67, 16), (84, 16), (91, 16), (125, 16), (140, 16), (149, 16), (169, 16), (178, 16), (184, 16), (190, 16), (194, 16), (201, 16), (225, 16), (5, 15), (52, 15), (56, 15), (57, 15), (76, 15), (86, 15), (126, 15), (139, 15), (160, 15), (165, 15), (180, 15), (195, 15), (218, 15), (219, 15), (222, 15), (223, 15), (234, 15), (247, 15), (8, 14), (10, 14), (27, 14), (29, 14), (30, 14), (32, 14), (41, 14), (42, 14), (45, 14), (47, 14), (53, 14), (71, 14), (75, 14), (78, 14), (85, 14), (92, 14), (122, 14), (124, 14), (142, 14), (143, 14), (151, 14), (157, 14), (166, 14), (174, 14), (176, 14), (189, 14), (192, 14), (196, 14), (215, 14), (217, 14), (238, 14), (241, 14), (270, 14), (271, 14), (6, 13), (14, 13), (25, 13), (46, 13), (48, 13), (69, 13), (70, 13), (82, 13), (89, 13), (93, 13), (119, 13), (153, 13), (158, 13), (159, 13), (179, 13), (246, 13), (7, 12), (11, 12), (12, 12), (38, 12), (40, 12), (63, 12), (74, 12), (88, 12), (90, 12), (95, 12), (99, 12), (123, 12), (148, 12), (161, 12), (164, 12), (168, 12), (175, 12), (182, 12), (199, 12), (206, 12), (212, 12), (216, 12), (232, 12), (236, 12), (242, 12), (245, 12), (256, 12), (257, 12), (321, 12), (19, 11), (20, 11), (35, 11), (61, 11), (77, 11), (81, 11), (94, 11), (96, 11), (98, 11), (113, 11), (117, 11), (118, 11), (155, 11), (181, 11), (186, 11), (187, 11), (188, 11), (200, 11), (207, 11), (214, 11), (220, 11), (233, 11), (235, 11), (244, 11), (322, 11), (1, 10), (17, 10), (28, 10), (49, 10), (66, 10), (79, 10), (80, 10), (97, 10), (101, 10), (103, 10), (104, 10), (105, 10), (108, 10), (116, 10), (121, 10), (127, 10), (134, 10), (144, 10), (147, 10), (150, 10), (177, 10), (191, 10), (205, 10), (209, 10), (239, 10), (240, 10), (269, 10), (31, 9), (58, 9), (64, 9), (65, 9), (68, 9), (100, 9), (106, 9), (109, 9), (132, 9), (133, 9), (135, 9), (156, 9), (183, 9), (204, 9), (210, 9), (4, 8), (9, 8), (13, 8), (107, 8), (110, 8), (111, 8), (112, 8), (114, 8), (128, 8), (129, 8), (131, 8), (152, 8), (154, 8), (197, 8), (16, 7), (43, 7), (59, 7), (60, 7), (62, 7), (130, 7), (136, 7), (208, 7), (44, 6), (198, 6), (249, 6), (15, 5), (137, 5), (50, 4), (138, 4), (3, 3), (22, 3), (87, 3), (171, 2), (173, 2), (262, 2), (263, 2), (264, 2), (265, 2), (280, 2), (314, 2), (2, 1), (170, 1), (172, 1), (226, 1), (252, 1), (254, 1), (260, 1), (266, 1), (267, 1), (268, 1), (272, 1), (273, 1), (274, 1), (275, 1), (276, 1), (277, 1), (278, 1), (279, 1), (281, 1), (282, 1), (283, 1), (284, 1), (285, 1), (286, 1), (287, 1), (288, 1), (289, 1), (290, 1), (291, 1), (292, 1), (293, 1), (294, 1), (295, 1), (296, 1), (297, 1), (298, 1), (299, 1), (300, 1), (301, 1), (302, 1), (303, 1), (304, 1), (305, 1), (306, 1), (307, 1), (308, 1), (309, 1), (310, 1), (311, 1), (312, 1), (313, 1), (315, 1), (316, 1), (317, 1), (318, 1), (319, 1), (320, 1), (323, 1), (324, 1), (325, 1), (326, 1), (327, 1), (328, 1), (329, 1), (330, 1), (331, 1), (332, 1), (333, 1), (334, 1), (335, 1), (336, 1), (337, 1), (338, 1), (339, 1), (340, 1), (341, 1), (342, 1), (343, 1), (344, 1), (345, 1), (346, 1), (347, 1)]\n",
     "output_type": "stream"
    }
   ]
  },
  {
   "cell_type": "code",
   "metadata": {
    "tags": [],
    "cell_id": "00018-ff27dd88-3b10-4a09-a2a2-e2fa48b361c9",
    "deepnote_to_be_reexecuted": false,
    "source_hash": "bd929466",
    "execution_start": 1631533460557,
    "execution_millis": 22,
    "deepnote_cell_type": "code"
   },
   "source": "# Dabei können auch Daten von mehreren Tabellen zuerst verbunden (JOIN) und dann gruppiert werden. So erhalten wir den Album-Titel im Resultat.\nstmt = \"\"\"SELECT\n\tt.albumid,\n\ta.title,\n\tCOUNT(t.trackid)\nFROM\n\ttracks t\nINNER JOIN albums a USING(albumid)\nGROUP BY\n\tt.albumid\nORDER BY COUNT(t.trackid) DESC;\"\"\"\ncur = execute_query(connection, stmt)\nrows = cur.fetchall()\nprint(rows)",
   "execution_count": null,
   "outputs": [
    {
     "name": "stdout",
     "text": "[(141, 'Greatest Hits', 57), (23, 'Minha Historia', 34), (73, 'Unplugged', 30), (229, 'Lost, Season 3', 26), (230, 'Lost, Season 1', 25), (251, 'The Office, Season 3', 25), (83, 'My Way: The Best Of Frank Sinatra [Disc 1]', 24), (231, 'Lost, Season 2', 24), (253, 'Battlestar Galactica (Classic), Season 1', 24), (24, 'Afrociberdelia', 23), (228, 'Heroes, Season 1', 23), (255, 'Instant Karma: The Amnesty International Campaign to Save Darfur', 23), (51, \"Up An' Atom\", 22), (224, 'Acústico', 22), (250, 'The Office, Season 2', 22), (39, 'International Superhits', 21), (167, 'Acústico MTV', 21), (37, 'Greatest Kiss', 20), (54, 'Chronicle, Vol. 1', 20), (55, 'Chronicle, Vol. 2', 20), (115, 'Sex Machine', 20), (221, 'My Generation - The Very Best Of The Who', 20), (227, 'Battlestar Galactica, Season 3', 19), (248, 'Ao Vivo [IMPORT]', 19), (258, 'House of Pain', 19), (21, 'Prenda Minha', 18), (72, 'The Cream Of Clapton', 18), (102, 'Live After Death', 18), (145, 'Barulhinho Bom', 18), (146, 'Seek And Shall Find: More Of The Best (1963-1981)', 18), (202, 'Rotten Apples: Greatest Hits', 18), (211, 'The Singles', 18), (213, 'Pure Cult: The Best Of The Cult (For Rockers, Ravers, Lovers & Sinners) [UK]', 18), (18, 'Body Count', 17), (26, 'Acústico MTV [Live]', 17), (33, 'Chill: Brazil (Disc 1)', 17), (34, 'Chill: Brazil (Disc 2)', 17), (36, 'Greatest Hits II', 17), (120, 'Are You Experienced?', 17), (162, 'Motley Crue Greatest Hits', 17), (163, 'From The Muddy Banks Of The Wishkah [Live]', 17), (185, 'Greatest Hits I', 17), (193, 'Blood Sugar Sex Magik', 17), (203, 'A-Sides', 17), (237, 'Rattle And Hum', 17), (243, 'The Best Of Van Halen, Vol. I', 17), (259, 'Radio Brasil (O Som da Jovem Vanguarda) - Seleccao de Henrique Amaro', 17), (261, 'LOST, Season 4', 17), (67, \"Vault: Def Leppard's Greatest Hits\", 16), (84, 'Roda De Funk', 16), (91, 'Use Your Illusion I', 16), (125, 'Living After Midnight', 16), (140, 'Mais Do Mesmo', 16), (149, 'Garage Inc. (Disc 2)', 16), (169, 'Arquivo Os Paralamas Do Sucesso', 16), (178, 'Live On Two Legs [Live]', 16), (184, 'Os Cães Ladram Mas A Caravana Não Pára', 16), (190, 'The Best Of R.E.M.: The IRS Years', 16), (194, 'By The Way', 16), (201, 'Judas 0: B-Sides and Rarities', 16), (225, 'Volume Dois', 16), (5, 'Big Ones', 15), (52, 'Vinícius De Moraes - Sem Limite', 15), (56, 'Cássia Eller - Coleção Sem Limite [Disc 2]', 15), (57, 'Cássia Eller - Sem Limite [Disc 1]', 15), (76, 'King For A Day Fool For A Lifetime', 15), (86, 'Quanta Gente Veio Ver (Live)', 15), (126, 'Unplugged [Live]', 15), (139, 'A TempestadeTempestade Ou O Livro Dos Dias', 15), (160, 'Ace Of Spades', 15), (165, 'Compositores', 15), (180, 'Riot Act', 15), (195, 'Californication', 15), (218, 'Voodoo Lounge', 15), (219, 'Tangents', 15), (222, 'Serie Sem Limite (Disc 1)', 15), (223, 'Serie Sem Limite (Disc 2)', 15), (234, 'B-Sides 1980-1990', 15), (247, 'Vinicius De Moraes', 15), (8, 'Warner 25 Anos', 14), (10, 'Audioslave', 14), (27, 'Cidade Negra - Hits', 14), (29, 'Axé Bahia 2001', 14), (30, 'BBC Sessions [Disc 1] [Live]', 14), (32, 'Carnaval 2001', 14), (41, 'Meus Momentos', 14), (42, 'Minha História', 14), (45, 'Sambas De Enredo 2001', 14), (47, 'The Best of Ed Motta', 14), (53, 'Vozes do MPB', 14), (71, 'Elis Regina-Minha História', 14), (75, 'Angel Dust', 14), (78, 'Deixa Entrar', 14), (85, 'As Canções de Eu Tu Eles', 14), (92, 'Use Your Illusion II', 14), (122, 'Jorge Ben Jor 25 Anos', 14), (124, 'Cafezinho', 14), (142, 'Lulu Santos - RCA 100 Anos De Música - Álbum 01', 14), (143, 'Lulu Santos - RCA 100 Anos De Música - Álbum 02', 14), (151, 'Load', 14), (157, 'Miles Ahead', 14), (166, 'Olodum', 14), (174, 'Tribute', 14), (176, 'Original Soundtracks 1', 14), (189, 'New Adventures In Hi-Fi', 14), (192, 'Raul Seixas', 14), (196, 'Retrospective I (1974-1980)', 14), (215, 'The Police Greatest Hits', 14), (217, 'No Security', 14), (238, 'The Best Of 1980-1990', 14), (241, 'UB40 The Best Of - Volume Two [UK]', 14), (270, 'Carry On', 14), (271, 'Revelations', 14), (6, 'Jagged Little Pill', 13), (14, 'Alcohol Fueled Brewtality Live! [Disc 1]', 13), (25, 'Da Lama Ao Caos', 13), (46, 'Supernatural', 13), (48, 'The Essential Miles Davis [Disc 1]', 13), (69, 'Djavan Ao Vivo - Vol. 02', 13), (70, 'Djavan Ao Vivo - Vol. 1', 13), (82, 'The Colour And The Shape', 13), (89, 'American Idiot', 13), (93, 'Blue Moods', 13), (119, 'Get Born', 13), (153, 'ReLoad', 13), (158, 'Milton Nascimento Ao Vivo', 13), (159, 'Minas', 13), (179, 'Pearl Jam', 13), (246, 'Contraband', 13), (7, 'Facelift', 12), (11, 'Out Of Exile', 12), (12, 'BackBeat Soundtrack', 12), (38, 'Heart of the Night', 12), (40, 'Into The Light', 12), (63, 'Purpendicular', 12), (74, 'Album Of The Year', 12), (88, 'Faceless', 12), (90, 'Appetite for Destruction', 12), (95, 'A Real Dead One', 12), (99, 'Fear Of The Dark', 12), (123, 'Jota Quest-1995', 12), (148, 'Black Album', 12), (161, 'Demorou...', 12), (164, 'Nevermind', 12), (168, 'Arquivo II', 12), (175, 'Walking Into Clarksdale', 12), (182, 'Vs.', 12), (199, 'Maquinarama', 12), (206, 'Core', 12), (212, 'Beyond Good And Evil', 12), (216, 'Hot Rocks, 1964-1971 (Disc 1)', 12), (232, 'Achtung Baby', 12), (236, 'Pop', 12), (242, 'Diver Down', 12), (245, 'Van Halen III', 12), (256, 'Speak of the Devil', 12), (257, '20th Century Masters - The Millennium Collection: The Best of Scorpions', 12), (321, 'Back to Black', 12), (19, 'Chemical Wedding', 11), (20, 'The Best Of Buddy Guy - The Millenium Collection', 11), (35, 'Garage Inc. (Disc 1)', 11), (61, \"Knocking at Your Back Door: The Best Of Deep Purple in the 80's\", 11), (77, 'The Real Thing', 11), (81, 'One By One', 11), (94, 'A Matter of Life and Death', 11), (96, 'A Real Live One', 11), (98, 'Dance Of Death', 11), (113, 'The X Factor', 11), (117, 'Synkronized', 11), (118, 'The Return Of The Space Cowboy', 11), (155, 'St. Anger', 11), (181, 'Ten', 11), (186, 'News Of The World', 11), (187, 'Out Of Time', 11), (188, 'Green', 11), (200, 'O Samba Poconé', 11), (207, 'Mezmerize', 11), (214, 'The Doors', 11), (220, 'Transmission', 11), (233, \"All That You Can't Leave Behind\", 11), (235, 'How To Dismantle An Atomic Bomb', 11), (244, 'Van Halen', 11), (322, 'Frank', 11), (1, 'For Those About To Rock We Salute You', 10), (17, 'Black Sabbath Vol. 4 (Remaster)', 10), (28, 'Na Pista', 10), (49, 'The Essential Miles Davis [Disc 2]', 10), (66, 'The Battle Rages On', 10), (79, 'In Your Honor [Disc 1]', 10), (80, 'In Your Honor [Disc 2]', 10), (97, 'Brave New World', 10), (101, 'Killers', 10), (103, 'Live At Donington 1992 (Disc 1)', 10), (104, 'Live At Donington 1992 (Disc 2)', 10), (105, 'No Prayer For The Dying', 10), (108, 'Rock In Rio [CD1]', 10), (116, 'Emergency On Planet Earth', 10), (121, 'Surfing with the Alien (Remastered)', 10), (127, 'BBC Sessions [Disc 2] [Live]', 10), (134, 'Led Zeppelin III', 10), (144, 'Misplaced Childhood', 10), (147, 'The Best Of Men At Work', 10), (150, \"Kill 'Em All\", 10), (177, 'The Beast Live', 10), (191, 'Cesta Básica', 10), (205, 'In Step', 10), (209, 'Live [Disc 1]', 10), (239, 'War', 10), (240, 'Zooropa', 10), (269, 'Temple of the Dog', 10), (31, 'Bongo Fury', 9), (58, 'Come Taste The Band', 9), (64, 'Slaves And Masters', 9), (65, 'Stormbringer', 9), (68, 'Outbreak', 9), (100, 'Iron Maiden', 9), (106, 'Piece Of Mind', 9), (109, 'Rock In Rio [CD2]', 9), (132, 'Led Zeppelin I', 9), (133, 'Led Zeppelin II', 9), (135, 'Physical Graffiti [Disc 2]', 9), (156, '...And Justice For All', 9), (183, 'Dark Side Of The Moon', 9), (204, 'Morning Dance', 9), (210, 'Live [Disc 2]', 9), (4, 'Let There Be Rock', 8), (9, 'Plays Metallica By Four Cellos', 8), (13, 'The Best Of Billy Cobham', 8), (107, 'Powerslave', 8), (110, 'Seventh Son of a Seventh Son', 8), (111, 'Somewhere in Time', 8), (112, 'The Number of The Beast', 8), (114, 'Virtual XI', 8), (128, 'Coda', 8), (129, 'Houses Of The Holy', 8), (131, 'IV', 8), (152, 'Master Of Puppets', 8), (154, 'Ride The Lightning', 8), (197, 'Santana - As Years Go By', 8), (16, 'Black Sabbath', 7), (43, 'MK III The Final Concerts [Disc 1]', 7), (59, 'Deep Purple In Rock', 7), (60, 'Fireball', 7), (62, 'Machine Head', 7), (130, 'In Through The Out Door', 7), (136, 'Presence', 7), (208, '[1997] Black Light Syndrome', 7), (44, 'Physical Graffiti [Disc 1]', 6), (198, 'Santana Live', 6), (249, 'The Office, Season 1', 6), (15, 'Alcohol Fueled Brewtality Live! [Disc 2]', 5), (137, 'The Song Remains The Same (Disc 1)', 5), (50, 'The Final Concerts (Disc 2)', 4), (138, 'The Song Remains The Same (Disc 2)', 4), (3, 'Restless and Wild', 3), (22, 'Sozinho Remix Ao Vivo', 3), (87, 'Quanta Gente Veio ver--Bônus De Carnaval', 3), (171, 'Blizzard of Ozz', 2), (173, 'No More Tears (Remastered)', 2), (262, 'Quiet Songs', 2), (263, 'Muso Ko', 2), (264, 'Realize', 2), (265, 'Every Kind of Light', 2), (280, 'The World of Classical Favourites', 2), (314, 'English Renaissance', 2), (2, 'Balls to the Wall', 1), (170, 'Bark at the Moon (Remastered)', 1), (172, 'Diary of a Madman (Remastered)', 1), (226, 'Battlestar Galactica: The Story So Far', 1), (252, 'Un-Led-Ed', 1), (254, 'Aquaman', 1), (260, 'Cake: B-Sides and Rarities', 1), (266, 'Duos II', 1), (267, 'Worlds', 1), (268, 'The Best of Beethoven', 1), (272, 'Adorate Deum: Gregorian Chant from the Proper of the Mass', 1), (273, 'Allegri: Miserere', 1), (274, 'Pachelbel: Canon & Gigue', 1), (275, 'Vivaldi: The Four Seasons', 1), (276, 'Bach: Violin Concertos', 1), (277, 'Bach: Goldberg Variations', 1), (278, 'Bach: The Cello Suites', 1), (279, 'Handel: The Messiah (Highlights)', 1), (281, 'Sir Neville Marriner: A Celebration', 1), (282, 'Mozart: Wind Concertos', 1), (283, 'Haydn: Symphonies 99 - 104', 1), (284, 'Beethoven: Symhonies Nos. 5 & 6', 1), (285, 'A Soprano Inspired', 1), (286, 'Great Opera Choruses', 1), (287, 'Wagner: Favourite Overtures', 1), (288, 'Fauré: Requiem, Ravel: Pavane & Others', 1), (289, 'Tchaikovsky: The Nutcracker', 1), (290, 'The Last Night of the Proms', 1), (291, 'Puccini: Madama Butterfly - Highlights', 1), (292, 'Holst: The Planets, Op. 32 & Vaughan Williams: Fantasies', 1), (293, \"Pavarotti's Opera Made Easy\", 1), (294, \"Great Performances - Barber's Adagio and Other Romantic Favorites for Strings\", 1), (295, 'Carmina Burana', 1), (296, 'A Copland Celebration, Vol. I', 1), (297, 'Bach: Toccata & Fugue in D Minor', 1), (298, 'Prokofiev: Symphony No.1', 1), (299, 'Scheherazade', 1), (300, 'Bach: The Brandenburg Concertos', 1), (301, 'Chopin: Piano Concertos Nos. 1 & 2', 1), (302, 'Mascagni: Cavalleria Rusticana', 1), (303, 'Sibelius: Finlandia', 1), (304, 'Beethoven Piano Sonatas: Moonlight & Pastorale', 1), (305, 'Great Recordings of the Century - Mahler: Das Lied von der Erde', 1), (306, 'Elgar: Cello Concerto & Vaughan Williams: Fantasias', 1), (307, 'Adams, John: The Chairman Dances', 1), (308, \"Tchaikovsky: 1812 Festival Overture, Op.49, Capriccio Italien & Beethoven: Wellington's Victory\", 1), (309, 'Palestrina: Missa Papae Marcelli & Allegri: Miserere', 1), (310, 'Prokofiev: Romeo & Juliet', 1), (311, 'Strauss: Waltzes', 1), (312, 'Berlioz: Symphonie Fantastique', 1), (313, 'Bizet: Carmen Highlights', 1), (315, 'Handel: Music for the Royal Fireworks (Original Version 1749)', 1), (316, 'Grieg: Peer Gynt Suites & Sibelius: Pelléas et Mélisande', 1), (317, 'Mozart Gala: Famous Arias', 1), (318, 'SCRIABIN: Vers la flamme', 1), (319, 'Armada: Music from the Courts of England and Spain', 1), (320, 'Mozart: Symphonies Nos. 40 & 41', 1), (323, 'Carried to Dust (Bonus Track Version)', 1), (324, \"Beethoven: Symphony No. 6 'Pastoral' Etc.\", 1), (325, 'Bartok: Violin & Viola Concertos', 1), (326, \"Mendelssohn: A Midsummer Night's Dream\", 1), (327, 'Bach: Orchestral Suites Nos. 1 - 4', 1), (328, 'Charpentier: Divertissements, Airs & Concerts', 1), (329, 'South American Getaway', 1), (330, 'Górecki: Symphony No. 3', 1), (331, 'Purcell: The Fairy Queen', 1), (332, 'The Ultimate Relexation Album', 1), (333, 'Purcell: Music for the Queen Mary', 1), (334, 'Weill: The Seven Deadly Sins', 1), (335, 'J.S. Bach: Chaconne, Suite in E Minor, Partita in E Major & Prelude, Fugue and Allegro', 1), (336, 'Prokofiev: Symphony No.5 & Stravinksy: Le Sacre Du Printemps', 1), (337, 'Szymanowski: Piano Works, Vol. 1', 1), (338, 'Nielsen: The Six Symphonies', 1), (339, \"Great Recordings of the Century: Paganini's 24 Caprices\", 1), (340, \"Liszt - 12 Études D'Execution Transcendante\", 1), (341, 'Great Recordings of the Century - Shubert: Schwanengesang, 4 Lieder', 1), (342, 'Locatelli: Concertos for Violin, Strings and Continuo, Vol. 3', 1), (343, 'Respighi:Pines of Rome', 1), (344, \"Schubert: The Late String Quartets & String Quintet (3 CD's)\", 1), (345, \"Monteverdi: L'Orfeo\", 1), (346, 'Mozart: Chamber Music', 1), (347, 'Koyaanisqatsi (Soundtrack from the Motion Picture)', 1)]\n",
     "output_type": "stream"
    }
   ]
  },
  {
   "cell_type": "markdown",
   "source": "### Aufgabe #7",
   "metadata": {
    "tags": [],
    "is_collapsed": false,
    "cell_id": "00019-dad7c325-ed45-4e44-9350-210c221b9010",
    "deepnote_cell_type": "text-cell-h3"
   }
  },
  {
   "cell_type": "code",
   "metadata": {
    "tags": [],
    "cell_id": "00019-bf63623b-987f-4dfa-aff6-b05e92548185",
    "deepnote_to_be_reexecuted": false,
    "source_hash": "1bf23f8b",
    "execution_start": 1631533460571,
    "execution_millis": 2,
    "deepnote_cell_type": "code"
   },
   "source": "# Aufgabe #7: Öffne https://www.sqlitetutorial.net/sqlite-group-by/ und wähle dir ein Beispiel nach den Kapitel \"SQLite GROUP BY with HAVING clause\" aus. \n# Implementiere es und experimentiere damit. \n",
   "execution_count": null,
   "outputs": []
  },
  {
   "cell_type": "markdown",
   "source": "### Aufgabe #8\nUm die Qualtität der Übung für zukünftige Klassen zu verbessern bin ich sehr dankbar für Feedback zu diesen Übungen. Die folgende Umfrage besteht nur aus 5 Fragen und braucht weniger als 3 Minuten Zeit: https://forms.gle/WfZiyUjXvbvYmBnY7\nVielen Dank! ",
   "metadata": {
    "tags": [],
    "cell_id": "00021-a59143d7-6b14-4e56-b847-ae4e5983e259",
    "deepnote_cell_type": "markdown"
   }
  },
  {
   "cell_type": "markdown",
   "source": "Wem es jetzt den Ärmel reingezogen hat, darf gerne an https://www.sqlitetutorial.net/ weiterarbeiten. Als Vorbereitung für den Präsenzunterricht \nreicht es aber für den Moment. \n\nBei Fragen oder Anmerkungen: marco.soldati@fhnw.ch oder via Teams. Ich freue mich auf den ersten Halbtag mit euch. Marco Soldati",
   "metadata": {
    "tags": [],
    "cell_id": "00021-284d30f4-0f9c-4c2b-ae07-2d8b9c278c6b",
    "deepnote_cell_type": "markdown"
   }
  },
  {
   "cell_type": "markdown",
   "source": "# Lösungen",
   "metadata": {
    "tags": [],
    "is_collapsed": false,
    "cell_id": "00053-5d54229b-352b-4d68-ae9e-d51b91aea568",
    "deepnote_cell_type": "text-cell-h1"
   }
  },
  {
   "cell_type": "code",
   "metadata": {
    "tags": [],
    "deepnote_to_be_reexecuted": false,
    "source_hash": "da378f06",
    "execution_start": 1631533460626,
    "execution_millis": 7,
    "cell_id": "00060-719b8092-318f-4b3e-b78f-228bda186112",
    "deepnote_cell_type": "code"
   },
   "source": "# Aufgabe #5: \n# Zuerst zeigen wir die Struktur der Tabelle an. Die Hilfsmethoden sind in der Datei ./util/sqlite_util.py gespeichert.\n\nprint(show_tables(connection))\nprint(desc_table(connection, \"invoices\"))",
   "execution_count": null,
   "outputs": [
    {
     "name": "stdout",
     "text": "['albums', 'artists', 'customers', 'employees', 'genres', 'invoices', 'invoice_items', 'media_types', 'playlists', 'playlist_track', 'tracks']\nCREATE TABLE \"invoices\"\r\n(\r\n    [InvoiceId] INTEGER PRIMARY KEY AUTOINCREMENT NOT NULL,\r\n    [CustomerId] INTEGER  NOT NULL,\r\n    [InvoiceDate] DATETIME  NOT NULL,\r\n    [BillingAddress] NVARCHAR(70),\r\n    [BillingCity] NVARCHAR(40),\r\n    [BillingState] NVARCHAR(40),\r\n    [BillingCountry] NVARCHAR(40),\r\n    [BillingPostalCode] NVARCHAR(10),\r\n    [Total] NUMERIC(10,2)  NOT NULL,\r\n    FOREIGN KEY ([CustomerId]) REFERENCES \"customers\" ([CustomerId]) \r\n\t\tON DELETE NO ACTION ON UPDATE NO ACTION\r\n)\n",
     "output_type": "stream"
    }
   ]
  },
  {
   "cell_type": "code",
   "metadata": {
    "tags": [],
    "deepnote_to_be_reexecuted": false,
    "source_hash": "6ec98e69",
    "allow_embed": false,
    "execution_start": 1631533460627,
    "execution_millis": 17,
    "cell_id": "00061-bcdcffbd-0c48-40a4-966d-cdd10c972185",
    "deepnote_cell_type": "code"
   },
   "source": "# Aufgabe #5:\nstmt = \"\"\"SELECT \n    c.firstname, c.lastname, i.total, DATE(i.invoicedate)\nFROM \n    customers c \n    LEFT JOIN\n    invoices i\n        USING(CustomerId)\nWHERE\n    i.billingaddress = c.address\nORDER BY \n    i.invoicedate desc;\"\"\"\ncur = execute_query(connection, stmt)\nrows = cur.fetchall()\nprint(rows)",
   "execution_count": null,
   "outputs": [
    {
     "name": "stdout",
     "text": "[('Manoj', 'Pareek', 1.99, '2013-12-22'), ('Terhi', 'Hämäläinen', 13.86, '2013-12-14'), ('Madalena', 'Sampaio', 8.91, '2013-12-09'), ('Robert', 'Brown', 5.94, '2013-12-06'), ('Victor', 'Stevens', 3.96, '2013-12-05'), ('Kathy', 'Chase', 1.98, '2013-12-04'), ('John', 'Gordon', 1.98, '2013-12-04'), ('Dan', 'Miller', 0.99, '2013-11-21'), ('Helena', 'Holý', 25.86, '2013-11-13'), ('Diego', 'Gutiérrez', 8.91, '2013-11-08'), ('Enrique', 'Muñoz', 5.94, '2013-11-05'), ('Hugh', \"O'Reilly\", 3.96, '2013-11-04'), ('Wyatt', 'Girard', 1.98, '2013-11-03'), ('Terhi', 'Hämäläinen', 1.98, '2013-11-03'), ('Marc', 'Dubois', 0.99, '2013-10-21'), ('Patrick', 'Gray', 13.86, '2013-10-13'), ('Michelle', 'Brooks', 8.91, '2013-10-08'), ('Roberto', 'Almeida', 5.94, '2013-10-05'), ('Daan', 'Peeters', 3.96, '2013-10-04'), ('Bjørn', 'Hansen', 1.98, '2013-10-03'), ('Helena', 'Holý', 1.98, '2013-10-03'), ('François', 'Tremblay', 0.99, '2013-09-20'), ('Johannes', 'Van der Berg', 13.86, '2013-09-12'), ('Camille', 'Bernard', 8.91, '2013-09-07'), ('Ellie', 'Sullivan', 5.94, '2013-09-04'), ('Robert', 'Brown', 3.96, '2013-09-03'), ('Victor', 'Stevens', 1.98, '2013-09-02'), ('Patrick', 'Gray', 1.98, '2013-09-02'), ('Frank', 'Ralston', 0.99, '2013-08-20'), ('Eduardo', 'Martins', 13.86, '2013-08-12'), ('Luís', 'Gonçalves', 8.91, '2013-08-07'), ('Steve', 'Murray', 5.94, '2013-08-04'), ('Enrique', 'Muñoz', 3.96, '2013-08-03'), ('Hugh', \"O'Reilly\", 1.98, '2013-08-02'), ('Johannes', 'Van der Berg', 1.98, '2013-08-02'), ('Ladislav', 'Kovács', 0.99, '2013-07-20'), ('Martha', 'Silk', 13.86, '2013-07-12'), ('Heather', 'Leacock', 8.91, '2013-07-07'), ('Frank', 'Harris', 5.94, '2013-07-04'), ('Roberto', 'Almeida', 3.96, '2013-07-03'), ('Daan', 'Peeters', 1.98, '2013-07-02'), ('Eduardo', 'Martins', 1.98, '2013-07-02'), ('Astrid', 'Gruber', 0.99, '2013-06-19'), ('Emma', 'Jones', 13.86, '2013-06-11'), ('Isabelle', 'Mercier', 8.91, '2013-06-06'), ('Fynn', 'Zimmermann', 5.94, '2013-06-03'), ('Ellie', 'Sullivan', 3.96, '2013-06-02'), ('Robert', 'Brown', 1.98, '2013-06-01'), ('Martha', 'Silk', 1.98, '2013-06-01'), ('Julia', 'Barnett', 0.99, '2013-05-19'), ('Mark', 'Philips', 13.86, '2013-05-11'), ('František', 'Wichterlová', 8.91, '2013-05-06'), ('Manoj', 'Pareek', 5.94, '2013-05-03'), ('Steve', 'Murray', 3.96, '2013-05-02'), ('Enrique', 'Muñoz', 1.98, '2013-05-01'), ('Emma', 'Jones', 1.98, '2013-05-01'), ('Stanisław', 'Wójcik', 0.99, '2013-04-18'), ('Madalena', 'Sampaio', 13.86, '2013-04-10'), ('Richard', 'Cunningham', 8.91, '2013-04-05'), ('Dan', 'Miller', 5.94, '2013-04-02'), ('Frank', 'Harris', 3.96, '2013-04-01'), ('Roberto', 'Almeida', 1.98, '2013-03-31'), ('Mark', 'Philips', 1.98, '2013-03-31'), ('Alexandre', 'Rocha', 0.99, '2013-03-18'), ('Diego', 'Gutiérrez', 13.86, '2013-03-10'), ('Lucas', 'Mancini', 8.91, '2013-03-05'), ('Marc', 'Dubois', 5.94, '2013-03-02'), ('Fynn', 'Zimmermann', 3.96, '2013-03-01'), ('Ellie', 'Sullivan', 1.98, '2013-02-28'), ('Madalena', 'Sampaio', 1.98, '2013-02-28'), ('Aaron', 'Mitchell', 0.99, '2013-02-15'), ('Michelle', 'Brooks', 13.86, '2013-02-07'), ('Kara', 'Nielsen', 8.91, '2013-02-02'), ('François', 'Tremblay', 5.94, '2013-01-30'), ('Manoj', 'Pareek', 3.96, '2013-01-29'), ('Steve', 'Murray', 1.98, '2013-01-28'), ('Diego', 'Gutiérrez', 1.98, '2013-01-28'), ('Phil', 'Hughes', 0.99, '2013-01-15'), ('Camille', 'Bernard', 13.86, '2013-01-07'), ('Edward', 'Francis', 8.91, '2013-01-02'), ('Frank', 'Ralston', 5.94, '2012-12-30'), ('Dan', 'Miller', 3.96, '2012-12-29'), ('Frank', 'Harris', 1.98, '2012-12-28'), ('Michelle', 'Brooks', 1.98, '2012-12-28'), ('Jennifer', 'Peterson', 0.99, '2012-12-15'), ('Luís', 'Gonçalves', 13.86, '2012-12-07'), ('Joakim', 'Johansson', 8.91, '2012-12-02'), ('Ladislav', 'Kovács', 5.94, '2012-11-29'), ('Marc', 'Dubois', 3.96, '2012-11-28'), ('Fynn', 'Zimmermann', 1.98, '2012-11-27'), ('Camille', 'Bernard', 1.98, '2012-11-27'), ('Hannah', 'Schneider', 0.99, '2012-11-14'), ('Heather', 'Leacock', 13.86, '2012-11-06'), ('Fernanda', 'Ramos', 8.91, '2012-11-01'), ('Astrid', 'Gruber', 5.94, '2012-10-29'), ('François', 'Tremblay', 3.96, '2012-10-28'), ('Luís', 'Gonçalves', 1.98, '2012-10-27'), ('Manoj', 'Pareek', 1.98, '2012-10-27'), ('Luis', 'Rojas', 0.99, '2012-10-14'), ('Isabelle', 'Mercier', 16.86, '2012-10-06'), ('João', 'Fernandes', 10.91, '2012-10-01'), ('Julia', 'Barnett', 11.94, '2012-09-28'), ('Frank', 'Ralston', 7.96, '2012-09-27'), ('Dan', 'Miller', 3.98, '2012-09-26'), ('Heather', 'Leacock', 3.98, '2012-09-26'), ('Tim', 'Goyer', 1.99, '2012-09-13'), ('František', 'Wichterlová', 16.86, '2012-09-05'), ('Mark', 'Taylor', 8.91, '2012-08-31'), ('Stanisław', 'Wójcik', 5.94, '2012-08-28'), ('Ladislav', 'Kovács', 3.96, '2012-08-27'), ('Marc', 'Dubois', 1.98, '2012-08-26'), ('Isabelle', 'Mercier', 1.98, '2012-08-26'), ('Dominique', 'Lefebvre', 0.99, '2012-08-13'), ('Richard', 'Cunningham', 23.86, '2012-08-05'), ('Jack', 'Smith', 10.91, '2012-07-31'), ('Alexandre', 'Rocha', 5.94, '2012-07-28'), ('Astrid', 'Gruber', 3.96, '2012-07-27'), ('François', 'Tremblay', 1.98, '2012-07-26'), ('František', 'Wichterlová', 1.98, '2012-07-26'), ('Leonie', 'Köhler', 0.99, '2012-07-13'), ('Lucas', 'Mancini', 13.86, '2012-07-05'), ('Niklas', 'Schröder', 8.91, '2012-06-30'), ('Aaron', 'Mitchell', 5.94, '2012-06-27'), ('Julia', 'Barnett', 3.96, '2012-06-26'), ('Frank', 'Ralston', 1.98, '2012-06-25'), ('Richard', 'Cunningham', 1.98, '2012-06-25'), ('John', 'Gordon', 0.99, '2012-06-12'), ('Kara', 'Nielsen', 13.86, '2012-06-04'), ('Puja', 'Srivastava', 8.91, '2012-05-30'), ('Phil', 'Hughes', 5.94, '2012-05-27'), ('Stanisław', 'Wójcik', 3.96, '2012-05-26'), ('Ladislav', 'Kovács', 1.98, '2012-05-25'), ('Lucas', 'Mancini', 1.98, '2012-05-25'), ('Terhi', 'Hämäläinen', 0.99, '2012-05-12'), ('Edward', 'Francis', 13.86, '2012-05-04'), ('Kathy', 'Chase', 8.91, '2012-04-29'), ('Jennifer', 'Peterson', 5.94, '2012-04-26'), ('Alexandre', 'Rocha', 3.96, '2012-04-25'), ('Astrid', 'Gruber', 1.98, '2012-04-24'), ('Kara', 'Nielsen', 1.98, '2012-04-24'), ('Helena', 'Holý', 0.99, '2012-04-11'), ('Joakim', 'Johansson', 13.86, '2012-04-03'), ('Wyatt', 'Girard', 8.91, '2012-03-29'), ('Hannah', 'Schneider', 5.94, '2012-03-26'), ('Aaron', 'Mitchell', 3.96, '2012-03-25'), ('Julia', 'Barnett', 1.98, '2012-03-24'), ('Edward', 'Francis', 1.98, '2012-03-24'), ('Patrick', 'Gray', 0.99, '2012-03-11'), ('Fernanda', 'Ramos', 13.86, '2012-03-03'), ('Bjørn', 'Hansen', 8.91, '2012-02-27'), ('Luis', 'Rojas', 5.94, '2012-02-24'), ('Phil', 'Hughes', 3.96, '2012-02-23'), ('Stanisław', 'Wójcik', 1.98, '2012-02-22'), ('Joakim', 'Johansson', 1.98, '2012-02-22'), ('Johannes', 'Van der Berg', 0.99, '2012-02-09'), ('João', 'Fernandes', 13.86, '2012-02-01'), ('Victor', 'Stevens', 8.91, '2012-01-27'), ('Tim', 'Goyer', 5.94, '2012-01-24'), ('Jennifer', 'Peterson', 3.96, '2012-01-23'), ('Alexandre', 'Rocha', 1.98, '2012-01-22'), ('Fernanda', 'Ramos', 1.98, '2012-01-22'), ('Eduardo', 'Martins', 0.99, '2012-01-09'), ('Mark', 'Taylor', 13.86, '2012-01-01'), ('Hugh', \"O'Reilly\", 8.91, '2011-12-27'), ('Dominique', 'Lefebvre', 5.94, '2011-12-24'), ('Hannah', 'Schneider', 3.96, '2011-12-23'), ('Aaron', 'Mitchell', 1.98, '2011-12-22'), ('João', 'Fernandes', 1.98, '2011-12-22'), ('Martha', 'Silk', 0.99, '2011-12-09'), ('Jack', 'Smith', 13.86, '2011-12-01'), ('Daan', 'Peeters', 8.91, '2011-11-26'), ('Leonie', 'Köhler', 5.94, '2011-11-23'), ('Luis', 'Rojas', 3.96, '2011-11-22'), ('Phil', 'Hughes', 1.98, '2011-11-21'), ('Mark', 'Taylor', 1.98, '2011-11-21'), ('Emma', 'Jones', 0.99, '2011-11-08'), ('Niklas', 'Schröder', 13.86, '2011-10-31'), ('Robert', 'Brown', 8.91, '2011-10-26'), ('John', 'Gordon', 5.94, '2011-10-23'), ('Tim', 'Goyer', 3.96, '2011-10-22'), ('Jennifer', 'Peterson', 1.98, '2011-10-21'), ('Jack', 'Smith', 1.98, '2011-10-21'), ('Mark', 'Philips', 0.99, '2011-10-08'), ('Puja', 'Srivastava', 13.86, '2011-09-30'), ('Enrique', 'Muñoz', 8.91, '2011-09-25'), ('Terhi', 'Hämäläinen', 5.94, '2011-09-22'), ('Dominique', 'Lefebvre', 3.96, '2011-09-21'), ('Hannah', 'Schneider', 1.98, '2011-09-20'), ('Niklas', 'Schröder', 1.98, '2011-09-20'), ('Madalena', 'Sampaio', 0.99, '2011-09-07'), ('Kathy', 'Chase', 13.86, '2011-08-30'), ('Roberto', 'Almeida', 8.91, '2011-08-25'), ('Helena', 'Holý', 5.94, '2011-08-22'), ('Leonie', 'Köhler', 3.96, '2011-08-21'), ('Luis', 'Rojas', 1.98, '2011-08-20'), ('Puja', 'Srivastava', 1.98, '2011-08-20'), ('Diego', 'Gutiérrez', 0.99, '2011-08-07'), ('Wyatt', 'Girard', 13.86, '2011-07-30'), ('Ellie', 'Sullivan', 8.91, '2011-07-25'), ('Patrick', 'Gray', 5.94, '2011-07-22'), ('John', 'Gordon', 3.96, '2011-07-21'), ('Tim', 'Goyer', 1.98, '2011-07-20'), ('Kathy', 'Chase', 1.98, '2011-07-20'), ('Michelle', 'Brooks', 0.99, '2011-07-07'), ('Bjørn', 'Hansen', 15.86, '2011-06-29'), ('Steve', 'Murray', 8.91, '2011-06-24'), ('Johannes', 'Van der Berg', 8.94, '2011-06-21'), ('Terhi', 'Hämäläinen', 7.96, '2011-06-20'), ('Dominique', 'Lefebvre', 2.98, '2011-06-19'), ('Wyatt', 'Girard', 3.98, '2011-06-19'), ('Camille', 'Bernard', 1.99, '2011-06-06'), ('Victor', 'Stevens', 18.86, '2011-05-29'), ('Frank', 'Harris', 8.91, '2011-05-24'), ('Eduardo', 'Martins', 5.94, '2011-05-21'), ('Helena', 'Holý', 3.96, '2011-05-20'), ('Leonie', 'Köhler', 1.98, '2011-05-19'), ('Bjørn', 'Hansen', 1.98, '2011-05-19'), ('Luís', 'Gonçalves', 0.99, '2011-05-06'), ('Hugh', \"O'Reilly\", 21.86, '2011-04-28'), ('Fynn', 'Zimmermann', 14.91, '2011-04-23'), ('Martha', 'Silk', 5.94, '2011-04-20'), ('Patrick', 'Gray', 3.96, '2011-04-19'), ('John', 'Gordon', 1.98, '2011-04-18'), ('Victor', 'Stevens', 1.98, '2011-04-18'), ('Heather', 'Leacock', 0.99, '2011-04-05'), ('Daan', 'Peeters', 13.86, '2011-03-28'), ('Manoj', 'Pareek', 8.91, '2011-03-23'), ('Emma', 'Jones', 5.94, '2011-03-20'), ('Johannes', 'Van der Berg', 3.96, '2011-03-19'), ('Terhi', 'Hämäläinen', 1.98, '2011-03-18'), ('Hugh', \"O'Reilly\", 1.98, '2011-03-18'), ('Isabelle', 'Mercier', 0.99, '2011-03-05'), ('Robert', 'Brown', 13.86, '2011-02-25'), ('Dan', 'Miller', 8.91, '2011-02-20'), ('Mark', 'Philips', 5.94, '2011-02-17'), ('Eduardo', 'Martins', 3.96, '2011-02-16'), ('Helena', 'Holý', 1.98, '2011-02-15'), ('Daan', 'Peeters', 1.98, '2011-02-15'), ('František', 'Wichterlová', 0.99, '2011-02-02'), ('Enrique', 'Muñoz', 13.86, '2011-01-25'), ('Marc', 'Dubois', 8.91, '2011-01-20'), ('Madalena', 'Sampaio', 5.94, '2011-01-17'), ('Martha', 'Silk', 3.96, '2011-01-16'), ('Patrick', 'Gray', 1.98, '2011-01-15'), ('Robert', 'Brown', 1.98, '2011-01-15'), ('Richard', 'Cunningham', 0.99, '2011-01-02'), ('Roberto', 'Almeida', 13.86, '2010-12-25'), ('François', 'Tremblay', 8.91, '2010-12-20'), ('Diego', 'Gutiérrez', 5.94, '2010-12-17'), ('Emma', 'Jones', 3.96, '2010-12-16'), ('Johannes', 'Van der Berg', 1.98, '2010-12-15'), ('Enrique', 'Muñoz', 1.98, '2010-12-15'), ('Lucas', 'Mancini', 0.99, '2010-12-02'), ('Ellie', 'Sullivan', 13.86, '2010-11-24'), ('Frank', 'Ralston', 8.91, '2010-11-19'), ('Michelle', 'Brooks', 5.94, '2010-11-16'), ('Mark', 'Philips', 3.96, '2010-11-15'), ('Eduardo', 'Martins', 1.98, '2010-11-14'), ('Roberto', 'Almeida', 1.98, '2010-11-14'), ('Kara', 'Nielsen', 0.99, '2010-11-01'), ('Steve', 'Murray', 13.86, '2010-10-24'), ('Ladislav', 'Kovács', 8.91, '2010-10-19'), ('Camille', 'Bernard', 5.94, '2010-10-16'), ('Madalena', 'Sampaio', 3.96, '2010-10-15'), ('Martha', 'Silk', 1.98, '2010-10-14'), ('Ellie', 'Sullivan', 1.98, '2010-10-14'), ('Edward', 'Francis', 0.99, '2010-10-01'), ('Frank', 'Harris', 13.86, '2010-09-23'), ('Astrid', 'Gruber', 8.91, '2010-09-18'), ('Luís', 'Gonçalves', 5.94, '2010-09-15'), ('Diego', 'Gutiérrez', 3.96, '2010-09-14'), ('Emma', 'Jones', 1.98, '2010-09-13'), ('Steve', 'Murray', 1.98, '2010-09-13'), ('Joakim', 'Johansson', 0.99, '2010-08-31'), ('Fynn', 'Zimmermann', 13.86, '2010-08-23'), ('Julia', 'Barnett', 8.91, '2010-08-18'), ('Heather', 'Leacock', 5.94, '2010-08-15'), ('Michelle', 'Brooks', 3.96, '2010-08-14'), ('Mark', 'Philips', 1.98, '2010-08-13'), ('Frank', 'Harris', 1.98, '2010-08-13'), ('Fernanda', 'Ramos', 0.99, '2010-07-31'), ('Manoj', 'Pareek', 13.86, '2010-07-23'), ('Stanisław', 'Wójcik', 8.91, '2010-07-18'), ('Isabelle', 'Mercier', 5.94, '2010-07-15'), ('Camille', 'Bernard', 3.96, '2010-07-14'), ('Madalena', 'Sampaio', 1.98, '2010-07-13'), ('Fynn', 'Zimmermann', 1.98, '2010-07-13'), ('João', 'Fernandes', 0.99, '2010-06-30'), ('Dan', 'Miller', 13.86, '2010-06-22'), ('Alexandre', 'Rocha', 8.91, '2010-06-17'), ('František', 'Wichterlová', 5.94, '2010-06-14'), ('Luís', 'Gonçalves', 3.96, '2010-06-13'), ('Diego', 'Gutiérrez', 1.98, '2010-06-12'), ('Manoj', 'Pareek', 1.98, '2010-06-12'), ('Mark', 'Taylor', 0.99, '2010-05-30'), ('Marc', 'Dubois', 13.86, '2010-05-22'), ('Aaron', 'Mitchell', 8.91, '2010-05-17'), ('Richard', 'Cunningham', 5.94, '2010-05-14'), ('Heather', 'Leacock', 3.96, '2010-05-13'), ('Michelle', 'Brooks', 1.98, '2010-05-12'), ('Dan', 'Miller', 1.98, '2010-05-12'), ('Jack', 'Smith', 0.99, '2010-04-29'), ('François', 'Tremblay', 13.86, '2010-04-21'), ('Phil', 'Hughes', 8.91, '2010-04-16'), ('Lucas', 'Mancini', 5.94, '2010-04-13'), ('Isabelle', 'Mercier', 3.96, '2010-04-12'), ('Camille', 'Bernard', 1.98, '2010-04-11'), ('Marc', 'Dubois', 1.98, '2010-04-11'), ('Niklas', 'Schröder', 0.99, '2010-03-29'), ('Frank', 'Ralston', 15.86, '2010-03-21'), ('Jennifer', 'Peterson', 9.91, '2010-03-16'), ('Kara', 'Nielsen', 5.94, '2010-03-13'), ('František', 'Wichterlová', 3.96, '2010-03-12'), ('Luís', 'Gonçalves', 3.98, '2010-03-11'), ('François', 'Tremblay', 3.98, '2010-03-11'), ('Puja', 'Srivastava', 1.99, '2010-02-26'), ('Ladislav', 'Kovács', 21.86, '2010-02-18'), ('Hannah', 'Schneider', 8.91, '2010-02-13'), ('Edward', 'Francis', 5.94, '2010-02-10'), ('Richard', 'Cunningham', 3.96, '2010-02-09'), ('Heather', 'Leacock', 1.98, '2010-02-08'), ('Frank', 'Ralston', 1.98, '2010-02-08'), ('Kathy', 'Chase', 0.99, '2010-01-26'), ('Astrid', 'Gruber', 18.86, '2010-01-18'), ('Luis', 'Rojas', 17.91, '2010-01-13'), ('Joakim', 'Johansson', 6.94, '2010-01-10'), ('Lucas', 'Mancini', 3.96, '2010-01-09'), ('Isabelle', 'Mercier', 1.98, '2010-01-08'), ('Ladislav', 'Kovács', 1.98, '2010-01-08'), ('Wyatt', 'Girard', 0.99, '2009-12-26'), ('Julia', 'Barnett', 13.86, '2009-12-18'), ('Tim', 'Goyer', 8.91, '2009-12-13'), ('Fernanda', 'Ramos', 5.94, '2009-12-10'), ('Kara', 'Nielsen', 3.96, '2009-12-09'), ('František', 'Wichterlová', 1.98, '2009-12-08'), ('Astrid', 'Gruber', 1.98, '2009-12-08'), ('Bjørn', 'Hansen', 0.99, '2009-11-25'), ('Stanisław', 'Wójcik', 13.86, '2009-11-17'), ('Dominique', 'Lefebvre', 8.91, '2009-11-12'), ('João', 'Fernandes', 5.94, '2009-11-09'), ('Edward', 'Francis', 3.96, '2009-11-08'), ('Richard', 'Cunningham', 1.98, '2009-11-07'), ('Julia', 'Barnett', 1.98, '2009-11-07'), ('Victor', 'Stevens', 0.99, '2009-10-25'), ('Alexandre', 'Rocha', 13.86, '2009-10-17'), ('Leonie', 'Köhler', 8.91, '2009-10-12'), ('Mark', 'Taylor', 5.94, '2009-10-09'), ('Joakim', 'Johansson', 3.96, '2009-10-08'), ('Lucas', 'Mancini', 1.98, '2009-10-07'), ('Stanisław', 'Wójcik', 1.98, '2009-10-07'), ('Hugh', \"O'Reilly\", 0.99, '2009-09-24'), ('Aaron', 'Mitchell', 13.86, '2009-09-16'), ('John', 'Gordon', 8.91, '2009-09-11'), ('Jack', 'Smith', 5.94, '2009-09-08'), ('Fernanda', 'Ramos', 3.96, '2009-09-07'), ('Kara', 'Nielsen', 1.98, '2009-09-06'), ('Alexandre', 'Rocha', 1.98, '2009-09-06'), ('Daan', 'Peeters', 0.99, '2009-08-24'), ('Phil', 'Hughes', 13.86, '2009-08-16'), ('Terhi', 'Hämäläinen', 8.91, '2009-08-11'), ('Niklas', 'Schröder', 5.94, '2009-08-08'), ('João', 'Fernandes', 3.96, '2009-08-07'), ('Edward', 'Francis', 1.98, '2009-08-06'), ('Aaron', 'Mitchell', 1.98, '2009-08-06'), ('Robert', 'Brown', 0.99, '2009-07-24'), ('Jennifer', 'Peterson', 13.86, '2009-07-16'), ('Helena', 'Holý', 8.91, '2009-07-11'), ('Puja', 'Srivastava', 5.94, '2009-07-08'), ('Mark', 'Taylor', 3.96, '2009-07-07'), ('Joakim', 'Johansson', 1.98, '2009-07-06'), ('Phil', 'Hughes', 1.98, '2009-07-06'), ('Enrique', 'Muñoz', 0.99, '2009-06-23'), ('Hannah', 'Schneider', 13.86, '2009-06-15'), ('Patrick', 'Gray', 8.91, '2009-06-10'), ('Kathy', 'Chase', 5.94, '2009-06-07'), ('Jack', 'Smith', 3.96, '2009-06-06'), ('Fernanda', 'Ramos', 1.98, '2009-06-05'), ('Jennifer', 'Peterson', 1.98, '2009-06-05'), ('Roberto', 'Almeida', 0.99, '2009-05-23'), ('Luis', 'Rojas', 13.86, '2009-05-15'), ('Johannes', 'Van der Berg', 8.91, '2009-05-10'), ('Wyatt', 'Girard', 5.94, '2009-05-07'), ('Niklas', 'Schröder', 3.96, '2009-05-06'), ('João', 'Fernandes', 1.98, '2009-05-05'), ('Hannah', 'Schneider', 1.98, '2009-05-05'), ('Ellie', 'Sullivan', 0.99, '2009-04-22'), ('Tim', 'Goyer', 13.86, '2009-04-14'), ('Eduardo', 'Martins', 8.91, '2009-04-09'), ('Bjørn', 'Hansen', 5.94, '2009-04-06'), ('Puja', 'Srivastava', 3.96, '2009-04-05'), ('Mark', 'Taylor', 1.98, '2009-04-04'), ('Luis', 'Rojas', 1.98, '2009-04-04'), ('Steve', 'Murray', 0.99, '2009-03-22'), ('Dominique', 'Lefebvre', 13.86, '2009-03-14'), ('Martha', 'Silk', 8.91, '2009-03-09'), ('Victor', 'Stevens', 5.94, '2009-03-06'), ('Kathy', 'Chase', 3.96, '2009-03-05'), ('Jack', 'Smith', 1.98, '2009-03-04'), ('Tim', 'Goyer', 1.98, '2009-03-04'), ('Frank', 'Harris', 0.99, '2009-02-19'), ('Leonie', 'Köhler', 13.86, '2009-02-11'), ('Emma', 'Jones', 8.91, '2009-02-06'), ('Hugh', \"O'Reilly\", 5.94, '2009-02-03'), ('Wyatt', 'Girard', 3.96, '2009-02-02'), ('Niklas', 'Schröder', 1.98, '2009-02-01'), ('Dominique', 'Lefebvre', 1.98, '2009-02-01'), ('Fynn', 'Zimmermann', 0.99, '2009-01-19'), ('John', 'Gordon', 13.86, '2009-01-11'), ('Mark', 'Philips', 8.91, '2009-01-06'), ('Daan', 'Peeters', 5.94, '2009-01-03'), ('Bjørn', 'Hansen', 3.96, '2009-01-02'), ('Leonie', 'Köhler', 1.98, '2009-01-01')]\n",
     "output_type": "stream"
    }
   ]
  },
  {
   "cell_type": "code",
   "metadata": {
    "tags": [],
    "deepnote_to_be_reexecuted": false,
    "source_hash": "70c678c3",
    "allow_embed": false,
    "execution_start": 1631533460648,
    "cell_id": "00062-414ced7c-804e-42a0-8af4-2dbba3a771d4",
    "execution_millis": 43,
    "deepnote_cell_type": "code"
   },
   "source": "# Aufgabe #6\nstmt = \"\"\"SELECT\n   ar.Name, \n   al.Title\nFROM\n   artists ar\n   LEFT JOIN \n   albums al\nUSING (ArtistId)\nWHERE Title IS NULL   \nORDER BY Name;\"\"\"\ncur = execute_query(connection, stmt)\nrows = cur.fetchall()\nprint(rows)",
   "execution_count": null,
   "outputs": [
    {
     "name": "stdout",
     "text": "[('A Cor Do Som', None), ('Academy of St. Martin in the Fields, Sir Neville Marriner & William Bennett', None), (\"Aerosmith & Sierra Leone's Refugee Allstars\", None), ('Avril Lavigne', None), ('Azymuth', None), ('Baby Consuelo', None), ('Banda Black Rio', None), ('Barão Vermelho', None), ('Bebel Gilberto', None), ('Ben Harper', None), ('Big & Rich', None), ('Black Eyed Peas', None), ('Charlie Brown Jr.', None), ('Christina Aguilera featuring BigElf', None), ('Corinne Bailey Rae', None), ('DJ Dolores & Orchestra Santa Massa', None), ('Dhani Harrison & Jakob Dylan', None), ('Edson, DJ Marky & DJ Patife Featuring Fernanda Porto', None), ('Fernanda Porto', None), ('Gustavo & Andres Veiga & Salazar', None), ('Hermeto Pascoal', None), ('Instituto', None), ('Jack Johnson', None), (\"Jack's Mannequin & Mick Fleetwood\", None), ('Jackson Browne', None), ('Jaguares', None), ('Jorge Vercilo', None), ('João Gilberto', None), ('Kid Abelha', None), ('Los Hermanos', None), ('Los Lonely Boys', None), ('Luiz Melodia', None), ('Matisyahu', None), ('Milton Nascimento & Bebeto', None), ('Motörhead & Girlschool', None), ('Mundo Livre S/A', None), ('Nando Reis', None), ('Nação Zumbi', None), ('Nega Gizza', None), ('Ney Matogrosso', None), ('Os Cariocas', None), ('Otto', None), ('Pedro Luís & A Parede', None), ('Pedro Luís E A Parede', None), ('Peter Tosh', None), ('R.E.M. Feat. KRS-One', None), ('Regina Spektor', None), ('Rodox', None), ('Sabotage E Instituto', None), ('Sandra De Sá', None), ('Santana Feat. Dave Matthews', None), ('Santana Feat. Eagle-Eye Cherry', None), ('Santana Feat. Eric Clapton', None), ('Santana Feat. Everlast', None), ('Santana Feat. Lauryn Hill & Cee-Lo', None), ('Santana Feat. Maná', None), ('Santana Feat. Rob Thomas', None), ('Santana Feat. The Project G&B', None), ('Seu Jorge', None), ('Simply Red', None), ('Snow Patrol', None), ('Stereo Maracana', None), ('The Flaming Lips', None), ('The Postal Service', None), ('Vinicius, Toquinho & Quarteto Em Cy', None), ('Vinícius E Odette Lara', None), ('Vinícius E Qurteto Em Cy', None), ('Whitesnake', None), ('Xis', None), (\"Youssou N'Dour\", None)]\n",
     "output_type": "stream"
    }
   ]
  },
  {
   "cell_type": "code",
   "metadata": {
    "tags": [],
    "cell_id": "00028-210fed7a-c9d2-442d-8370-30bb61eb7b1b",
    "deepnote_to_be_reexecuted": false,
    "source_hash": "c7e0508",
    "execution_start": 1631533460701,
    "execution_millis": 1836896905,
    "deepnote_cell_type": "code"
   },
   "source": "# Aufgabe #7: Keine Lösung, da die Aufgabe generisch gestellt wurde",
   "execution_count": null,
   "outputs": []
  },
  {
   "cell_type": "markdown",
   "source": "<a style='text-decoration:none;line-height:16px;display:flex;color:#5B5B62;padding:10px;justify-content:end;' href='https://deepnote.com?utm_source=created-in-deepnote-cell&projectId=7b26de29-b5f7-4099-8d22-b8e52b4135d4' target=\"_blank\">\n<img alt='Created in deepnote.com' style='display:inline;max-height:16px;margin:0px;margin-right:7.5px;' src='data:image/svg+xml;base64,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' > </img>\nCreated in <span style='font-weight:600;margin-left:4px;'>Deepnote</span></a>",
   "metadata": {
    "tags": [],
    "created_in_deepnote_cell": true,
    "deepnote_cell_type": "markdown"
   }
  }
 ],
 "nbformat": 4,
 "nbformat_minor": 2,
 "metadata": {
  "orig_nbformat": 2,
  "deepnote": {
   "is_reactive": false
  },
  "deepnote_notebook_id": "36bee1d2-dd0d-478a-9f82-ca886c529edf",
  "deepnote_execution_queue": []
 }
}