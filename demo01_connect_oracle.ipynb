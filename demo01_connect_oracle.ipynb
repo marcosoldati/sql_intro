{
 "cells": [
  {
   "cell_type": "markdown",
   "metadata": {
    "cell_id": "00002-4c730b25-f604-4cb7-aee1-0dc090f477fb",
    "deepnote_cell_type": "markdown",
    "tags": []
   },
   "source": [
    "# Test, wie auf Oracle zugegriffen werden kann\n",
    "\n",
    "(andrea.kennel@fhnw.ch, Version 20230215)\n",
    "\n",
    "## Einleitung\n",
    "Mit dem Package oracledb kann auf eine Oracle Datenbank zugegriffen werden.\n",
    "Mehr Infos gibt es unter: \n",
    "https://levelup.gitconnected.com/open-source-python-thin-driver-for-oracle-database-e82aac7ecf5a"
   ]
  },
  {
   "cell_type": "code",
   "execution_count": 10,
   "metadata": {
    "cell_id": "00006-0d455b3a-befc-4420-9ffd-febeaa331a1b",
    "deepnote_cell_type": "code",
    "deepnote_to_be_reexecuted": false,
    "execution_millis": 0,
    "execution_start": 1642056217684,
    "source_hash": "9f457869",
    "tags": []
   },
   "outputs": [],
   "source": [
    "# cx_Oracle importieren\n",
    "import oracledb"
   ]
  },
  {
   "cell_type": "code",
   "execution_count": 11,
   "metadata": {
    "cell_id": "00007-3523a653-e001-44d2-9335-292599c2138f",
    "deepnote_cell_type": "code",
    "deepnote_to_be_reexecuted": false,
    "execution_millis": 159046046,
    "execution_start": 1642056217729,
    "scrolled": true,
    "source_hash": "9ee17004",
    "tags": []
   },
   "outputs": [],
   "source": [
    "# Connection aufbauen\n",
    "connection = oracledb.connect(user=\"andrea\", password=\"Oracle4CAS_fhnw\",\n",
    "                              dsn=\"hades.cs.technik.fhnw.ch/hades19c.hades.fhnw.ch\")\n",
    "#                               dsn=\"140.238.218.163/db21c_dbarc.sub10080847340.vcnoraclecloudd.oraclevcn.com\")\n"
   ]
  },
  {
   "cell_type": "code",
   "execution_count": 12,
   "metadata": {},
   "outputs": [
    {
     "name": "stdout",
     "output_type": "stream",
     "text": [
      "('Hallo Welt',)\n"
     ]
    }
   ],
   "source": [
    "cur = connection.cursor()\n",
    "for row in cur.execute(\"SELECT * FROM test\"):\n",
    "    print(row)"
   ]
  },
  {
   "cell_type": "code",
   "execution_count": 13,
   "metadata": {},
   "outputs": [
    {
     "name": "stdout",
     "output_type": "stream",
     "text": [
      "(10, 'ACCOUNTING', 'NEW YORK')\n",
      "(20, 'RESEARCH', 'DALLAS')\n",
      "(30, 'SALES', 'CHICAGO')\n",
      "(40, 'OPERATIONS', 'BOSTON')\n"
     ]
    }
   ],
   "source": [
    "cur = connection.cursor()\n",
    "for row in cur.execute(\"SELECT * FROM dept\"):\n",
    "    print(row)"
   ]
  },
  {
   "cell_type": "code",
   "execution_count": 17,
   "metadata": {},
   "outputs": [
    {
     "name": "stdout",
     "output_type": "stream",
     "text": [
      "[(10, 'ACCOUNTING', 'NEW YORK'), (20, 'RESEARCH', 'DALLAS'), (30, 'SALES', 'CHICAGO'), (40, 'OPERATIONS', 'BOSTON')]\n"
     ]
    }
   ],
   "source": [
    "stmt = \"\"\"SELECT * FROM dept\"\"\"\n",
    "cur = connection.cursor()\n",
    "cur.execute(stmt)\n",
    "rows = cur.fetchall()\n",
    "print(rows)\n"
   ]
  },
  {
   "cell_type": "code",
   "execution_count": 18,
   "metadata": {},
   "outputs": [
    {
     "name": "stdout",
     "output_type": "stream",
     "text": [
      "(10, 'ACCOUNTING', 'NEW YORK')\n",
      "(20, 'RESEARCH', 'DALLAS')\n",
      "(30, 'SALES', 'CHICAGO')\n",
      "(40, 'OPERATIONS', 'BOSTON')\n"
     ]
    }
   ],
   "source": [
    "stmt = \"\"\"SELECT * FROM dept\"\"\"\n",
    "cur = connection.cursor()\n",
    "cur.execute(stmt)\n",
    "while True:\n",
    "    row = cur.fetchone()\n",
    "    if row is None:\n",
    "        break\n",
    "    print(row)"
   ]
  },
  {
   "cell_type": "code",
   "execution_count": 19,
   "metadata": {},
   "outputs": [
    {
     "name": "stdout",
     "output_type": "stream",
     "text": [
      "('DEPTNO', <DbType DB_TYPE_NUMBER>, 3, None, 2, 0, False)\n",
      "('DNAME', <DbType DB_TYPE_VARCHAR>, 14, 14, None, None, True)\n",
      "('LOC', <DbType DB_TYPE_VARCHAR>, 13, 13, None, None, True)\n"
     ]
    }
   ],
   "source": [
    "# Metadaten abfragen\n",
    "stmt = \"\"\"SELECT * FROM dept\"\"\"\n",
    "cur = connection.cursor()\n",
    "cur.execute(stmt)\n",
    "for column in cur.description:\n",
    "    print(column)"
   ]
  },
  {
   "cell_type": "code",
   "execution_count": 29,
   "metadata": {},
   "outputs": [
    {
     "name": "stdout",
     "output_type": "stream",
     "text": [
      "   EMPNO   ENAME        JOB  DEPTNO       DNAME       LOC\n",
      "0   7782   CLARK    MANAGER      10  ACCOUNTING  NEW YORK\n",
      "1   7839    KING  PRESIDENT      10  ACCOUNTING  NEW YORK\n",
      "2   7934  MILLER      CLERK      10  ACCOUNTING  NEW YORK\n",
      "3   7369   SMITH      CLERK      20    RESEARCH    DALLAS\n",
      "4   7566   JONES    MANAGER      20    RESEARCH    DALLAS\n"
     ]
    }
   ],
   "source": [
    "import pandas as pd\n",
    "stmt = \"\"\"\n",
    "SELECT \n",
    "  emp.empno, \n",
    "  emp.ename, \n",
    "  emp.job,\n",
    "  emp.deptno,\n",
    "  dept.dname, \n",
    "  dept.loc\n",
    "FROM emp LEFT OUTER JOIN \n",
    "     dept ON (emp.deptno = dept.deptno)\n",
    "\"\"\"\n",
    "df = pd.read_sql_query(stmt, connection)\n",
    "\n",
    "# Verify that result of SQL query is stored in the dataframe\n",
    "print(df.head())\n"
   ]
  },
  {
   "cell_type": "code",
   "execution_count": null,
   "metadata": {},
   "outputs": [],
   "source": []
  }
 ],
 "metadata": {
  "deepnote": {
   "is_reactive": false
  },
  "deepnote_execution_queue": [],
  "deepnote_notebook_id": "a4630a71-0f8a-48d1-a8df-69289b5d25b1",
  "kernelspec": {
   "display_name": "Python 3",
   "language": "python",
   "name": "python3"
  },
  "language_info": {
   "codemirror_mode": {
    "name": "ipython",
    "version": 3
   },
   "file_extension": ".py",
   "mimetype": "text/x-python",
   "name": "python",
   "nbconvert_exporter": "python",
   "pygments_lexer": "ipython3",
   "version": "3.7.6"
  }
 },
 "nbformat": 4,
 "nbformat_minor": 2
}
