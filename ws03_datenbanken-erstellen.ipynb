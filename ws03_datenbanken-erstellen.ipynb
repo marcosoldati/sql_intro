{
 "cells": [
  {
   "cell_type": "markdown",
   "source": "# Workshop 3: Datenbanken erstellen (DML und DDL)\n\n* Schwierigkeit: einfach\n* Prüfungsrelevant: nein\n* Zeitaufwand: 45min\n\nMit der Data Modelling Language (DML) und der Data Definition Language (DDL) werden Datenbanken spezifiziert. Datenbankmodellierung ist ein Spezialgebiet und kann hier nur sehr oberflächlich behandelt werden. Mit einigen grundlegenden Kenntnissen können aber problemlos Datenbanken für den Alltagseinsatz erstellt werden.\n",
   "metadata": {
    "tags": [],
    "cell_id": "00000-9d48d9ba-4f17-4dbc-be06-1b43f2f347b8",
    "deepnote_cell_type": "markdown"
   }
  },
  {
   "cell_type": "code",
   "metadata": {
    "tags": [],
    "deepnote_to_be_reexecuted": false,
    "source_hash": "7b9b6812",
    "execution_start": 1642063398853,
    "execution_millis": 214,
    "cell_id": "00001-6406b89c-a5d8-455f-bd4a-388a3dae4ef4",
    "deepnote_cell_type": "code"
   },
   "source": "# Hilfsfunktionen laden und ...\nfrom util.sqlite_util import *\nfrom shutil import copyfile\n\n# wir erstellen eine Kopie der chinook-datenbank\ncopyfile(\"./data/chinook.sqlite\", \"./data/chinook_copy.sqlite\")\n\n# ... Test-Datenbank öffnen\npath = get_connection_path(\"chinook_copy.sqlite\")\nconnection = create_connection(path)",
   "outputs": [
    {
     "name": "stdout",
     "text": "Connection to SQLite DB 2.6.0 (./data/chinook_copy.sqlite) successful\n",
     "output_type": "stream"
    }
   ],
   "execution_count": 1
  },
  {
   "cell_type": "markdown",
   "source": "## Data Manipulation Language (DML)\n\nMit DML können Daten in ein existierendes Schema eingefügt, angepasst und gelöscht werden. Die Hauptbefehle sind\n* INSERT \n* UPDATE\n* DELETE\n* (REPLACE) - wird hier nicht behandelt",
   "metadata": {
    "tags": [],
    "cell_id": "00003-880e474a-3800-415b-86f4-5dc60e639e66",
    "deepnote_cell_type": "markdown"
   }
  },
  {
   "cell_type": "markdown",
   "source": "### INSERT",
   "metadata": {
    "tags": [],
    "is_collapsed": false,
    "cell_id": "00004-0f08cf7c-8cb2-49ba-8999-e61459d9de14",
    "deepnote_cell_type": "text-cell-h3"
   }
  },
  {
   "cell_type": "code",
   "metadata": {
    "tags": [],
    "deepnote_to_be_reexecuted": false,
    "source_hash": "a1a89074",
    "execution_start": 1642058847058,
    "execution_millis": 0,
    "cell_id": "00003-92e6e97f-8119-4c6f-9629-dbafe9e0239b",
    "deepnote_cell_type": "code"
   },
   "source": "stmt = \"\"\"\nINSERT INTO artists (name) \nVALUES('Bud Powell');\n\"\"\"\ncur = execute_query(connection, stmt)\n# INSERT hat keinen Rückgabewert",
   "outputs": [],
   "execution_count": null
  },
  {
   "cell_type": "code",
   "metadata": {
    "tags": [],
    "cell_id": "00005-e6b79073-3250-40af-98f4-a9be28dc2a0e",
    "deepnote_to_be_reexecuted": false,
    "source_hash": "e4df99db",
    "execution_start": 1642058847058,
    "execution_millis": 45,
    "deepnote_cell_type": "code"
   },
   "source": "# small helper class\ndef __print_artists():\n    stmt = \"\"\"\n    SELECT\n        ArtistId,\n        Name\n    FROM\n        Artists\n    ORDER BY\n        ArtistId DESC\n    LIMIT 3;\n    \"\"\"\n    cur = execute_query(connection, stmt)\n    print_results(cur)\n\n__print_artists()",
   "outputs": [
    {
     "name": "stdout",
     "text": "['ArtistId', 'Name']\n(292, 'Bud Powell')\n(275, 'Philip Glass Ensemble')\n(274, 'Nash Ensemble')\n",
     "output_type": "stream"
    }
   ],
   "execution_count": null
  },
  {
   "cell_type": "markdown",
   "source": "### UPDATE",
   "metadata": {
    "tags": [],
    "is_collapsed": false,
    "cell_id": "00007-49152ccf-fb8f-4edf-b967-d2d725fb08c4",
    "deepnote_cell_type": "text-cell-h3"
   }
  },
  {
   "cell_type": "code",
   "metadata": {
    "tags": [],
    "cell_id": "00008-0387afb8-08ab-4eb6-ba4f-fcc998facdfe",
    "deepnote_to_be_reexecuted": false,
    "source_hash": "2f3009a2",
    "execution_start": 1642058847102,
    "execution_millis": 2,
    "deepnote_cell_type": "code"
   },
   "source": "stmt = \"\"\"\nUPDATE artists\nSET name = 'Baden Powell'\nWHERE name = 'Bud Powell' \nLIMIT 1;\n\"\"\"\ncur = execute_query(connection, stmt)\n\n__print_artists()",
   "outputs": [
    {
     "name": "stdout",
     "text": "['ArtistId', 'Name']\n(292, 'Baden Powell')\n(275, 'Philip Glass Ensemble')\n(274, 'Nash Ensemble')\n",
     "output_type": "stream"
    }
   ],
   "execution_count": null
  },
  {
   "cell_type": "markdown",
   "source": "### DELETE",
   "metadata": {
    "tags": [],
    "is_collapsed": false,
    "cell_id": "00009-75588d5b-bd8e-4551-81e6-6d18787c0f3a",
    "deepnote_cell_type": "text-cell-h3"
   }
  },
  {
   "cell_type": "code",
   "metadata": {
    "tags": [],
    "cell_id": "00010-2d2ecca6-5ff8-4b85-bd6b-4358a3df681f",
    "deepnote_to_be_reexecuted": false,
    "source_hash": "d5218a82",
    "execution_start": 1642058847102,
    "execution_millis": 48,
    "deepnote_cell_type": "code"
   },
   "source": "stmt = \"\"\"\nDELETE FROM artists\nWHERE name LIKE \"%Powell%\";\n\"\"\"\ncur = execute_query(connection, stmt)\n\n__print_artists()",
   "outputs": [
    {
     "name": "stdout",
     "text": "['ArtistId', 'Name']\n(275, 'Philip Glass Ensemble')\n(274, 'Nash Ensemble')\n(273, 'C. Monteverdi, Nigel Rogers - Chiaroscuro; London Baroque; London Cornett & Sackbu')\n",
     "output_type": "stream"
    }
   ],
   "execution_count": null
  },
  {
   "cell_type": "markdown",
   "source": "### Tabelle kopieren",
   "metadata": {
    "tags": [],
    "is_collapsed": false,
    "cell_id": "00009-a95823cb-53a9-4f9c-abcd-56afac8457e6",
    "deepnote_cell_type": "text-cell-h3"
   }
  },
  {
   "cell_type": "code",
   "metadata": {
    "tags": [],
    "cell_id": "00012-deeb7049-de06-47b3-a08a-2c8d4b14c8f5",
    "deepnote_to_be_reexecuted": false,
    "source_hash": "b1da2241",
    "execution_start": 1642058847146,
    "execution_millis": 19,
    "deepnote_cell_type": "code"
   },
   "source": "# Zuerst verwenden wir DDL, um eine neue, leeere Tabelle zu kreieren\nstmt = \"\"\"\nCREATE TABLE artists_backup(\n   ArtistId INTEGER PRIMARY KEY AUTOINCREMENT,\n   Name NVARCHAR\n);\n\"\"\"\nexecute_query(connection, stmt)\n\n# falls die Tabelle bereits exisitert, gibt es hier eine Fehlermeldung. \n# Um dies zu unterdrücken, kann CREATE TABLE IF NOT EXISTS verwendet werden. Mache ich hier bewusst nicht.\n\n# nun wird die Tabelle 'artists' kopiert\nstmt = \"\"\"\nINSERT INTO artists_backup \nSELECT ArtistId, Name\nFROM artists;\n\"\"\"\nexecute_query(connection, stmt)\n\n# zeige anzahl reihen in artists_Backup\ncur = execute_query(connection, \"SELECT count(*) FROM artists_backup;\")\nprint(cur.fetchone())\n\n# und lösche artists_backup wieder\ncur = execute_query(connection, \"DROP TABLE artists_backup;\")",
   "outputs": [
    {
     "name": "stdout",
     "text": "(274,)\n",
     "output_type": "stream"
    }
   ],
   "execution_count": null
  },
  {
   "cell_type": "markdown",
   "source": "## Data Definition Language\nDDL wird verwendet, um Datenschematas zu erzeugen, ändern und löschen. Die wichtigsten Befehle sind:\n* CREATE TABLE\n* UPDATE TABLE\n* DROP TABLE",
   "metadata": {
    "tags": [],
    "cell_id": "00015-778d0041-e0e9-4d0d-bdf2-92f80fc49c25",
    "deepnote_cell_type": "markdown"
   }
  },
  {
   "cell_type": "code",
   "metadata": {
    "tags": [],
    "cell_id": "00014-1c60ae8e-18bf-47d2-8f30-8aabba9c7f8e",
    "deepnote_to_be_reexecuted": false,
    "source_hash": "433226e3",
    "execution_start": 1642058847166,
    "execution_millis": 5,
    "deepnote_cell_type": "code"
   },
   "source": "# Wir wechseln zur Test-Datenbank\nconnection.close()\n# ... Test-Datenbank öffnen\npath = get_connection_path(\"sql_kurs.sqlite\")\nconnection = create_connection(path)",
   "outputs": [
    {
     "name": "stdout",
     "text": "Connection to SQLite DB 2.6.0 (./data/sql_kurs.sqlite) successful\n",
     "output_type": "stream"
    }
   ],
   "execution_count": null
  },
  {
   "cell_type": "markdown",
   "source": "Folgende Beispieldatenbank wird hier erzeugt\n![Beispielsdatenbank](./img/SQLite-Foreign-Key-Example.png)",
   "metadata": {
    "tags": [],
    "cell_id": "00014-e2cee694-0487-488a-8b40-94ee9309f909",
    "deepnote_cell_type": "markdown"
   }
  },
  {
   "cell_type": "code",
   "metadata": {
    "tags": [],
    "cell_id": "00014-0c79ddd2-45f7-4404-b20b-3b7bbdd00bf7",
    "deepnote_to_be_reexecuted": false,
    "source_hash": "5a629084",
    "execution_start": 1642058847175,
    "execution_millis": 38,
    "deepnote_cell_type": "code"
   },
   "source": "stmt=\"\"\"\nCREATE TABLE supplier_groups (\n\tgroup_id integer PRIMARY KEY,\n\tgroup_name text NOT NULL\n);\n\"\"\"\nexecute_query(connection, stmt)\n\nstmt =\"\"\"\nCREATE TABLE suppliers (\n    supplier_id   INTEGER PRIMARY KEY,\n    supplier_name TEXT    NOT NULL,\n    group_id      INTEGER NOT NULL,\n    FOREIGN KEY (group_id)\n       REFERENCES supplier_groups (group_id) \n);\n\"\"\"\nexecute_query(connection, stmt)\n\n\nprint(show_tables(connection))\nprint(\"\\nDetails zur Tabelle 'suppliers':\")\nprint(desc_table(connection, \"suppliers\"))\n\n",
   "outputs": [
    {
     "name": "stdout",
     "text": "['supplier_groups', 'suppliers']\n\nDetails zur Tabelle 'suppliers':\nCREATE TABLE suppliers (\n    supplier_id   INTEGER PRIMARY KEY,\n    supplier_name TEXT    NOT NULL,\n    group_id      INTEGER NOT NULL,\n    FOREIGN KEY (group_id)\n       REFERENCES supplier_groups (group_id) \n)\n",
     "output_type": "stream"
    }
   ],
   "execution_count": null
  },
  {
   "cell_type": "code",
   "metadata": {
    "tags": [],
    "cell_id": "00017-4538dd08-ac5e-4d48-8bcf-6996139e3db1",
    "deepnote_to_be_reexecuted": false,
    "source_hash": "9b156ef6",
    "execution_start": 1642058847261,
    "execution_millis": 2,
    "deepnote_cell_type": "code"
   },
   "source": "# und wir löschen die Tabellen wieder\nexecute_query(connection, \"drop table if exists supplier_groups\")\nexecute_query(connection, \"drop table if exists suppliers\")\nprint(show_tables(connection))",
   "outputs": [
    {
     "name": "stdout",
     "text": "[]\n",
     "output_type": "stream"
    }
   ],
   "execution_count": null
  },
  {
   "cell_type": "markdown",
   "source": "",
   "metadata": {
    "tags": [],
    "cell_id": "00019-c58ac986-471e-4aef-8d7f-524208a36bfe",
    "deepnote_cell_type": "markdown"
   }
  },
  {
   "cell_type": "markdown",
   "source": "## Aufgabe 13: DDL und DML\n\nGegeben ist folgendes Datenbankschema.\n\n![Datenbank-Schema](./img/SQLite-CREATE-TABLE-example.jpg)\n\n* a) Benutze CREATE TABLE, um das Schema zu erzeugen.\n* b) Fülle die Tabelle mit einigen Beispieldaten mit INSERT INTO\n* c) Lösche die Tabellen mit DROP TABLE\n* d) Zeige alle Contacts mit den zugewiesenen Gruppe in einer Tabelle.",
   "metadata": {
    "tags": [],
    "cell_id": "00019-537d6fe1-e5fb-45f3-b9ba-0d16b2d15c58",
    "deepnote_cell_type": "markdown"
   }
  },
  {
   "cell_type": "code",
   "metadata": {
    "tags": [],
    "cell_id": "00020-676da337-ff31-4e28-ba72-9bd8a7863342",
    "deepnote_to_be_reexecuted": false,
    "source_hash": "8ce65f33",
    "execution_start": 1642058847261,
    "execution_millis": 45,
    "deepnote_cell_type": "code"
   },
   "source": "# c) Lösche die Tabellen mit DROP TABLE\nexecute_query(connection, \"DROP TABLE IF EXISTS groups\")\nexecute_query(connection, \"DROP TABLE IF EXISTS contacts\")\nexecute_query(connection, \"DROP TABLE IF EXISTS contact_groups\")\nprint(show_tables(connection))",
   "outputs": [
    {
     "name": "stdout",
     "text": "[]\n",
     "output_type": "stream"
    }
   ],
   "execution_count": null
  },
  {
   "cell_type": "code",
   "metadata": {
    "tags": [],
    "cell_id": "00019-d4c43dca-58d6-4a3e-bc59-5746c8596d40",
    "deepnote_to_be_reexecuted": false,
    "source_hash": "611a8718",
    "execution_start": 1642058847305,
    "execution_millis": 16,
    "deepnote_cell_type": "code"
   },
   "source": "# a) Benutze CREATE TABLE, um das Schema zu erzeugen.\nstmt = \"\"\"\nCREATE TABLE IF NOT EXISTS contacts (\n\tcontact_id INTEGER PRIMARY KEY,\n\tfirst_name TEXT NOT NULL,\n\tlast_name TEXT NOT NULL,\n\temail TEXT NOT NULL UNIQUE,\n\tphone TEXT NOT NULL UNIQUE\n);\"\"\"\nexecute_query(connection, stmt)\n\n\nstmt = \"\"\"\nCREATE TABLE IF NOT EXISTS groups (\n   group_id INTEGER PRIMARY KEY,\n   name TEXT NOT NULL\n);\"\"\"\nexecute_query(connection, stmt)\n\n\nstmt =\"\"\"\nCREATE TABLE IF NOT EXISTS contact_groups(\n   contact_id INTEGER,\n   group_id INTEGER,\n   PRIMARY KEY (contact_id, group_id),\n   FOREIGN KEY (contact_id) \n      REFERENCES contacts (contact_id) \n         ON DELETE CASCADE \n         ON UPDATE NO ACTION,\n   FOREIGN KEY (group_id) \n      REFERENCES groups (group_id) \n         ON DELETE CASCADE \n         ON UPDATE NO ACTION\n);\"\"\"\nexecute_query(connection, stmt)\nprint(show_tables(connection))\n",
   "outputs": [
    {
     "name": "stdout",
     "text": "['contacts', 'groups', 'contact_groups']\n",
     "output_type": "stream"
    }
   ],
   "execution_count": null
  },
  {
   "cell_type": "code",
   "metadata": {
    "tags": [],
    "cell_id": "00021-9ccaa4da-6719-4271-988b-cf670936323b",
    "deepnote_to_be_reexecuted": false,
    "source_hash": "93a009b4",
    "execution_start": 1642058847365,
    "execution_millis": 2,
    "deepnote_cell_type": "code"
   },
   "source": "# b) Fülle die Tabelle mit einigen Beispieldaten mit INSERT INTO\nstmt = \"\"\"\nINSERT INTO groups (name)\nVALUES (\"privat\"), (\"business\"), (\"familie\"), (\"freizeit\");\"\"\"\nexecute_query(connection, stmt)\ncur = execute_query(connection, \"SELECT * FROM groups;\")\nprint_results(cur)",
   "outputs": [
    {
     "name": "stdout",
     "text": "['group_id', 'name']\n(1, 'privat')\n(2, 'business')\n(3, 'familie')\n(4, 'freizeit')\n",
     "output_type": "stream"
    }
   ],
   "execution_count": null
  },
  {
   "cell_type": "code",
   "metadata": {
    "tags": [],
    "cell_id": "00022-18ee536d-0e07-42be-803a-bc5015f53bef",
    "deepnote_to_be_reexecuted": false,
    "source_hash": "d866831a",
    "execution_start": 1642058847365,
    "execution_millis": 2,
    "deepnote_cell_type": "code"
   },
   "source": "stmt = \"\"\"\nINSERT INTO contacts (first_name, last_name, email, phone)\nVALUES (\"marco\", \"soldati\", \"marco@abc.de\", \"02280808080\"),\n       (\"max\", \"frisch\", \"max@fris.ch\", \"0229911991\"),\n       (\"alain\", \"berset\", \"aberset@ch.ch\", \"032*******\");\n\"\"\"\nexecute_query(connection, stmt)\ncur = execute_query(connection, \"SELECT * FROM contacts;\")\nprint_results(cur)",
   "outputs": [
    {
     "name": "stdout",
     "text": "['contact_id', 'first_name', 'last_name', 'email', 'phone']\n(1, 'marco', 'soldati', 'marco@abc.de', '02280808080')\n(2, 'max', 'frisch', 'max@fris.ch', '0229911991')\n(3, 'alain', 'berset', 'aberset@ch.ch', '032*******')\n",
     "output_type": "stream"
    }
   ],
   "execution_count": null
  },
  {
   "cell_type": "code",
   "metadata": {
    "tags": [],
    "cell_id": "00023-9f3a918e-6d79-451d-ab60-66f707bdc6ca",
    "deepnote_to_be_reexecuted": false,
    "source_hash": "53a7adf7",
    "execution_start": 1642058847412,
    "execution_millis": 3,
    "deepnote_cell_type": "code"
   },
   "source": "stmt = \"\"\"\nINSERT INTO contact_groups (contact_id, group_id)\nVALUES (1, 1),\n       (1, 3),\n       (2, 4),\n       (3, 2);\n\"\"\"\nexecute_query(connection, stmt)\ncur = execute_query(connection, \"SELECT * FROM contact_groups;\")\nprint_results(cur)",
   "outputs": [
    {
     "name": "stdout",
     "text": "['contact_id', 'group_id']\n(1, 1)\n(1, 3)\n(2, 4)\n(3, 2)\n",
     "output_type": "stream"
    }
   ],
   "execution_count": null
  },
  {
   "cell_type": "code",
   "metadata": {
    "tags": [],
    "cell_id": "00024-e06cfd91-94a2-43ee-9c2a-43738618781f",
    "deepnote_to_be_reexecuted": false,
    "source_hash": "c9464e9e",
    "execution_start": 1642058847413,
    "execution_millis": 2,
    "deepnote_cell_type": "code"
   },
   "source": "# d) Zeige alle Contacts mit den zugewiesenen Gruppe in einer Tabelle.\nstmt = \"\"\"\nSELECT contact_id, first_name, last_name, email, phone, g.name FROM \n  contacts c\n    INNER JOIN contact_groups cg USING(contact_id)\n    INNER JOIN groups g USING(group_id)\n;\n\"\"\"\ncur= execute_query(connection, stmt)\nprint_results(cur)",
   "outputs": [
    {
     "name": "stdout",
     "text": "['contact_id', 'first_name', 'last_name', 'email', 'phone', 'name']\n(1, 'marco', 'soldati', 'marco@abc.de', '02280808080', 'privat')\n(1, 'marco', 'soldati', 'marco@abc.de', '02280808080', 'familie')\n(2, 'max', 'frisch', 'max@fris.ch', '0229911991', 'freizeit')\n(3, 'alain', 'berset', 'aberset@ch.ch', '032*******', 'business')\n",
     "output_type": "stream"
    }
   ],
   "execution_count": null
  },
  {
   "cell_type": "code",
   "metadata": {
    "tags": [],
    "cell_id": "00025-c7334ca4-e637-4bd6-95d9-ad7191c76734",
    "deepnote_to_be_reexecuted": false,
    "source_hash": "585f7174",
    "execution_start": 1642058847453,
    "execution_millis": 2,
    "deepnote_cell_type": "code"
   },
   "source": "# und wir löschen die Tabellen wieder\nexecute_query(connection, \"drop table if exists contact_groups\")\nexecute_query(connection, \"drop table if exists contacts\")\nexecute_query(connection, \"drop table if exists groups\")\nprint(show_tables(connection))",
   "outputs": [
    {
     "name": "stdout",
     "text": "[]\n",
     "output_type": "stream"
    }
   ],
   "execution_count": null
  },
  {
   "cell_type": "markdown",
   "source": "<a style='text-decoration:none;line-height:16px;display:flex;color:#5B5B62;padding:10px;justify-content:end;' href='https://deepnote.com?utm_source=created-in-deepnote-cell&projectId=0715ae06-549d-47db-ade6-5afadbf2cba1' target=\"_blank\">\n<img alt='Created in deepnote.com' style='display:inline;max-height:16px;margin:0px;margin-right:7.5px;' src='data:image/svg+xml;base64,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' > </img>\nCreated in <span style='font-weight:600;margin-left:4px;'>Deepnote</span></a>",
   "metadata": {
    "tags": [],
    "created_in_deepnote_cell": true,
    "deepnote_cell_type": "markdown"
   }
  }
 ],
 "nbformat": 4,
 "nbformat_minor": 2,
 "metadata": {
  "orig_nbformat": 2,
  "deepnote": {
   "is_reactive": false
  },
  "deepnote_notebook_id": "2f9cf29c-bc8c-49b5-8885-ebacf4e971c5",
  "deepnote_execution_queue": []
 }
}