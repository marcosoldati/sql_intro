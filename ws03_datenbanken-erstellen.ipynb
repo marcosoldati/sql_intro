{
 "cells": [
  {
   "cell_type": "markdown",
   "metadata": {
    "cell_id": "00000-9d48d9ba-4f17-4dbc-be06-1b43f2f347b8",
    "deepnote_cell_type": "markdown",
    "tags": []
   },
   "source": [
    "# Workshop 3: Datenbanken erstellen (DML und DDL)\n",
    "\n",
    "* Schwierigkeit: einfach\n",
    "* Prüfungsrelevant: nein\n",
    "* Zeitaufwand: 45min\n",
    "\n",
    "Mit der Data Modelling Language (DML) und der Data Definition Language (DDL) werden Datenbanken spezifiziert. Datenbankmodellierung ist ein Spezialgebiet und kann hier nur sehr oberflächlich behandelt werden. Mit einigen grundlegenden Kenntnissen können aber problemlos Datenbanken für den Alltagseinsatz erstellt werden.\n"
   ]
  },
  {
   "cell_type": "code",
   "execution_count": 1,
   "metadata": {
    "cell_id": "00001-6406b89c-a5d8-455f-bd4a-388a3dae4ef4",
    "deepnote_cell_type": "code",
    "deepnote_to_be_reexecuted": false,
    "execution_millis": 214,
    "execution_start": 1642063398853,
    "source_hash": "7b9b6812",
    "tags": []
   },
   "outputs": [
    {
     "name": "stdout",
     "output_type": "stream",
     "text": [
      "Connection to SQLite DB 2.6.0 (./data/chinook_copy.sqlite) successful\n"
     ]
    }
   ],
   "source": [
    "# Hilfsfunktionen laden und ...\n",
    "from util.sqlite_util import *\n",
    "from shutil import copyfile\n",
    "\n",
    "# wir erstellen eine Kopie der chinook-datenbank\n",
    "copyfile(\"./data/chinook.sqlite\", \"./data/chinook_copy.sqlite\")\n",
    "\n",
    "# ... Test-Datenbank öffnen\n",
    "path = get_connection_path(\"chinook_copy.sqlite\")\n",
    "connection = create_connection(path)"
   ]
  },
  {
   "cell_type": "markdown",
   "metadata": {
    "cell_id": "00003-880e474a-3800-415b-86f4-5dc60e639e66",
    "deepnote_cell_type": "markdown",
    "tags": []
   },
   "source": [
    "## 1. Data Manipulation Language (DML)\n",
    "\n",
    "Mit DML können Daten in ein existierendes Schema eingefügt, angepasst und gelöscht werden. Die Hauptbefehle sind\n",
    "* INSERT \n",
    "* UPDATE\n",
    "* DELETE\n",
    "* (REPLACE) - wird hier nicht behandelt"
   ]
  },
  {
   "attachments": {
    "3fdae6e4-b2f7-4313-b8b1-dac939052fcc.png": {
     "image/png": "[encoded data removed]"
    }
   },
   "cell_type": "markdown",
   "metadata": {
    "cell_id": "00004-0f08cf7c-8cb2-49ba-8999-e61459d9de14",
    "deepnote_cell_type": "text-cell-h3",
    "is_collapsed": false,
    "tags": []
   },
   "source": [
    "### INSERT\n",
    "\n",
    "``` sql\n",
    "INSERT INTO table (column1,column2 ,..)\n",
    "VALUES( value1, value2 ,...);\n",
    "``` \n",
    "\n",
    "Beispiel 1.1:  INSERT in die Tabelle `artist`\n",
    "\n",
    "![image.png](attachment:3fdae6e4-b2f7-4313-b8b1-dac939052fcc.png)\n",
    "\n",
    "ArtistId wird automatisch gesetzt (AUTO INCREMENT)\n"
   ]
  },
  {
   "cell_type": "code",
   "execution_count": null,
   "metadata": {
    "cell_id": "00003-92e6e97f-8119-4c6f-9629-dbafe9e0239b",
    "deepnote_cell_type": "code",
    "deepnote_to_be_reexecuted": false,
    "execution_millis": 0,
    "execution_start": 1642058847058,
    "source_hash": "a1a89074",
    "tags": []
   },
   "outputs": [],
   "source": [
    "stmt = \"\"\"\n",
    "INSERT INTO artists (name) \n",
    "VALUES('Bud Powell');\n",
    "\"\"\"\n",
    "cur = execute_query(connection, stmt)\n",
    "# INSERT hat keinen Rückgabewert"
   ]
  },
  {
   "cell_type": "code",
   "execution_count": null,
   "metadata": {
    "cell_id": "00005-e6b79073-3250-40af-98f4-a9be28dc2a0e",
    "deepnote_cell_type": "code",
    "deepnote_to_be_reexecuted": false,
    "execution_millis": 45,
    "execution_start": 1642058847058,
    "source_hash": "e4df99db",
    "tags": []
   },
   "outputs": [
    {
     "name": "stdout",
     "output_type": "stream",
     "text": [
      "['ArtistId', 'Name']\n",
      "(292, 'Bud Powell')\n",
      "(275, 'Philip Glass Ensemble')\n",
      "(274, 'Nash Ensemble')\n"
     ]
    }
   ],
   "source": [
    "# small helper class\n",
    "def __print_artists():\n",
    "    stmt = \"\"\"\n",
    "    SELECT\n",
    "        ArtistId,\n",
    "        Name\n",
    "    FROM\n",
    "        Artists\n",
    "    ORDER BY\n",
    "        ArtistId DESC\n",
    "    LIMIT 3;\n",
    "    \"\"\"\n",
    "    cur = execute_query(connection, stmt)\n",
    "    print_results(cur)\n",
    "\n",
    "__print_artists()"
   ]
  },
  {
   "cell_type": "code",
   "execution_count": null,
   "metadata": {},
   "outputs": [],
   "source": [
    "# Beispiel 1.2; es geht auch mit mehreren Datensätzen\n",
    "stmt = \"\"\"\n",
    "INSERT INTO artists (name) \n",
    "VALUES \n",
    "  (\"Buddy Rich\"), \n",
    "  (\"Candido\"), \n",
    "  (\"Charlie Byrd\");\n",
    "\"\"\""
   ]
  },
  {
   "cell_type": "markdown",
   "metadata": {
    "cell_id": "00007-49152ccf-fb8f-4edf-b967-d2d725fb08c4",
    "deepnote_cell_type": "text-cell-h3",
    "is_collapsed": false,
    "tags": []
   },
   "source": [
    "### UPDATE\n",
    "\n",
    "Mit UPDATE können bestehende Datensätze aktualisiert werden. "
   ]
  },
  {
   "cell_type": "code",
   "execution_count": null,
   "metadata": {
    "cell_id": "00008-0387afb8-08ab-4eb6-ba4f-fcc998facdfe",
    "deepnote_cell_type": "code",
    "deepnote_to_be_reexecuted": false,
    "execution_millis": 2,
    "execution_start": 1642058847102,
    "source_hash": "2f3009a2",
    "tags": []
   },
   "outputs": [
    {
     "name": "stdout",
     "output_type": "stream",
     "text": [
      "['ArtistId', 'Name']\n",
      "(292, 'Baden Powell')\n",
      "(275, 'Philip Glass Ensemble')\n",
      "(274, 'Nash Ensemble')\n"
     ]
    }
   ],
   "source": [
    "stmt = \"\"\"\n",
    "UPDATE artists\n",
    "SET name = 'Baden Powell'\n",
    "WHERE name = 'Bud Powell' \n",
    "LIMIT 1;\n",
    "\"\"\"\n",
    "cur = execute_query(connection, stmt)\n",
    "\n",
    "__print_artists()"
   ]
  },
  {
   "cell_type": "markdown",
   "metadata": {
    "cell_id": "00009-75588d5b-bd8e-4551-81e6-6d18787c0f3a",
    "deepnote_cell_type": "text-cell-h3",
    "is_collapsed": false,
    "tags": []
   },
   "source": [
    "### DELETE"
   ]
  },
  {
   "cell_type": "code",
   "execution_count": null,
   "metadata": {
    "cell_id": "00010-2d2ecca6-5ff8-4b85-bd6b-4358a3df681f",
    "deepnote_cell_type": "code",
    "deepnote_to_be_reexecuted": false,
    "execution_millis": 48,
    "execution_start": 1642058847102,
    "source_hash": "d5218a82",
    "tags": []
   },
   "outputs": [
    {
     "name": "stdout",
     "output_type": "stream",
     "text": [
      "['ArtistId', 'Name']\n",
      "(275, 'Philip Glass Ensemble')\n",
      "(274, 'Nash Ensemble')\n",
      "(273, 'C. Monteverdi, Nigel Rogers - Chiaroscuro; London Baroque; London Cornett & Sackbu')\n"
     ]
    }
   ],
   "source": [
    "stmt = \"\"\"\n",
    "DELETE FROM artists\n",
    "WHERE name LIKE \"%Powell%\";\n",
    "\"\"\"\n",
    "cur = execute_query(connection, stmt)\n",
    "\n",
    "__print_artists()"
   ]
  },
  {
   "cell_type": "markdown",
   "metadata": {
    "cell_id": "00009-a95823cb-53a9-4f9c-abcd-56afac8457e6",
    "deepnote_cell_type": "text-cell-h3",
    "is_collapsed": false,
    "tags": []
   },
   "source": [
    "### Tabelle kopieren"
   ]
  },
  {
   "cell_type": "code",
   "execution_count": null,
   "metadata": {
    "cell_id": "00012-deeb7049-de06-47b3-a08a-2c8d4b14c8f5",
    "deepnote_cell_type": "code",
    "deepnote_to_be_reexecuted": false,
    "execution_millis": 19,
    "execution_start": 1642058847146,
    "source_hash": "b1da2241",
    "tags": []
   },
   "outputs": [
    {
     "name": "stdout",
     "output_type": "stream",
     "text": [
      "(274,)\n"
     ]
    }
   ],
   "source": [
    "# Zuerst verwenden wir DDL, um eine neue, leeere Tabelle zu kreieren\n",
    "stmt = \"\"\"\n",
    "CREATE TABLE artists_backup(\n",
    "   ArtistId INTEGER PRIMARY KEY AUTOINCREMENT,\n",
    "   Name NVARCHAR\n",
    ");\n",
    "\"\"\"\n",
    "execute_query(connection, stmt)\n",
    "\n",
    "# falls die Tabelle bereits exisitert, gibt es hier eine Fehlermeldung. \n",
    "# Um dies zu unterdrücken, kann CREATE TABLE IF NOT EXISTS verwendet werden. Mache ich hier bewusst nicht.\n",
    "\n",
    "# nun wird die Tabelle 'artists' kopiert\n",
    "stmt = \"\"\"\n",
    "INSERT INTO artists_backup \n",
    "SELECT ArtistId, Name\n",
    "FROM artists;\n",
    "\"\"\"\n",
    "execute_query(connection, stmt)\n",
    "\n",
    "# zeige anzahl reihen in artists_Backup\n",
    "cur = execute_query(connection, \"SELECT count(*) FROM artists_backup;\")\n",
    "print(cur.fetchone())\n",
    "\n",
    "# und lösche artists_backup wieder\n",
    "cur = execute_query(connection, \"DROP TABLE artists_backup;\")"
   ]
  },
  {
   "cell_type": "markdown",
   "metadata": {
    "cell_id": "00015-778d0041-e0e9-4d0d-bdf2-92f80fc49c25",
    "deepnote_cell_type": "markdown",
    "tags": []
   },
   "source": [
    "## Data Definition Language\n",
    "DDL wird verwendet, um Datenschematas zu erzeugen, ändern und löschen. Die wichtigsten Befehle sind:\n",
    "* CREATE TABLE\n",
    "* UPDATE TABLE\n",
    "* DROP TABLE"
   ]
  },
  {
   "cell_type": "code",
   "execution_count": null,
   "metadata": {
    "cell_id": "00014-1c60ae8e-18bf-47d2-8f30-8aabba9c7f8e",
    "deepnote_cell_type": "code",
    "deepnote_to_be_reexecuted": false,
    "execution_millis": 5,
    "execution_start": 1642058847166,
    "source_hash": "433226e3",
    "tags": []
   },
   "outputs": [
    {
     "name": "stdout",
     "output_type": "stream",
     "text": [
      "Connection to SQLite DB 2.6.0 (./data/sql_kurs.sqlite) successful\n"
     ]
    }
   ],
   "source": [
    "# Wir wechseln zur Test-Datenbank\n",
    "connection.close()\n",
    "# ... Test-Datenbank öffnen\n",
    "path = get_connection_path(\"sql_kurs.sqlite\")\n",
    "connection = create_connection(path)"
   ]
  },
  {
   "cell_type": "markdown",
   "metadata": {
    "cell_id": "00014-e2cee694-0487-488a-8b40-94ee9309f909",
    "deepnote_cell_type": "markdown",
    "tags": []
   },
   "source": [
    "Folgende Beispieldatenbank wird hier erzeugt\n",
    "![Beispielsdatenbank](./img/SQLite-Foreign-Key-Example.png)"
   ]
  },
  {
   "cell_type": "code",
   "execution_count": null,
   "metadata": {
    "cell_id": "00014-0c79ddd2-45f7-4404-b20b-3b7bbdd00bf7",
    "deepnote_cell_type": "code",
    "deepnote_to_be_reexecuted": false,
    "execution_millis": 38,
    "execution_start": 1642058847175,
    "source_hash": "5a629084",
    "tags": []
   },
   "outputs": [
    {
     "name": "stdout",
     "output_type": "stream",
     "text": [
      "['supplier_groups', 'suppliers']\n",
      "\n",
      "Details zur Tabelle 'suppliers':\n",
      "CREATE TABLE suppliers (\n",
      "    supplier_id   INTEGER PRIMARY KEY,\n",
      "    supplier_name TEXT    NOT NULL,\n",
      "    group_id      INTEGER NOT NULL,\n",
      "    FOREIGN KEY (group_id)\n",
      "       REFERENCES supplier_groups (group_id) \n",
      ")\n"
     ]
    }
   ],
   "source": [
    "stmt=\"\"\"\n",
    "CREATE TABLE supplier_groups (\n",
    "\tgroup_id integer PRIMARY KEY,\n",
    "\tgroup_name text NOT NULL\n",
    ");\n",
    "\"\"\"\n",
    "execute_query(connection, stmt)\n",
    "\n",
    "stmt =\"\"\"\n",
    "CREATE TABLE suppliers (\n",
    "    supplier_id   INTEGER PRIMARY KEY,\n",
    "    supplier_name TEXT    NOT NULL,\n",
    "    group_id      INTEGER NOT NULL,\n",
    "    FOREIGN KEY (group_id)\n",
    "       REFERENCES supplier_groups (group_id) \n",
    ");\n",
    "\"\"\"\n",
    "execute_query(connection, stmt)\n",
    "\n",
    "\n",
    "print(show_tables(connection))\n",
    "print(\"\\nDetails zur Tabelle 'suppliers':\")\n",
    "print(desc_table(connection, \"suppliers\"))\n",
    "\n"
   ]
  },
  {
   "cell_type": "code",
   "execution_count": null,
   "metadata": {
    "cell_id": "00017-4538dd08-ac5e-4d48-8bcf-6996139e3db1",
    "deepnote_cell_type": "code",
    "deepnote_to_be_reexecuted": false,
    "execution_millis": 2,
    "execution_start": 1642058847261,
    "source_hash": "9b156ef6",
    "tags": []
   },
   "outputs": [
    {
     "name": "stdout",
     "output_type": "stream",
     "text": [
      "[]\n"
     ]
    }
   ],
   "source": [
    "# und wir löschen die Tabellen wieder\n",
    "execute_query(connection, \"drop table if exists supplier_groups\")\n",
    "execute_query(connection, \"drop table if exists suppliers\")\n",
    "print(show_tables(connection))"
   ]
  },
  {
   "cell_type": "markdown",
   "metadata": {
    "cell_id": "00019-c58ac986-471e-4aef-8d7f-524208a36bfe",
    "deepnote_cell_type": "markdown",
    "tags": []
   },
   "source": []
  },
  {
   "cell_type": "markdown",
   "metadata": {
    "cell_id": "00019-537d6fe1-e5fb-45f3-b9ba-0d16b2d15c58",
    "deepnote_cell_type": "markdown",
    "tags": []
   },
   "source": [
    "## Aufgabe 13: DDL und DML\n",
    "\n",
    "Gegeben ist folgendes Datenbankschema.\n",
    "\n",
    "![Datenbank-Schema](./img/SQLite-CREATE-TABLE-example.jpg)\n",
    "\n",
    "* a) Benutze CREATE TABLE, um das Schema zu erzeugen.\n",
    "* b) Fülle die Tabelle mit einigen Beispieldaten mit INSERT INTO\n",
    "* c) Lösche die Tabellen mit DROP TABLE\n",
    "* d) Zeige alle Contacts mit den zugewiesenen Gruppe in einer Tabelle."
   ]
  },
  {
   "cell_type": "code",
   "execution_count": null,
   "metadata": {
    "cell_id": "00020-676da337-ff31-4e28-ba72-9bd8a7863342",
    "deepnote_cell_type": "code",
    "deepnote_to_be_reexecuted": false,
    "execution_millis": 45,
    "execution_start": 1642058847261,
    "source_hash": "8ce65f33",
    "tags": []
   },
   "outputs": [
    {
     "name": "stdout",
     "output_type": "stream",
     "text": [
      "[]\n"
     ]
    }
   ],
   "source": [
    "# c) Lösche die Tabellen mit DROP TABLE\n",
    "execute_query(connection, \"DROP TABLE IF EXISTS groups\")\n",
    "execute_query(connection, \"DROP TABLE IF EXISTS contacts\")\n",
    "execute_query(connection, \"DROP TABLE IF EXISTS contact_groups\")\n",
    "print(show_tables(connection))"
   ]
  },
  {
   "cell_type": "code",
   "execution_count": null,
   "metadata": {
    "cell_id": "00019-d4c43dca-58d6-4a3e-bc59-5746c8596d40",
    "deepnote_cell_type": "code",
    "deepnote_to_be_reexecuted": false,
    "execution_millis": 16,
    "execution_start": 1642058847305,
    "source_hash": "611a8718",
    "tags": []
   },
   "outputs": [
    {
     "name": "stdout",
     "output_type": "stream",
     "text": [
      "['contacts', 'groups', 'contact_groups']\n"
     ]
    }
   ],
   "source": [
    "# a) Benutze CREATE TABLE, um das Schema zu erzeugen.\n",
    "stmt = \"\"\"\n",
    "CREATE TABLE IF NOT EXISTS contacts (\n",
    "\tcontact_id INTEGER PRIMARY KEY,\n",
    "\tfirst_name TEXT NOT NULL,\n",
    "\tlast_name TEXT NOT NULL,\n",
    "\temail TEXT NOT NULL UNIQUE,\n",
    "\tphone TEXT NOT NULL UNIQUE\n",
    ");\"\"\"\n",
    "execute_query(connection, stmt)\n",
    "\n",
    "\n",
    "stmt = \"\"\"\n",
    "CREATE TABLE IF NOT EXISTS groups (\n",
    "   group_id INTEGER PRIMARY KEY,\n",
    "   name TEXT NOT NULL\n",
    ");\"\"\"\n",
    "execute_query(connection, stmt)\n",
    "\n",
    "\n",
    "stmt =\"\"\"\n",
    "CREATE TABLE IF NOT EXISTS contact_groups(\n",
    "   contact_id INTEGER,\n",
    "   group_id INTEGER,\n",
    "   PRIMARY KEY (contact_id, group_id),\n",
    "   FOREIGN KEY (contact_id) \n",
    "      REFERENCES contacts (contact_id) \n",
    "         ON DELETE CASCADE \n",
    "         ON UPDATE NO ACTION,\n",
    "   FOREIGN KEY (group_id) \n",
    "      REFERENCES groups (group_id) \n",
    "         ON DELETE CASCADE \n",
    "         ON UPDATE NO ACTION\n",
    ");\"\"\"\n",
    "execute_query(connection, stmt)\n",
    "print(show_tables(connection))\n"
   ]
  },
  {
   "cell_type": "code",
   "execution_count": null,
   "metadata": {
    "cell_id": "00021-9ccaa4da-6719-4271-988b-cf670936323b",
    "deepnote_cell_type": "code",
    "deepnote_to_be_reexecuted": false,
    "execution_millis": 2,
    "execution_start": 1642058847365,
    "source_hash": "93a009b4",
    "tags": []
   },
   "outputs": [
    {
     "name": "stdout",
     "output_type": "stream",
     "text": [
      "['group_id', 'name']\n",
      "(1, 'privat')\n",
      "(2, 'business')\n",
      "(3, 'familie')\n",
      "(4, 'freizeit')\n"
     ]
    }
   ],
   "source": [
    "# b) Fülle die Tabelle mit einigen Beispieldaten mit INSERT INTO\n",
    "stmt = \"\"\"\n",
    "INSERT INTO groups (name)\n",
    "VALUES (\"privat\"), (\"business\"), (\"familie\"), (\"freizeit\");\"\"\"\n",
    "execute_query(connection, stmt)\n",
    "cur = execute_query(connection, \"SELECT * FROM groups;\")\n",
    "print_results(cur)"
   ]
  },
  {
   "cell_type": "code",
   "execution_count": null,
   "metadata": {
    "cell_id": "00022-18ee536d-0e07-42be-803a-bc5015f53bef",
    "deepnote_cell_type": "code",
    "deepnote_to_be_reexecuted": false,
    "execution_millis": 2,
    "execution_start": 1642058847365,
    "source_hash": "d866831a",
    "tags": []
   },
   "outputs": [
    {
     "name": "stdout",
     "output_type": "stream",
     "text": [
      "['contact_id', 'first_name', 'last_name', 'email', 'phone']\n",
      "(1, 'marco', 'soldati', 'marco@abc.de', '02280808080')\n",
      "(2, 'max', 'frisch', 'max@fris.ch', '0229911991')\n",
      "(3, 'alain', 'berset', 'aberset@ch.ch', '032*******')\n"
     ]
    }
   ],
   "source": [
    "stmt = \"\"\"\n",
    "INSERT INTO contacts (first_name, last_name, email, phone)\n",
    "VALUES (\"marco\", \"soldati\", \"marco@abc.de\", \"02280808080\"),\n",
    "       (\"max\", \"frisch\", \"max@fris.ch\", \"0229911991\"),\n",
    "       (\"alain\", \"berset\", \"aberset@ch.ch\", \"032*******\");\n",
    "\"\"\"\n",
    "execute_query(connection, stmt)\n",
    "cur = execute_query(connection, \"SELECT * FROM contacts;\")\n",
    "print_results(cur)"
   ]
  },
  {
   "cell_type": "code",
   "execution_count": null,
   "metadata": {
    "cell_id": "00023-9f3a918e-6d79-451d-ab60-66f707bdc6ca",
    "deepnote_cell_type": "code",
    "deepnote_to_be_reexecuted": false,
    "execution_millis": 3,
    "execution_start": 1642058847412,
    "source_hash": "53a7adf7",
    "tags": []
   },
   "outputs": [
    {
     "name": "stdout",
     "output_type": "stream",
     "text": [
      "['contact_id', 'group_id']\n",
      "(1, 1)\n",
      "(1, 3)\n",
      "(2, 4)\n",
      "(3, 2)\n"
     ]
    }
   ],
   "source": [
    "stmt = \"\"\"\n",
    "INSERT INTO contact_groups (contact_id, group_id)\n",
    "VALUES (1, 1),\n",
    "       (1, 3),\n",
    "       (2, 4),\n",
    "       (3, 2);\n",
    "\"\"\"\n",
    "execute_query(connection, stmt)\n",
    "cur = execute_query(connection, \"SELECT * FROM contact_groups;\")\n",
    "print_results(cur)"
   ]
  },
  {
   "cell_type": "code",
   "execution_count": null,
   "metadata": {
    "cell_id": "00024-e06cfd91-94a2-43ee-9c2a-43738618781f",
    "deepnote_cell_type": "code",
    "deepnote_to_be_reexecuted": false,
    "execution_millis": 2,
    "execution_start": 1642058847413,
    "source_hash": "c9464e9e",
    "tags": []
   },
   "outputs": [
    {
     "name": "stdout",
     "output_type": "stream",
     "text": [
      "['contact_id', 'first_name', 'last_name', 'email', 'phone', 'name']\n",
      "(1, 'marco', 'soldati', 'marco@abc.de', '02280808080', 'privat')\n",
      "(1, 'marco', 'soldati', 'marco@abc.de', '02280808080', 'familie')\n",
      "(2, 'max', 'frisch', 'max@fris.ch', '0229911991', 'freizeit')\n",
      "(3, 'alain', 'berset', 'aberset@ch.ch', '032*******', 'business')\n"
     ]
    }
   ],
   "source": [
    "# d) Zeige alle Contacts mit den zugewiesenen Gruppe in einer Tabelle.\n",
    "stmt = \"\"\"\n",
    "SELECT contact_id, first_name, last_name, email, phone, g.name FROM \n",
    "  contacts c\n",
    "    INNER JOIN contact_groups cg USING(contact_id)\n",
    "    INNER JOIN groups g USING(group_id)\n",
    ";\n",
    "\"\"\"\n",
    "cur= execute_query(connection, stmt)\n",
    "print_results(cur)"
   ]
  },
  {
   "cell_type": "code",
   "execution_count": null,
   "metadata": {
    "cell_id": "00025-c7334ca4-e637-4bd6-95d9-ad7191c76734",
    "deepnote_cell_type": "code",
    "deepnote_to_be_reexecuted": false,
    "execution_millis": 2,
    "execution_start": 1642058847453,
    "source_hash": "585f7174",
    "tags": []
   },
   "outputs": [
    {
     "name": "stdout",
     "output_type": "stream",
     "text": [
      "[]\n"
     ]
    }
   ],
   "source": [
    "# und wir löschen die Tabellen wieder\n",
    "execute_query(connection, \"drop table if exists contact_groups\")\n",
    "execute_query(connection, \"drop table if exists contacts\")\n",
    "execute_query(connection, \"drop table if exists groups\")\n",
    "print(show_tables(connection))"
   ]
  }
 ],
 "metadata": {
  "deepnote": {
   "is_reactive": false
  },
  "deepnote_execution_queue": [],
  "deepnote_notebook_id": "2f9cf29c-bc8c-49b5-8885-ebacf4e971c5",
  "kernelspec": {
   "display_name": "Python 3 (ipykernel)",
   "language": "python",
   "name": "python3"
  },
  "language_info": {
   "codemirror_mode": {
    "name": "ipython",
    "version": 3
   },
   "file_extension": ".py",
   "mimetype": "text/x-python",
   "name": "python",
   "nbconvert_exporter": "python",
   "pygments_lexer": "ipython3",
   "version": "3.8.12"
  }
 },
 "nbformat": 4,
 "nbformat_minor": 4
}
